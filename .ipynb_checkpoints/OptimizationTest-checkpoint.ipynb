{
 "cells": [
  {
   "cell_type": "code",
   "execution_count": 1,
   "metadata": {
    "colab": {},
    "colab_type": "code",
    "id": "hHqdDh5Bl_uF"
   },
   "outputs": [],
   "source": [
    "import os\n",
    "os.environ[\"OMP_NUM_THREADS\"] = '16'\n",
    "import numpy as np\n",
    "import matplotlib.pyplot as plt\n",
    "import scipy.sparse as sps\n",
    "import random as rdm\n",
    "# import multiprocessing\n",
    "# from multiprocessing import pool\n",
    "# from joblib import Parallel, delayed\n",
    "# from mpi4py import MPI\n",
    "# from functools import reduce\n",
    "import time\n",
    "\n",
    "# comm = MPI.COMM_WORLD\n",
    "# rank = comm.rank\n",
    "# size = comm.size"
   ]
  },
  {
   "cell_type": "code",
   "execution_count": 2,
   "metadata": {},
   "outputs": [],
   "source": [
    "# start_time=time.time()\n",
    "# #test script:\n",
    "# a = np.random.randn(5000, 50000)\n",
    "# b = np.random.randn(50000, 5000)\n",
    "# ran_time=time.time()-start_time\n",
    "# print(\"time to complete random matrix generation was %s seconds\" % ran_time)\n",
    "# np.dot(a, b) #this line should be multi-threaded\n",
    "# print(\"time to complete dot was %s seconds\" % (time.time() - start_time - ran_time))"
   ]
  },
  {
   "cell_type": "markdown",
   "metadata": {},
   "source": [
    "# Generate POVMs"
   ]
  },
  {
   "cell_type": "code",
   "execution_count": 3,
   "metadata": {},
   "outputs": [],
   "source": [
    "def generateM(povm):\n",
    "    Ms = []\n",
    "    if povm == '4Pauli':\n",
    "        \n",
    "        # Eigenvectors\n",
    "        up = np.array([1+0j,0+0j], dtype='complex128')\n",
    "        plus = np.array([1+0j,1+0j], dtype='complex128') / np.sqrt(2)\n",
    "        right = np.array([1+0j,0+1j], dtype='complex128') / np.sqrt(2)\n",
    "        \n",
    "        # 4-Pauli POVMs for a single qubit\n",
    "        M0 = np.outer(up, np.conj(up)) / 3\n",
    "        M1 = np.outer(plus, np.conj(plus)) / 3\n",
    "        M2 = np.outer(right, np.conj(right)) / 3\n",
    "        M3 = np.eye(2, dtype='complex128') - M0 - M1 - M2\n",
    "        \n",
    "        Ms = [M0, M1, M2, M3]\n",
    "        \n",
    "    elif povm == 'Tetra':\n",
    "        \n",
    "        I = np.array([[1,0],[0,1]], dtype='complex128')\n",
    "        X = np.array([[0, 1],[1, 0]], dtype='complex128')\n",
    "        Z = np.array([[1, 0],[0, -1]], dtype='complex128')\n",
    "        Y = np.array([[0, -1j],[1j, 0]], dtype='complex128')\n",
    "        \n",
    "        # Tetra\n",
    "        v1 = np.array([0, 0, 1])\n",
    "        M0 = (I + v1[0]*X + v1[1]*Y + v1[2]*Z)/4\n",
    "        v2 = np.array([2*np.sqrt(2)/3, 0, -1/3])\n",
    "        M1 = (I + v2[0]*X + v2[1]*Y + v2[2]*Z)/4\n",
    "        v3 = np.array([-np.sqrt(2)/3, np.sqrt(2)/3, -1/3])\n",
    "        M2 = (I + v3[0]*X + v3[1]*Y + v3[2]*Z)/4\n",
    "        v4 = np.array([-np.sqrt(2)/3, -np.sqrt(2)/3, -1/3])\n",
    "        M3 = (I + v4[0]*X + v4[1]*Y + v4[2]*Z)/4\n",
    "        \n",
    "        Ms = [M0, M1, M2, M3]\n",
    "    elif povm == 'Pauli':\n",
    "        \n",
    "        def pXp(theta,phi):\n",
    "\n",
    "            return np.array([[ np.cos(theta/2.0)**2, np.cos(theta/2.0)*np.sin(theta/2.0)*np.exp(-1j*phi)],\\\n",
    "                         [ np.cos(theta/2.0)*np.sin(theta/2.0)*np.exp(1j*phi), np.sin(theta/2.0)**2 ]])\n",
    "        \n",
    "        def mXm(theta,phi):\n",
    "\n",
    "            return np.array([[ np.sin(theta/2.0)**2, -np.cos(theta/2.0)*np.sin(theta/2.0)*np.exp(-1j*phi)],\\\n",
    "                         [ -np.cos(theta/2.0)*np.sin(theta/2.0)*np.exp(1j*phi), np.cos(theta/2.0)**2 ]])\n",
    "        \n",
    "        Ps = np.array([1./3., 1./3., 1./3., 1./3.,1./3.,1./3.]);\n",
    "        theta = np.pi/2.0\n",
    "        M0 = Ps[0]*pXp(theta,0.0)\n",
    "        M1 = Ps[1]*mXm(theta,0.0)\n",
    "        M2 = Ps[2]*pXp(theta,np.pi/2.0)\n",
    "        M3 = Ps[3]*mXm(theta,np.pi/2.0)\n",
    "        M4 = Ps[4]*pXp(0.0,0.0)\n",
    "        M5 = Ps[5]*mXm(0,0.0)\n",
    "        \n",
    "        Ms = [M0, M1, M2, M3, M4, M5]\n",
    "        \n",
    "    elif povm == 'Pauli_rebit':\n",
    "        def pXp(theta,phi):\n",
    "\n",
    "            return np.array([[ np.cos(theta/2.0)**2, np.cos(theta/2.0)*np.sin(theta/2.0)*np.exp(-1j*phi)],\\\n",
    "                         [ np.cos(theta/2.0)*np.sin(theta/2.0)*np.exp(1j*phi), np.sin(theta/2.0)**2 ]])\n",
    "        \n",
    "        def mXm(theta,phi):\n",
    "\n",
    "            return np.array([[ np.sin(theta/2.0)**2, -np.cos(theta/2.0)*np.sin(theta/2.0)*np.exp(-1j*phi)],\\\n",
    "                         [ -np.cos(theta/2.0)*np.sin(theta/2.0)*np.exp(1j*phi), np.cos(theta/2.0)**2 ]])\n",
    "        \n",
    "        # pauli_rebit\n",
    "        Ps = np.array([1./2., 1./2., 1./2., 1./2.])\n",
    "        theta = np.pi/2.0\n",
    "        M0 = Ps[0]*pXp(theta,0.0)\n",
    "        M1 = Ps[1]*mXm(theta,0.0)\n",
    "        M2 = Ps[2]*pXp(0.0,0.0)\n",
    "        M3 = Ps[3]*mXm(0,0.0)\n",
    "        \n",
    "        Ms = [M0, M1, M2, M3]\n",
    "    elif povm == 'Trine':\n",
    "        \n",
    "        I = np.array([[1,0],[0,1]], dtype='complex128')\n",
    "        X = np.array([[0, 1],[1, 0]], dtype='complex128')\n",
    "        Z = np.array([[1, 0],[0, -1]], dtype='complex128')\n",
    "        Y = np.array([[0, -1j],[1j, 0]], dtype='complex128')\n",
    "        \n",
    "        # Trine\n",
    "        phi0 = 0\n",
    "        phi1 = 2*np.pi/3\n",
    "        phi2 = 2*2*np.pi/3\n",
    "        M0 = 0.5*(I + np.cos(phi0)*Z + np.sin(phi0)*X)*2/3.0\n",
    "        M1 = 0.5*(I + np.cos(phi1)*Z + np.sin(phi1)*X)*2/3.0\n",
    "        M2 = 0.5*(I + np.cos(phi2)*Z + np.sin(phi2)*X)*2/3.0\n",
    "        \n",
    "        Ms = [M0, M1, M2]\n",
    "    elif povm == 'Psi2':\n",
    "        M0 = np.array([[1,0],[0,0]], dtype='complex128')\n",
    "        M1 = np.array([[0,0],[0,1]], dtype='complex128')\n",
    "        Ms = [M0, M1]\n",
    "    elif povm == 'test':\n",
    "        M0 = np.array([[1,1j],[-1j,0]], dtype='complex128')\n",
    "        M1 = np.array([[0,-1j],[1j,1]], dtype='complex128')\n",
    "        Ms = [M0, M1]\n",
    "    elif povm == 'test2':\n",
    "        M0 = np.array([[1,1j],[-1j,0]], dtype='complex128')\n",
    "        M1 = np.array([[0,-2j],[2j,0]], dtype='complex128')\n",
    "        M2 = np.array([[0,1j],[-1j,1]], dtype='complex128')\n",
    "        Ms = [M0, M1, M2]\n",
    "    else:\n",
    "        raise ValueError('POVM not defined.')\n",
    "    return Ms"
   ]
  },
  {
   "cell_type": "markdown",
   "metadata": {
    "colab_type": "text",
    "id": "9Po0tv6fl_uR"
   },
   "source": [
    "# training set\n",
    "Our training set is a simple Gaussian distribution\n",
    "\n",
    "\n",
    "\n",
    "Only need to change POVM and num_bit.\n",
    "\n",
    "Parameters later will change automatically."
   ]
  },
  {
   "cell_type": "code",
   "execution_count": 4,
   "metadata": {
    "colab": {
     "base_uri": "https://localhost:8080/",
     "height": 265
    },
    "colab_type": "code",
    "id": "Ds9tMSqAl_uU",
    "outputId": "638a16ed-a454-489b-e3fa-8d33e02ea967"
   },
   "outputs": [
    {
     "data": {
      "image/png": "[encoded data removed]",
      "text/plain": [
       "<Figure size 432x288 with 1 Axes>"
      ]
     },
     "metadata": {},
     "output_type": "display_data"
    }
   ],
   "source": [
    "POVM = 'Tetra' # select from 4Pauli, Tetra, Pauli, Pauli_rebit, Trine, Psi2\n",
    "Ms = generateM(POVM)\n",
    "Mlist = Ms[:] # make a copy\n",
    "num_M = len(Ms)\n",
    "\n",
    "def gaussian_pdf(num_bit, mu, sigma):\n",
    "    '''get gaussian distribution function'''\n",
    "    x = np.arange(num_M**num_bit)     # changed to num_M\n",
    "    pl = 1. / np.sqrt(2 * np.pi * sigma**2) * \\\n",
    "        np.exp(-(x - mu)**2 / (2. * sigma**2))\n",
    "    return pl/pl.sum()\n",
    "\n",
    "\n",
    "num_bit = 5\n",
    "pg = gaussian_pdf(num_bit, mu=num_M**num_bit/2, sigma=num_M**(num_bit-1))  \n",
    "plt.plot(pg)\n",
    "plt.show()"
   ]
  },
  {
   "cell_type": "markdown",
   "metadata": {},
   "source": [
    "# Wavefunction"
   ]
  },
  {
   "cell_type": "code",
   "execution_count": 5,
   "metadata": {},
   "outputs": [],
   "source": [
    "# def gen_wavefunction(parameters):\n",
    "#     length = parameters.size\n",
    "#     real = parameters[:length//2]\n",
    "#     imaginary = parameters[length//2:]\n",
    "#     combined = real + 1j * imaginary\n",
    "#     return combined / np.linalg.norm(combined)\n",
    "def gen_densitymatrix(parameters):\n",
    "    length = int(round(np.sqrt(parameters.size)))\n",
    "    matrix = parameters.reshape(length, length)\n",
    "    upper = np.triu(matrix, k=1)\n",
    "    lower = np.tril(matrix, k=-1)\n",
    "    diagnal = np.diag(matrix)\n",
    "    diagnal = diagnal / diagnal.sum()\n",
    "    real = upper + upper.T + np.diag(diagnal)\n",
    "    imaginary = 1j * lower - 1j * lower.T\n",
    "    return real + imaginary"
   ]
  },
  {
   "cell_type": "markdown",
   "metadata": {
    "colab_type": "text",
    "id": "ZyeNb3A3l_uz"
   },
   "source": [
    "# MMD Loss Function\n",
    "As a reminder\n",
    "\\begin{align}\n",
    "    \\mathcal{L} =&  \\left\\|\\sum_{x} p_\\theta(x) \\phi(x)- \\sum_{x} \\pi(x) \\phi(x)  \\right\\|^2 \\\\\n",
    "    =&\\langle K(x,y)\\rangle_{x\\sim p_\\theta, y\\sim p_\\theta}-2\\langle K(x,y)\\rangle_{x\\sim p_\\theta,y\\sim \\pi}+\\langle K(x, y)\\rangle_{x\\sim \\pi,y\\sim \\pi}\n",
    "\\end{align}\n"
   ]
  },
  {
   "cell_type": "code",
   "execution_count": 6,
   "metadata": {
    "colab": {},
    "colab_type": "code",
    "id": "rNaRWyALl_u0"
   },
   "outputs": [],
   "source": [
    "class RBFMMD2(object):\n",
    "    '''\n",
    "    MMD^2 with RBF (Gaussian) kernel.\n",
    "    \n",
    "    Args:\n",
    "        sigma_list (list): a list of bandwidths.\n",
    "        basis (1darray): defininng space.\n",
    "      \n",
    "    Attributes:\n",
    "        K (2darray): full kernel matrix, notice the Hilbert is countable.\n",
    "    '''\n",
    "    def __init__(self, sigma_list, basis):\n",
    "        self.sigma_list = sigma_list\n",
    "        self.basis = basis\n",
    "        self.K = mix_rbf_kernel(basis, basis, self.sigma_list)\n",
    "\n",
    "    def __call__(self, px, py):\n",
    "        '''\n",
    "        Args:\n",
    "            px (1darray, default=None): probability for data set x, used only when self.is_exact==True.\n",
    "            py (1darray, default=None): same as px, but for data set y.\n",
    "\n",
    "        Returns:\n",
    "            float: loss.\n",
    "        '''\n",
    "        pxy = px-py\n",
    "        return self.kernel_expect(pxy, pxy)\n",
    "\n",
    "    def kernel_expect(self, px, py):\n",
    "        '''\n",
    "        expectation value of kernel function.\n",
    "        \n",
    "        Args:\n",
    "            px (1darray): the first PDF.\n",
    "            py (1darray): the second PDF.\n",
    "            \n",
    "        Returns:\n",
    "            float: kernel expectation.\n",
    "        '''\n",
    "        #return px.dot(self.K).dot(py)\n",
    "        return px.dot(py)\n",
    "\n",
    "def mix_rbf_kernel(x, y, sigma_list):\n",
    "    '''\n",
    "    multi-RBF kernel.\n",
    "    \n",
    "    Args:\n",
    "        x (1darray|2darray): the collection of samples A.\n",
    "        x (1darray|2darray): the collection of samples B.\n",
    "        sigma_list (list): a list of bandwidths.\n",
    "        \n",
    "    Returns:\n",
    "        2darray: kernel matrix.\n",
    "    '''\n",
    "    ndim = x.ndim\n",
    "    if ndim == 1:\n",
    "        exponent = np.abs(x[:, None] - y[None, :])**2\n",
    "    elif ndim == 2:\n",
    "        exponent = ((x[:, None, :] - y[None, :, :])**2).sum(axis=2)\n",
    "    else:\n",
    "        raise\n",
    "    K = 0.0\n",
    "    for sigma in sigma_list:\n",
    "        gamma = 1.0 / (2 * sigma)\n",
    "        K = K + np.exp(-gamma * exponent)\n",
    "    return K"
   ]
  },
  {
   "cell_type": "code",
   "execution_count": 7,
   "metadata": {
    "colab": {
     "base_uri": "https://localhost:8080/",
     "height": 50
    },
    "colab_type": "code",
    "id": "rqgpurrWjasl",
    "outputId": "55cd424d-bf68-4ad8-c0f2-5057ae8ad287"
   },
   "outputs": [
    {
     "name": "stdout",
     "output_type": "stream",
     "text": [
      "Exact Match -> MMD = 0.0000\n",
      "Not Match -> MMD = 0.0006\n"
     ]
    }
   ],
   "source": [
    "hndim = num_M**num_bit\n",
    "# mmd loss\n",
    "mmd = RBFMMD2(sigma_list=[0.25,4], basis=np.arange(num_M**num_bit))   # changed to num_M\n",
    "\n",
    "# when exact match, MMD loss should be 0, e.g. two gaussians\n",
    "print('Exact Match -> MMD = %.4f'%mmd(pg, pg))\n",
    "# when not match, loss is not zero\n",
    "prand = np.random.random(len(pg))\n",
    "print('Not Match -> MMD = %.4f'%mmd(prand/prand.sum(), pg))"
   ]
  },
  {
   "cell_type": "markdown",
   "metadata": {},
   "source": [
    "# Tensorproduct of matrices"
   ]
  },
  {
   "cell_type": "code",
   "execution_count": 8,
   "metadata": {
    "colab": {},
    "colab_type": "code",
    "id": "eBnfjq3UmME3"
   },
   "outputs": [],
   "source": [
    "# make tensor product of POVMs\n",
    "def tensorproduct(matrix1, matrix2):\n",
    "    dim = matrix1.shape[0] * matrix2.shape[0]\n",
    "    \n",
    "    # has to reverse the order otherwise doesn't work\n",
    "    return np.tensordot(matrix2, matrix1, axes = 0).swapaxes(1, 2).reshape(dim, dim)"
   ]
  },
  {
   "cell_type": "code",
   "execution_count": 9,
   "metadata": {
    "colab": {},
    "colab_type": "code",
    "id": "qXC8ZvZamMHt"
   },
   "outputs": [
    {
     "data": {
      "text/plain": [
       "1024"
      ]
     },
     "execution_count": 9,
     "metadata": {},
     "output_type": "execute_result"
    }
   ],
   "source": [
    "for i in range(num_bit - 1):  # minus one because we initialized above\n",
    "    Mlisttemp = []\n",
    "    for m2 in Mlist:\n",
    "        for m1 in Ms:\n",
    "            Mlisttemp.append(tensorproduct(m1, m2))\n",
    "    Mlist = Mlisttemp\n",
    "# rdm.shuffle(Mlist)\n",
    "Mlist[0].size"
   ]
  },
  {
   "cell_type": "code",
   "execution_count": 10,
   "metadata": {
    "colab": {},
    "colab_type": "code",
    "id": "lScVOAdFpyMA"
   },
   "outputs": [],
   "source": [
    "# # expectation value of POVMs, i.e. probabilities\n",
    "# def probability(parameters):\n",
    "#     wavefunction = gen_wavefunction(parameters)\n",
    "#     problist = []\n",
    "#     for m in Mlist:\n",
    "#         problist.append(np.real(np.conj(wavefunction) @ m @ wavefunction)) # wf.H@M@wf\n",
    "#         #problist.append(np.real(np.trace(np.outer(wavefunction, np.conj(wavefunction)@m)))) #trace(wf@wf.H@M)\n",
    "#     return np.array(problist)\n",
    "\n",
    "# expectation value of POVMs, i.e. probabilities\n",
    "def probability(parameters):\n",
    "    densitymatrix = gen_densitymatrix(parameters)\n",
    "    problist = []\n",
    "    for m in Mlist:\n",
    "        problist.append(np.real(np.trace(densitymatrix@m))) #trace(p@M)\n",
    "    return np.array(problist)"
   ]
  },
  {
   "cell_type": "code",
   "execution_count": 11,
   "metadata": {
    "colab": {},
    "colab_type": "code",
    "id": "Jcx_pAwtpyZs"
   },
   "outputs": [],
   "source": [
    "def mmd_loss(parameters):\n",
    "    return mmd(pg, probability(parameters))"
   ]
  },
  {
   "cell_type": "code",
   "execution_count": null,
   "metadata": {
    "colab": {},
    "colab_type": "code",
    "id": "EmfkpSJFpych"
   },
   "outputs": [],
   "source": []
  },
  {
   "cell_type": "code",
   "execution_count": null,
   "metadata": {
    "colab": {},
    "colab_type": "code",
    "id": "Dw5NEpTnpyfT"
   },
   "outputs": [],
   "source": []
  },
  {
   "cell_type": "code",
   "execution_count": null,
   "metadata": {
    "colab": {},
    "colab_type": "code",
    "id": "eIUCmGcKpyiE"
   },
   "outputs": [],
   "source": []
  },
  {
   "cell_type": "code",
   "execution_count": null,
   "metadata": {
    "colab": {},
    "colab_type": "code",
    "id": "XjLZ4etdpykh"
   },
   "outputs": [],
   "source": []
  },
  {
   "cell_type": "code",
   "execution_count": 12,
   "metadata": {
    "colab": {
     "base_uri": "https://localhost:8080/",
     "height": 320
    },
    "colab_type": "code",
    "id": "fsOlbsLBl_u8",
    "outputId": "c8262dde-c497-4322-fea9-f3392582ec95"
   },
   "outputs": [
    {
     "name": "stdout",
     "output_type": "stream",
     "text": [
      "1024\n",
      "(0.9999999999999999+0j)\n"
     ]
    },
    {
     "data": {
      "image/png": "[encoded data removed]",
      "text/plain": [
       "<Figure size 432x288 with 1 Axes>"
      ]
     },
     "metadata": {},
     "output_type": "display_data"
    },
    {
     "name": "stdout",
     "output_type": "stream",
     "text": [
      "MMD loss for Initial Circuit = 1.1765\n"
     ]
    },
    {
     "data": {
      "text/plain": [
       "0.9999999999999991"
      ]
     },
     "execution_count": 12,
     "metadata": {},
     "output_type": "execute_result"
    }
   ],
   "source": [
    "#theta_list = np.random.random(2*2**num_bit)\n",
    "theta_list = np.random.random(2**(2*num_bit))\n",
    "print(theta_list.size)\n",
    "print(np.trace(gen_densitymatrix(theta_list)))\n",
    "p = probability(theta_list)\n",
    "plt.plot(p)\n",
    "plt.show()\n",
    "print('MMD loss for Initial Circuit = %.4f'%mmd_loss(theta_list))\n",
    "p.sum()"
   ]
  },
  {
   "cell_type": "markdown",
   "metadata": {
    "colab_type": "text",
    "id": "u7m6D8jBl_vE"
   },
   "source": [
    "# Training\n",
    "In this basic introduction, I prepaired classical training method like `Adam` and `L-BFGS-B` (as well as other methods supported by scipy)."
   ]
  },
  {
   "cell_type": "code",
   "execution_count": 13,
   "metadata": {
    "colab": {},
    "colab_type": "code",
    "id": "jtvCimfRl_vF"
   },
   "outputs": [],
   "source": [
    "  def train(theta_list, method, max_iter=1000, step_rate=0.1):\n",
    "        \n",
    "    step = [0]\n",
    "    def callback(x, *args, **kwargs):\n",
    "        step[0] += 1\n",
    "        print('step = %d, loss = %s'%(step[0], mmd_loss(x)))\n",
    "        \n",
    "    theta_list = np.array(theta_list)\n",
    "    if method == 'Adam':\n",
    "        try:\n",
    "            from climin import Adam\n",
    "        except:\n",
    "            !pip install git+https://github.com/BRML/climin.git\n",
    "            from climin import Adam\n",
    "        optimizer = Adam(wrt=theta_list, fprime=bm.gradient,step_rate=step_rate)\n",
    "        for info in optimizer:\n",
    "            callback(theta_list)\n",
    "            if step[0] == max_iter:\n",
    "                break\n",
    "        return bm.mmd_loss(theta_list), theta_list\n",
    "    else:\n",
    "        from scipy.optimize import minimize\n",
    "        res = minimize(mmd_loss, x0=theta_list,\n",
    "                       method=method, jac = '2-point', tol=1e-15, # was -12\n",
    "                       options={'maxiter': max_iter, 'disp': 0, 'gtol':1e-15, 'ftol':0}, # was -10\n",
    "                       callback=callback,\n",
    "                       )\n",
    "        return res.fun, res.x"
   ]
  },
  {
   "cell_type": "code",
   "execution_count": 14,
   "metadata": {
    "colab": {},
    "colab_type": "code",
    "id": "-AqBAGQll_vH"
   },
   "outputs": [
    {
     "data": {
      "image/png": "[encoded data removed]",
      "text/plain": [
       "<Figure size 432x288 with 1 Axes>"
      ]
     },
     "metadata": {},
     "output_type": "display_data"
    },
    {
     "data": {
      "text/plain": [
       "array([[0.39170513, 0.84607337, 0.99762902, ..., 0.26462333, 0.84356869,\n",
       "        0.25660728],\n",
       "       [0.17130876, 0.01950191, 0.64868111, ..., 0.11329903, 0.09701201,\n",
       "        0.48565724],\n",
       "       [0.79741981, 0.05668632, 0.10561124, ..., 0.90491208, 0.51106614,\n",
       "        0.38953358],\n",
       "       ...,\n",
       "       [0.18226314, 0.21934567, 0.42117236, ..., 0.93857279, 0.64723532,\n",
       "        0.87228473],\n",
       "       [0.1748645 , 0.40375292, 0.60273473, ..., 0.05243603, 0.0386785 ,\n",
       "        0.67557923],\n",
       "       [0.5395555 , 0.02393975, 0.94076713, ..., 0.21086509, 0.31296756,\n",
       "        0.99777484]])"
      ]
     },
     "execution_count": 14,
     "metadata": {},
     "output_type": "execute_result"
    }
   ],
   "source": [
    "# random initial parameter\n",
    "theta_list = np.random.random((2**num_bit, 2**num_bit))\n",
    "pl = probability(theta_list)\n",
    "plt.plot(pg)\n",
    "plt.plot(pl)\n",
    "plt.legend(['Data', 'Quantum Circuit Born Machine'])\n",
    "plt.title('not trained')\n",
    "plt.show()\n",
    "theta_list"
   ]
  },
  {
   "cell_type": "code",
   "execution_count": 15,
   "metadata": {},
   "outputs": [
    {
     "name": "stdout",
     "output_type": "stream",
     "text": [
      "step = 1, loss = 0.8705820660047112\n",
      "step = 2, loss = 0.21312580589876412\n",
      "step = 3, loss = 0.1313115913948507\n",
      "step = 4, loss = 0.05032915895731433\n",
      "step = 5, loss = 0.025077595949919367\n",
      "step = 6, loss = 0.012661515805409345\n",
      "step = 7, loss = 0.00556804407616948\n",
      "step = 8, loss = 0.0052178196881364014\n",
      "step = 9, loss = 0.003173249677322379\n",
      "step = 10, loss = 0.002921024590023189\n",
      "step = 11, loss = 0.002249434514996707\n",
      "step = 12, loss = 0.0014072801470654413\n",
      "step = 13, loss = 0.0012300892182695287\n"
     ]
    },
    {
     "data": {
      "image/png": "[encoded data removed]",
      "text/plain": [
       "<Figure size 432x288 with 1 Axes>"
      ]
     },
     "metadata": {},
     "output_type": "display_data"
    },
    {
     "data": {
      "text/plain": [
       "array([ 0.36809817,  0.0145259 ,  0.0275203 , ...,  0.04064594,\n",
       "       -0.10886195,  0.99947495])"
      ]
     },
     "execution_count": 15,
     "metadata": {},
     "output_type": "execute_result"
    }
   ],
   "source": [
    "loss, theta_list = train(theta_list, 'L-BFGS-B', max_iter=30)\n",
    "# for i in range(100):\n",
    "#     print(i)\n",
    "#     loss, theta_list = train(bm, theta_list, 'L-BFGS-B', max_iter=10)\n",
    "# pl = bm.pdf(theta_list)\n",
    "\n",
    "# display training result\n",
    "plt.plot(pg)\n",
    "plt.plot(probability(theta_list))\n",
    "plt.legend(['Data', 'Quantum Circuit Born Machine'])\n",
    "plt.title('trained')\n",
    "plt.show()\n",
    "theta_list"
   ]
  },
  {
   "cell_type": "code",
   "execution_count": 16,
   "metadata": {},
   "outputs": [
    {
     "data": {
      "text/plain": [
       "array([[ 0.02427748+0.j        ,  0.0145259 +0.0991438j ,\n",
       "         0.0275203 -0.06902623j, ..., -0.19697706+0.23903519j,\n",
       "         0.24023999+0.01319888j, -0.16612657-0.34782096j],\n",
       "       [ 0.0145259 -0.0991438j ,  0.00091263+0.j        ,\n",
       "        -0.13130361-0.0307251j , ..., -0.10358866+0.26698648j,\n",
       "        -0.27912452-0.17282314j, -0.04737928+0.1420731j ],\n",
       "       [ 0.0275203 +0.06902623j, -0.13130361+0.0307251j ,\n",
       "         0.00662422+0.j        , ...,  0.40433892-0.22019469j,\n",
       "         0.1972556 +0.07907156j,  0.01433011-0.30432113j],\n",
       "       ...,\n",
       "       [-0.19697706-0.23903519j, -0.10358866-0.26698648j,\n",
       "         0.40433892+0.22019469j, ...,  0.06192245+0.j        ,\n",
       "        -0.06269321+0.05714002j,  0.02578403-0.04064594j],\n",
       "       [ 0.24023999-0.01319888j, -0.27912452+0.17282314j,\n",
       "         0.1972556 -0.07907156j, ..., -0.06269321-0.05714002j,\n",
       "         0.00745042+0.j        ,  0.01248762+0.10886195j],\n",
       "       [-0.16612657+0.34782096j, -0.04737928-0.1420731j ,\n",
       "         0.01433011+0.30432113j, ...,  0.02578403+0.04064594j,\n",
       "         0.01248762-0.10886195j,  0.0659192 +0.j        ]])"
      ]
     },
     "execution_count": 16,
     "metadata": {},
     "output_type": "execute_result"
    }
   ],
   "source": [
    "gen_densitymatrix(theta_list)"
   ]
  },
  {
   "cell_type": "code",
   "execution_count": 17,
   "metadata": {},
   "outputs": [
    {
     "data": {
      "text/plain": [
       "(33.676451129519585+0j)"
      ]
     },
     "execution_count": 17,
     "metadata": {},
     "output_type": "execute_result"
    }
   ],
   "source": [
    "np.trace(gen_densitymatrix(theta_list)@gen_densitymatrix(theta_list))"
   ]
  },
  {
   "cell_type": "code",
   "execution_count": 18,
   "metadata": {},
   "outputs": [
    {
     "data": {
      "text/plain": [
       "(array([-1.7582042 , -1.56511953, -1.42678527, -1.3288927 , -1.24221563,\n",
       "        -1.09153323, -0.97752307, -0.93029308, -0.77701329, -0.67596281,\n",
       "        -0.58385296, -0.46028835, -0.33975325, -0.29631344, -0.18421004,\n",
       "        -0.07959943,  0.12796897,  0.23466444,  0.26766153,  0.39752415,\n",
       "         0.51203792,  0.67961158,  0.75931023,  0.79969829,  0.96539277,\n",
       "         1.05350455,  1.16876279,  1.24747245,  1.37233866,  1.52215225,\n",
       "         1.77486896,  1.83459074]),\n",
       " array([[ 0.1735049 +0.j        , -0.10175629+0.j        ,\n",
       "          0.28968865+0.j        , ..., -0.09097006+0.j        ,\n",
       "          0.0381981 +0.j        , -0.0976553 +0.j        ],\n",
       "        [ 0.07684861+0.01793256j, -0.08481628-0.14319875j,\n",
       "         -0.10447098-0.09417582j, ...,  0.10461651-0.01950327j,\n",
       "         -0.01865034+0.28706561j, -0.06323291-0.0458395j ],\n",
       "        [-0.1503229 -0.08442506j,  0.00865121+0.02728971j,\n",
       "          0.2565876 -0.10541985j, ...,  0.02001205+0.09363467j,\n",
       "          0.05010484-0.10348277j,  0.19244289+0.17754482j],\n",
       "        ...,\n",
       "        [ 0.19104842+0.07448084j,  0.00899384-0.22141047j,\n",
       "         -0.08512467-0.04919357j, ...,  0.06565399-0.01566577j,\n",
       "          0.25993376+0.03168035j,  0.16380041+0.12160942j],\n",
       "        [ 0.10470727-0.02591648j,  0.03966772-0.09135467j,\n",
       "         -0.12633729-0.09031796j, ..., -0.08344765+0.0661848j ,\n",
       "          0.05824795-0.11219855j,  0.17394746+0.07702231j],\n",
       "        [-0.00361057+0.01051031j,  0.0011695 -0.11942218j,\n",
       "         -0.0010085 -0.19433207j, ...,  0.17803303+0.00052561j,\n",
       "          0.10605897+0.00774142j, -0.0666995 +0.10316465j]]))"
      ]
     },
     "execution_count": 18,
     "metadata": {},
     "output_type": "execute_result"
    }
   ],
   "source": [
    "np.linalg.eigh(gen_densitymatrix(theta_list))"
   ]
  },
  {
   "cell_type": "code",
   "execution_count": 19,
   "metadata": {
    "colab": {},
    "colab_type": "code",
    "id": "X334bsZyl_vK"
   },
   "outputs": [
    {
     "data": {
      "image/png": "[encoded data removed]",
      "text/plain": [
       "<Figure size 432x288 with 1 Axes>"
      ]
     },
     "metadata": {},
     "output_type": "display_data"
    }
   ],
   "source": [
    "plt.plot(pg)\n",
    "plt.plot(probability(theta_list), linewidth = 0.3)\n",
    "plt.legend(['Data', 'Quantum Circuit Born Machine'])\n",
    "plt.title('trained')\n",
    "plt.show()"
   ]
  },
  {
   "cell_type": "code",
   "execution_count": 20,
   "metadata": {},
   "outputs": [
    {
     "ename": "NameError",
     "evalue": "name 'gen_wavefunction' is not defined",
     "output_type": "error",
     "traceback": [
      "\u001b[1;31m---------------------------------------------------------------------------\u001b[0m",
      "\u001b[1;31mNameError\u001b[0m                                 Traceback (most recent call last)",
      "\u001b[1;32m<ipython-input-20-199962ef811a>\u001b[0m in \u001b[0;36m<module>\u001b[1;34m()\u001b[0m\n\u001b[1;32m----> 1\u001b[1;33m \u001b[0mmy_pho\u001b[0m\u001b[1;33m=\u001b[0m\u001b[0mnp\u001b[0m\u001b[1;33m.\u001b[0m\u001b[0mouter\u001b[0m\u001b[1;33m(\u001b[0m\u001b[0mgen_wavefunction\u001b[0m\u001b[1;33m(\u001b[0m\u001b[0mtheta_list\u001b[0m\u001b[1;33m)\u001b[0m\u001b[1;33m,\u001b[0m \u001b[0mnp\u001b[0m\u001b[1;33m.\u001b[0m\u001b[0mconjugate\u001b[0m\u001b[1;33m(\u001b[0m\u001b[0mgen_wavefunction\u001b[0m\u001b[1;33m(\u001b[0m\u001b[0mtheta_list\u001b[0m\u001b[1;33m)\u001b[0m\u001b[1;33m)\u001b[0m\u001b[1;33m)\u001b[0m\u001b[1;33m\u001b[0m\u001b[0m\n\u001b[0m\u001b[0;32m      2\u001b[0m \u001b[0ma_psi\u001b[0m \u001b[1;33m=\u001b[0m \u001b[0mgen_wavefunction\u001b[0m\u001b[1;33m(\u001b[0m\u001b[0mtheta_list\u001b[0m\u001b[1;33m)\u001b[0m\u001b[1;33m\u001b[0m\u001b[0m\n\u001b[0;32m      3\u001b[0m \u001b[0ma_psi\u001b[0m\u001b[1;33m\u001b[0m\u001b[0m\n",
      "\u001b[1;31mNameError\u001b[0m: name 'gen_wavefunction' is not defined"
     ]
    }
   ],
   "source": [
    "my_pho=np.outer(gen_wavefunction(theta_list), np.conjugate(gen_wavefunction(theta_list)))\n",
    "a_psi = gen_wavefunction(theta_list)\n",
    "a_psi"
   ]
  },
  {
   "cell_type": "code",
   "execution_count": null,
   "metadata": {},
   "outputs": [],
   "source": [
    "sum(pg)"
   ]
  },
  {
   "cell_type": "code",
   "execution_count": null,
   "metadata": {},
   "outputs": [],
   "source": [
    "pho = np.array([[ 0.09545985+0.j        ,  0.03104069-0.04470053j,\n",
    "         0.01922166-0.09567351j, -0.03511674-0.04264004j,\n",
    "         0.15174472-0.42928178j, -0.08844584-0.2202212j ,\n",
    "        -0.04189207-0.31324815j, -0.12085493-0.11274241j],\n",
    "       [ 0.03104069+0.04470053j,  0.05837724+0.j        ,\n",
    "         0.04717685-0.02065284j,  0.01596842-0.0506213j ,\n",
    "         0.18962074-0.06924803j,  0.10026962-0.13335236j,\n",
    "         0.0926923 -0.09877838j,  0.02792805-0.10778022j],\n",
    "       [ 0.01922166+0.09567351j,  0.04717685+0.02065284j,\n",
    "         0.17118603+0.j        ,  0.05696922-0.07042953j,\n",
    "         0.16202385-0.01681988j,  0.05706319-0.06010817j,\n",
    "         0.2291319 -0.0441072j ,  0.07966707-0.09126574j],\n",
    "       [-0.03511674+0.04264004j,  0.01596842+0.0506213j ,\n",
    "         0.05696922+0.07042953j,  0.08383179+0.j        ,\n",
    "         0.05145656+0.04878886j,  0.05463756+0.01121325j,\n",
    "         0.07537886+0.0623769j ,  0.07611557+0.01864208j],\n",
    "       [ 0.15174472+0.42928178j,  0.18962074+0.06924803j,\n",
    "         0.16202385+0.01681988j,  0.05145656-0.04878886j,\n",
    "         0.4566942 +0.j        ,  0.15336187-0.14287885j,\n",
    "         0.1700492 -0.09738923j,  0.03473073-0.0860169j ],\n",
    "       [-0.08844584+0.2202212j ,  0.10026962+0.13335236j,\n",
    "         0.05706319+0.06010817j,  0.05463756-0.01121325j,\n",
    "         0.15336187+0.14287885j,  0.13238625+0.j        ,\n",
    "         0.07958955+0.02041227j,  0.04926071-0.01207991j],\n",
    "       [-0.04189207+0.31324815j,  0.0926923 +0.09877838j,\n",
    "         0.2291319 +0.0441072j ,  0.07537886-0.0623769j ,\n",
    "         0.1700492 +0.09738923j,  0.07958955-0.02041227j,\n",
    "         0.02583225+0.j        ,  0.00879389+0.00751258j],\n",
    "       [-0.12085493+0.11274241j,  0.02792805+0.10778022j,\n",
    "         0.07966707+0.09126574j,  0.07611557-0.01864208j,\n",
    "         0.03473073+0.0860169j ,  0.04926071+0.01207991j,\n",
    "         0.00879389-0.00751258j, -0.02376762+0.j        ]])"
   ]
  },
  {
   "cell_type": "code",
   "execution_count": null,
   "metadata": {},
   "outputs": [],
   "source": [
    "pho"
   ]
  },
  {
   "cell_type": "code",
   "execution_count": null,
   "metadata": {},
   "outputs": [],
   "source": [
    "np.linalg.eigh(pho)"
   ]
  },
  {
   "cell_type": "code",
   "execution_count": null,
   "metadata": {},
   "outputs": [],
   "source": [
    "np.trace(pho @ pho)"
   ]
  },
  {
   "cell_type": "code",
   "execution_count": null,
   "metadata": {},
   "outputs": [],
   "source": [
    "print(np.linalg.svd(pho))\n",
    "u, s, vh = np.linalg.svd(pho)\n",
    "psi = np.zeros_like(s, dtype = 'complex128')\n",
    "for i in range(s.size):\n",
    "    psi += np.sqrt(u[:, i] * s[i] * np.conj(vh[i]))\n",
    "psi\n",
    "np.outer(psi, np.conj(psi))"
   ]
  },
  {
   "cell_type": "code",
   "execution_count": null,
   "metadata": {},
   "outputs": [],
   "source": [
    "initial_list = np.concatenate((np.real(psi), np.imag(psi)))\n",
    "initial_list"
   ]
  },
  {
   "cell_type": "code",
   "execution_count": null,
   "metadata": {},
   "outputs": [],
   "source": [
    "plt.plot(probability(initial_list), linewidth = 0.3)\n",
    "plt.show()"
   ]
  },
  {
   "cell_type": "code",
   "execution_count": null,
   "metadata": {},
   "outputs": [],
   "source": [
    "plist = []\n",
    "for m in Mlist:\n",
    "    plist.append(np.trace(m@pho))\n",
    "plt.plot(plist)\n",
    "plt.show()"
   ]
  },
  {
   "cell_type": "code",
   "execution_count": null,
   "metadata": {},
   "outputs": [],
   "source": [
    "np.linalg.svd(my_pho)"
   ]
  },
  {
   "cell_type": "code",
   "execution_count": null,
   "metadata": {},
   "outputs": [],
   "source": [
    "my_psi = np.conj(np.linalg.svd(my_pho)[2][0])\n",
    "print(np.angle(my_psi))\n",
    "print(np.angle(a_psi)-np.angle(my_psi))\n",
    "print(my_pho)\n",
    "print(np.outer(my_psi, np.conj(my_psi)))"
   ]
  },
  {
   "cell_type": "code",
   "execution_count": null,
   "metadata": {},
   "outputs": [],
   "source": []
  },
  {
   "cell_type": "code",
   "execution_count": null,
   "metadata": {},
   "outputs": [],
   "source": [
    "# multiprocessing.cpu_count()"
   ]
  },
  {
   "cell_type": "code",
   "execution_count": null,
   "metadata": {},
   "outputs": [],
   "source": [
    "# def func(a):\n",
    "#     print(a)\n",
    "# #     num = 0\n",
    "# #     for i in range(20000):\n",
    "# #         num+= 1/(2**i)\n",
    "# #     return num\n",
    "# def func2(a,i):\n",
    "#     a[i] = 1\n",
    "#     return np.sum(a)\n",
    "# arr = np.zeros(16)\n",
    "# #blist = Parallel(n_jobs = 2)(delayed(func)(i) for i in range(128))"
   ]
  },
  {
   "cell_type": "code",
   "execution_count": null,
   "metadata": {},
   "outputs": [],
   "source": [
    "# blist"
   ]
  },
  {
   "cell_type": "code",
   "execution_count": null,
   "metadata": {},
   "outputs": [],
   "source": [
    "# jobs = []\n",
    "# for i in range(16):\n",
    "#     p = multiprocessing.Process(target=func, args=(i,))\n",
    "#     jobs.append(p)\n",
    "#     p.start()\n",
    "#     p.join()"
   ]
  },
  {
   "cell_type": "code",
   "execution_count": null,
   "metadata": {},
   "outputs": [],
   "source": [
    "# def worker(num):\n",
    "#     \"\"\"thread worker function\"\"\"\n",
    "#     return num\n",
    "\n",
    "\n",
    "\n",
    "# jobs = []\n",
    "# for i in range(5):\n",
    "#     p = multiprocessing.Process(target=worker, args=(i,))\n",
    "#     jobs.append(p)\n",
    "#     p.start()"
   ]
  },
  {
   "cell_type": "code",
   "execution_count": null,
   "metadata": {},
   "outputs": [],
   "source": [
    "np.linalg.norm(np.array([1,1+1j]))"
   ]
  },
  {
   "cell_type": "code",
   "execution_count": null,
   "metadata": {},
   "outputs": [],
   "source": [
    "np.trace(gen_densitymatrix(np.random.random((4,4))))"
   ]
  },
  {
   "cell_type": "code",
   "execution_count": null,
   "metadata": {},
   "outputs": [],
   "source": []
  }
 ],
 "metadata": {
  "accelerator": "GPU",
  "colab": {
   "collapsed_sections": [],
   "name": "Copy of BornMachinePOVM.ipynb",
   "provenance": []
  },
  "kernelspec": {
   "display_name": "Python 3",
   "language": "python",
   "name": "python3"
  },
  "language_info": {
   "codemirror_mode": {
    "name": "ipython",
    "version": 3
   },
   "file_extension": ".py",
   "mimetype": "text/x-python",
   "name": "python",
   "nbconvert_exporter": "python",
   "pygments_lexer": "ipython3",
   "version": "3.6.5"
  }
 },
 "nbformat": 4,
 "nbformat_minor": 1
}
