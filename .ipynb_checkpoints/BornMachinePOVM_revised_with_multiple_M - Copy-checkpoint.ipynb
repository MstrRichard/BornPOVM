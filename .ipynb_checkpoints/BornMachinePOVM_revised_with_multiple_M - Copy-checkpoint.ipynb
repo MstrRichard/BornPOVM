{
 "cells": [
  {
   "cell_type": "code",
   "execution_count": 1,
   "metadata": {
    "colab": {},
    "colab_type": "code",
    "id": "hHqdDh5Bl_uF"
   },
   "outputs": [],
   "source": [
    "import os\n",
    "os.environ[\"OMP_NUM_THREADS\"] = '16'\n",
    "import numpy as np\n",
    "import matplotlib.pyplot as plt\n",
    "import scipy.sparse as sps\n",
    "import random as rdm\n",
    "# import multiprocessing\n",
    "# from multiprocessing import pool\n",
    "# from joblib import Parallel, delayed\n",
    "# from mpi4py import MPI\n",
    "# from functools import reduce\n",
    "import time\n",
    "\n",
    "# comm = MPI.COMM_WORLD\n",
    "# rank = comm.rank\n",
    "# size = comm.size"
   ]
  },
  {
   "cell_type": "code",
   "execution_count": 2,
   "metadata": {},
   "outputs": [],
   "source": [
    "# start_time=time.time()\n",
    "# #test script:\n",
    "# a = np.random.randn(5000, 50000)\n",
    "# b = np.random.randn(50000, 5000)\n",
    "# ran_time=time.time()-start_time\n",
    "# print(\"time to complete random matrix generation was %s seconds\" % ran_time)\n",
    "# np.dot(a, b) #this line should be multi-threaded\n",
    "# print(\"time to complete dot was %s seconds\" % (time.time() - start_time - ran_time))"
   ]
  },
  {
   "cell_type": "markdown",
   "metadata": {},
   "source": [
    "# Generate POVMs"
   ]
  },
  {
   "cell_type": "code",
   "execution_count": 3,
   "metadata": {},
   "outputs": [],
   "source": [
    "def generateM(povm):\n",
    "    Ms = []\n",
    "    if povm == '4Pauli':\n",
    "        \n",
    "        # Eigenvectors\n",
    "        up = np.array([1+0j,0+0j], dtype='complex128')\n",
    "        plus = np.array([1+0j,1+0j], dtype='complex128') / np.sqrt(2)\n",
    "        right = np.array([1+0j,0+1j], dtype='complex128') / np.sqrt(2)\n",
    "        \n",
    "        # 4-Pauli POVMs for a single qubit\n",
    "        M0 = np.outer(up, np.conj(up)) / 3\n",
    "        M1 = np.outer(plus, np.conj(plus)) / 3\n",
    "        M2 = np.outer(right, np.conj(right)) / 3\n",
    "        M3 = np.eye(2, dtype='complex128') - M0 - M1 - M2\n",
    "        \n",
    "        Ms = [M0, M1, M2, M3]\n",
    "        \n",
    "    elif povm == 'Tetra':\n",
    "        \n",
    "        I = np.array([[1,0],[0,1]], dtype='complex128')\n",
    "        X = np.array([[0, 1],[1, 0]], dtype='complex128')\n",
    "        Z = np.array([[1, 0],[0, -1]], dtype='complex128')\n",
    "        Y = np.array([[0, -1j],[1j, 0]], dtype='complex128')\n",
    "        \n",
    "        # Tetra\n",
    "        v1 = np.array([0, 0, 1])\n",
    "        M0 = (I + v1[0]*X + v1[1]*Y + v1[2]*Z)/4\n",
    "        v2 = np.array([2*np.sqrt(2)/3, 0, -1/3])\n",
    "        M1 = (I + v2[0]*X + v2[1]*Y + v2[2]*Z)/4\n",
    "        v3 = np.array([-np.sqrt(2)/3, np.sqrt(2)/3, -1/3])\n",
    "        M2 = (I + v3[0]*X + v3[1]*Y + v3[2]*Z)/4\n",
    "        v4 = np.array([-np.sqrt(2)/3, -np.sqrt(2)/3, -1/3])\n",
    "        M3 = (I + v4[0]*X + v4[1]*Y + v4[2]*Z)/4\n",
    "        \n",
    "        Ms = [M0, M1, M2, M3]\n",
    "    elif povm == 'Pauli':\n",
    "        \n",
    "        def pXp(theta,phi):\n",
    "\n",
    "            return np.array([[ np.cos(theta/2.0)**2, np.cos(theta/2.0)*np.sin(theta/2.0)*np.exp(-1j*phi)],\\\n",
    "                         [ np.cos(theta/2.0)*np.sin(theta/2.0)*np.exp(1j*phi), np.sin(theta/2.0)**2 ]])\n",
    "        \n",
    "        def mXm(theta,phi):\n",
    "\n",
    "            return np.array([[ np.sin(theta/2.0)**2, -np.cos(theta/2.0)*np.sin(theta/2.0)*np.exp(-1j*phi)],\\\n",
    "                         [ -np.cos(theta/2.0)*np.sin(theta/2.0)*np.exp(1j*phi), np.cos(theta/2.0)**2 ]])\n",
    "        \n",
    "        Ps = np.array([1./3., 1./3., 1./3., 1./3.,1./3.,1./3.]);\n",
    "        theta = np.pi/2.0\n",
    "        M0 = Ps[0]*pXp(theta,0.0)\n",
    "        M1 = Ps[1]*mXm(theta,0.0)\n",
    "        M2 = Ps[2]*pXp(theta,np.pi/2.0)\n",
    "        M3 = Ps[3]*mXm(theta,np.pi/2.0)\n",
    "        M4 = Ps[4]*pXp(0.0,0.0)\n",
    "        M5 = Ps[5]*mXm(0,0.0)\n",
    "        \n",
    "        Ms = [M0, M1, M2, M3, M4, M5]\n",
    "        \n",
    "    elif povm == 'Pauli_rebit':\n",
    "        def pXp(theta,phi):\n",
    "\n",
    "            return np.array([[ np.cos(theta/2.0)**2, np.cos(theta/2.0)*np.sin(theta/2.0)*np.exp(-1j*phi)],\\\n",
    "                         [ np.cos(theta/2.0)*np.sin(theta/2.0)*np.exp(1j*phi), np.sin(theta/2.0)**2 ]])\n",
    "        \n",
    "        def mXm(theta,phi):\n",
    "\n",
    "            return np.array([[ np.sin(theta/2.0)**2, -np.cos(theta/2.0)*np.sin(theta/2.0)*np.exp(-1j*phi)],\\\n",
    "                         [ -np.cos(theta/2.0)*np.sin(theta/2.0)*np.exp(1j*phi), np.cos(theta/2.0)**2 ]])\n",
    "        \n",
    "        # pauli_rebit\n",
    "        Ps = np.array([1./2., 1./2., 1./2., 1./2.])\n",
    "        theta = np.pi/2.0\n",
    "        M0 = Ps[0]*pXp(theta,0.0)\n",
    "        M1 = Ps[1]*mXm(theta,0.0)\n",
    "        M2 = Ps[2]*pXp(0.0,0.0)\n",
    "        M3 = Ps[3]*mXm(0,0.0)\n",
    "        \n",
    "        Ms = [M0, M1, M2, M3]\n",
    "    elif povm == 'Trine':\n",
    "        \n",
    "        I = np.array([[1,0],[0,1]], dtype='complex128')\n",
    "        X = np.array([[0, 1],[1, 0]], dtype='complex128')\n",
    "        Z = np.array([[1, 0],[0, -1]], dtype='complex128')\n",
    "        Y = np.array([[0, -1j],[1j, 0]], dtype='complex128')\n",
    "        \n",
    "        # Trine\n",
    "        phi0 = 0\n",
    "        phi1 = 2*np.pi/3\n",
    "        phi2 = 2*2*np.pi/3\n",
    "        M0 = 0.5*(I + np.cos(phi0)*Z + np.sin(phi0)*X)*2/3.0\n",
    "        M1 = 0.5*(I + np.cos(phi1)*Z + np.sin(phi1)*X)*2/3.0\n",
    "        M2 = 0.5*(I + np.cos(phi2)*Z + np.sin(phi2)*X)*2/3.0\n",
    "        \n",
    "        Ms = [M0, M1, M2]\n",
    "    elif povm == 'Psi2':\n",
    "        M0 = np.array([[1,0],[0,0]], dtype='complex128')\n",
    "        M1 = np.array([[0,0],[0,1]], dtype='complex128')\n",
    "        Ms = [M0, M1]\n",
    "    elif povm == 'test':\n",
    "        M0 = np.array([[1,1j],[-1j,0]], dtype='complex128')\n",
    "        M1 = np.array([[0,-1j],[1j,1]], dtype='complex128')\n",
    "        Ms = [M0, M1]\n",
    "    elif povm == 'test2':\n",
    "        M0 = np.array([[1,1j],[-1j,0]], dtype='complex128')\n",
    "        M1 = np.array([[0,-2j],[2j,0]], dtype='complex128')\n",
    "        M2 = np.array([[0,1j],[-1j,1]], dtype='complex128')\n",
    "        Ms = [M0, M1, M2]\n",
    "    else:\n",
    "        raise ValueError('POVM not defined.')\n",
    "    return Ms"
   ]
  },
  {
   "cell_type": "markdown",
   "metadata": {
    "colab_type": "text",
    "id": "9Po0tv6fl_uR"
   },
   "source": [
    "# training set\n",
    "Our training set is a simple Gaussian distribution\n",
    "\n",
    "\n",
    "\n",
    "Only need to change POVM and num_bit.\n",
    "\n",
    "Parameters later will change automatically."
   ]
  },
  {
   "cell_type": "code",
   "execution_count": 4,
   "metadata": {
    "colab": {
     "base_uri": "https://localhost:8080/",
     "height": 265
    },
    "colab_type": "code",
    "id": "Ds9tMSqAl_uU",
    "outputId": "638a16ed-a454-489b-e3fa-8d33e02ea967"
   },
   "outputs": [
    {
     "data": {
      "image/png": "[encoded data removed]",
      "text/plain": [
       "<Figure size 432x288 with 1 Axes>"
      ]
     },
     "metadata": {},
     "output_type": "display_data"
    }
   ],
   "source": [
    "POVM = 'Trine' # select from 4Pauli, Tetra, Pauli, Pauli_rebit, Trine, Psi2\n",
    "Ms = generateM(POVM)\n",
    "Mlist = Ms[:] # make a copy\n",
    "num_M = len(Ms)\n",
    "\n",
    "def gaussian_pdf(num_bit, mu, sigma):\n",
    "    '''get gaussian distribution function'''\n",
    "    x = np.arange(num_M**num_bit)     # changed to num_M\n",
    "    pl = 1. / np.sqrt(2 * np.pi * sigma**2) * \\\n",
    "        np.exp(-(x - mu)**2 / (2. * sigma**2))\n",
    "    return pl/pl.sum()\n",
    "\n",
    "\n",
    "num_bit = 3\n",
    "pg = gaussian_pdf(num_bit, mu=num_M**num_bit/2, sigma=num_M**(num_bit-1))  \n",
    "plt.plot(pg)\n",
    "plt.show()"
   ]
  },
  {
   "cell_type": "markdown",
   "metadata": {
    "colab_type": "text",
    "id": "99B1jfKfl_ud"
   },
   "source": [
    "# Build Circuits\n",
    "## Building Blocks\n",
    "Define matrix representations of operations using scipy sparse matrices.\n",
    "They are grouped to become a layer in a circuit, this layer can be `ArbitraryRotation` or `CNOTEntangler`.\n",
    "Which are used as our basic building blocks of our `Born Machines`."
   ]
  },
  {
   "cell_type": "code",
   "execution_count": 5,
   "metadata": {
    "colab": {},
    "colab_type": "code",
    "id": "kYr3mt1rl_uf"
   },
   "outputs": [],
   "source": [
    "######  Pauli Matrices  ########\n",
    "I2 = sps.eye(2).tocsr()\n",
    "sx = sps.csr_matrix([[0,1],[1,0.]])\n",
    "sy = sps.csr_matrix([[0,-1j],[1j,0.]])\n",
    "sz = sps.csr_matrix([[1,0],[0,-1.]])\n",
    "\n",
    "p0 = (sz + I2) / 2   #projection operator to |0><0|\n",
    "p1 = (-sz + I2) / 2\n",
    "\n",
    "# single bit rotation matrices\n",
    "def _ri(si, theta):\n",
    "    return np.cos(theta/2.)*I2 - 1j*np.sin(theta/2.)*si\n",
    "\n",
    "def rot(t1, t2, t3):\n",
    "    '''\n",
    "    a general rotation gate rz(t3)rx(r2)rz(t1).\n",
    "\n",
    "    Args:\n",
    "        t1, t2, t3 (float): three angles.\n",
    "\n",
    "    Returns:\n",
    "        2x2 csr_matrix: rotation matrix.\n",
    "    '''\n",
    "    return _ri(sz, t3).dot(_ri(sx, t2)).dot(_ri(sz, t1))\n",
    "\n",
    "# multiple bit construction\n",
    "def CNOT(ibit, jbit, n):\n",
    "    '''\n",
    "    CNOT gate\n",
    "    \n",
    "    Args:\n",
    "        ibit (int): control bit.\n",
    "        jbit (int): controled bit.\n",
    "        n (int): total number of qubits.\n",
    "        \n",
    "    Returns:\n",
    "        4x4 csr_matrix: CNOT matrix.\n",
    "    '''\n",
    "    res = _([p0, I2], [ibit, jbit], n)\n",
    "    res = res + _([p1, sx], [ibit, jbit], n)\n",
    "    return res\n",
    "\n",
    "def _(ops, locs, n):\n",
    "    '''\n",
    "    Compile operators into specific Hilbert space.\n",
    "\n",
    "    notice the last bit is the high end bit!\n",
    "\n",
    "    Args:\n",
    "        ops (list): list of single bit operators.\n",
    "        locs (list): list of positions.\n",
    "        n (int): total number of bits.\n",
    "\n",
    "    Returns:\n",
    "        csr_matrix: resulting matrix.\n",
    "    '''\n",
    "    if np.ndim(locs) == 0:\n",
    "        locs = [locs]\n",
    "    if not isinstance(ops, (list, tuple)):\n",
    "        ops = [ops]\n",
    "    locs = np.asarray(locs)\n",
    "    locs = n - locs\n",
    "    order = np.argsort(locs)\n",
    "    locs = np.concatenate([[0], locs[order], [n + 1]])\n",
    "    return _wrap_identity([ops[i] for i in order], np.diff(locs) - 1)\n",
    "\n",
    "\n",
    "def _wrap_identity(data_list, num_bit_list):\n",
    "    if len(num_bit_list) != len(data_list) + 1:\n",
    "        raise Exception()\n",
    "\n",
    "    res = sps.eye(2**num_bit_list[0])\n",
    "    for data, nbit in zip(data_list, num_bit_list[1:]):\n",
    "        res = sps.kron(res, data)\n",
    "        res = sps.kron(res, sps.eye(2**nbit, dtype='complex128'))\n",
    "    return res\n",
    "\n",
    "\n",
    "def initial_wf(num_bit):\n",
    "    '''initial wave function |00...0>.'''\n",
    "    wf = np.zeros(2**num_bit, dtype='complex128')\n",
    "    wf[0] = 1.\n",
    "    return wf"
   ]
  },
  {
   "cell_type": "code",
   "execution_count": 6,
   "metadata": {
    "colab": {},
    "colab_type": "code",
    "id": "1MBVIfw3l_ul"
   },
   "outputs": [],
   "source": [
    "class ArbitraryRotation(object):\n",
    "    '''Arbitrary rotation gate'''\n",
    "    def __init__(self, num_bit):\n",
    "        self.num_bit = num_bit\n",
    "        # mask is used to filter out some irrelevant (marked False) parameters\n",
    "        self.mask = np.array([True] * (3*num_bit), dtype='bool')\n",
    "\n",
    "    @property\n",
    "    def num_param(self):\n",
    "        return self.mask.sum()\n",
    "\n",
    "    def tocsr(self, theta_list):\n",
    "        '''transform this block to a sequence of csr_matrices.'''\n",
    "        theta_list_ = np.zeros(3*self.num_bit)\n",
    "        theta_list_[self.mask] = theta_list\n",
    "        rots = [rot(*ths) for ths in theta_list_.reshape([self.num_bit,3])]\n",
    "        res = [_([r], [i], self.num_bit) for i,r in enumerate(rots)]\n",
    "        return res\n",
    "\n",
    "class CNOTEntangler(object):\n",
    "    '''\n",
    "    CNOT Entangler Layer.\n",
    "    \n",
    "    Args:\n",
    "        pairs (list): a list of tuples to represent connections.\n",
    "    '''\n",
    "    def __init__(self, num_bit, pairs):\n",
    "        self.num_bit = num_bit\n",
    "        self.pairs = pairs\n",
    "\n",
    "    @property\n",
    "    def num_param(self):\n",
    "        return 0\n",
    "\n",
    "    def tocsr(self, theta_list):\n",
    "        '''transform this block to a sequence of csr_matrices.'''\n",
    "        i, j = self.pairs[0]\n",
    "        res = CNOT(i, j, self.num_bit)\n",
    "        for i, j in self.pairs[1:]:\n",
    "            res = CNOT(i,j,self.num_bit).dot(res)\n",
    "        res.eliminate_zeros()\n",
    "        return [res]"
   ]
  },
  {
   "cell_type": "markdown",
   "metadata": {
    "colab_type": "text",
    "id": "8dR6z_Sjl_uo"
   },
   "source": [
    "# Circuit\n",
    "A circuit is consist of queued layers, here this data structure is `BlockQueue`. A `BlockQueue` uses `theta_last` and `memo` attributes to cache sparse operators, this will accelerate simulation significantly."
   ]
  },
  {
   "cell_type": "code",
   "execution_count": 7,
   "metadata": {
    "colab": {},
    "colab_type": "code",
    "id": "ax0MxiMSl_up"
   },
   "outputs": [],
   "source": [
    "class BlockQueue(list):\n",
    "    '''\n",
    "    Block Queue that keep track of theta_list changing history, for fast update.\n",
    "    \n",
    "    Attributes:\n",
    "        theta_last (1darray): the cached circuit parameters.\n",
    "        memo (list): cached sparse matrices for layers.\n",
    "    '''\n",
    "    def __init__(self, *args):\n",
    "        list.__init__(self, *args)\n",
    "        self.theta_last = None\n",
    "        self.memo = None\n",
    "\n",
    "    def __call__(self, qureg, theta_list):\n",
    "        '''\n",
    "        Apply operations on vector basis: qureg. This operation changes vector inplace.\n",
    "        \n",
    "        Args:\n",
    "            qureg (1darray): vector basis.\n",
    "            theta_list (1darray): circuit parameters:\n",
    "        '''\n",
    "        # cache? if theta_list change <= 1 parameters, then don't touch memory.\n",
    "        remember = self.theta_last is None or (abs(self.theta_last-theta_list)>1e-12).sum() > 1\n",
    "\n",
    "        mats = []\n",
    "        theta_last = self.theta_last\n",
    "        if remember:\n",
    "            self.theta_last = theta_list.copy()\n",
    "\n",
    "        qureg_ = qureg\n",
    "        for iblock, block in enumerate(self):\n",
    "            # generate or use a block matrix\n",
    "            num_param = block.num_param\n",
    "            theta_i, theta_list = np.split(theta_list, [num_param])\n",
    "            if theta_last is not None:\n",
    "                theta_o, theta_last = np.split(theta_last, [num_param])\n",
    "            if self.memo is not None and (num_param==0 or np.abs(theta_i-theta_o).max()<1e-12):\n",
    "                # use data cached in memory\n",
    "                mat = self.memo[iblock]\n",
    "            else:\n",
    "                if self.memo is not None and not remember:\n",
    "                    # update the changed gate, but not touching memory.\n",
    "                    mat = _rot_tocsr_update1(block, self.memo[iblock], theta_o, theta_i)\n",
    "                else:\n",
    "                    # regenerate one\n",
    "                    mat = block.tocsr(theta_i)\n",
    "            for mat_i in mat:\n",
    "                qureg_ = mat_i.dot(qureg_)\n",
    "            mats.append(mat)\n",
    "\n",
    "        if remember:\n",
    "            # cache data\n",
    "            self.memo = mats\n",
    "        # update register\n",
    "        qureg[...] = qureg_\n",
    "        np.testing.assert_(len(theta_list)==0)\n",
    "        \n",
    "    @property\n",
    "    def num_bit(self):\n",
    "        return self[0].num_bit\n",
    "\n",
    "    @property\n",
    "    def num_param(self):\n",
    "        return sum([b.num_param for b in self])\n",
    "\n",
    "def _rot_tocsr_update1(layer, old, theta_old, theta_new):\n",
    "    '''\n",
    "    rotation layer csr_matrices update method.\n",
    "    \n",
    "    Args:\n",
    "        layer (ArbitraryRotation): rotation layer.\n",
    "        old (csr_matrix): old matrices.\n",
    "        theta_old (1darray): old parameters.\n",
    "        theta_new (1darray): new parameters.\n",
    "\n",
    "    Returns:\n",
    "        list of csr_matrix: new rotation matrices after the theta changed.\n",
    "    '''\n",
    "    idiff_param = np.where(abs(theta_old-theta_new)>1e-12)[0].item()\n",
    "    idiff = np.where(layer.mask)[0][idiff_param]\n",
    "\n",
    "    # get rotation parameters\n",
    "    isite = idiff//3\n",
    "    theta_list_ = np.zeros(3*layer.num_bit)\n",
    "    theta_list_[layer.mask] = theta_new\n",
    "    \n",
    "    new = old[:]\n",
    "    new[isite] = _(rot(*theta_list_[isite*3:isite*3+3]), isite, layer.num_bit)\n",
    "    return new"
   ]
  },
  {
   "cell_type": "code",
   "execution_count": 8,
   "metadata": {
    "colab": {},
    "colab_type": "code",
    "id": "pPa44pmWl_ur"
   },
   "outputs": [],
   "source": [
    "def get_nn_pairs(num_bit):\n",
    "    '''get nearest neighbor pairs.'''\n",
    "    res = []\n",
    "    for inth in range(2):\n",
    "        for i in range(inth, num_bit, 2):\n",
    "            res = res + [(i, i_ % num_bit) for i_ in range(i + 1, i + 2)]\n",
    "    return res\n",
    "\n",
    "def get_demo_circuit(num_bit, depth, pairs):\n",
    "    '''Get the circuit used for demo'''\n",
    "    blocks = []\n",
    "    # build circuit\n",
    "    for idepth in range(depth+1):\n",
    "        blocks.append(ArbitraryRotation(num_bit))\n",
    "        if idepth!=depth:\n",
    "            blocks.append(CNOTEntangler(num_bit, pairs))\n",
    "\n",
    "    # set leading and trailing Rz to disabled\n",
    "    blocks[0].mask[::3] = False\n",
    "    blocks[-1].mask[2::3] = False\n",
    "    return BlockQueue(blocks)"
   ]
  },
  {
   "cell_type": "code",
   "execution_count": 9,
   "metadata": {
    "colab": {
     "base_uri": "https://localhost:8080/",
     "height": 54
    },
    "colab_type": "code",
    "id": "ksYpVLV9l_ut",
    "outputId": "3f0a40bf-5fae-4492-e156-6241720382d1"
   },
   "outputs": [
    {
     "name": "stdout",
     "output_type": "stream",
     "text": [
      "[<__main__.ArbitraryRotation object at 0x00000225E9127B38>, <__main__.CNOTEntangler object at 0x00000225E91270B8>, <__main__.ArbitraryRotation object at 0x00000225E91279B0>, <__main__.CNOTEntangler object at 0x00000225E9127828>, <__main__.ArbitraryRotation object at 0x00000225E9127860>, <__main__.CNOTEntangler object at 0x00000225E9127D68>, <__main__.ArbitraryRotation object at 0x00000225E9127470>, <__main__.CNOTEntangler object at 0x00000225E91274A8>, <__main__.ArbitraryRotation object at 0x00000225E9127A20>, <__main__.CNOTEntangler object at 0x00000225E91274E0>, <__main__.ArbitraryRotation object at 0x00000225E9127278>, <__main__.CNOTEntangler object at 0x00000225E9127780>, <__main__.ArbitraryRotation object at 0x00000225E9127AC8>, <__main__.CNOTEntangler object at 0x00000225E9127710>, <__main__.ArbitraryRotation object at 0x00000225E91277B8>, <__main__.CNOTEntangler object at 0x00000225E9127B00>, <__main__.ArbitraryRotation object at 0x00000225E9127A58>, <__main__.CNOTEntangler object at 0x00000225E9127320>, <__main__.ArbitraryRotation object at 0x00000225E9127940>, <__main__.CNOTEntangler object at 0x00000225E9127630>, <__main__.ArbitraryRotation object at 0x00000225E9127DA0>, <__main__.CNOTEntangler object at 0x00000225E9127E10>, <__main__.ArbitraryRotation object at 0x00000225E9127F98>, <__main__.CNOTEntangler object at 0x00000225E9127E80>, <__main__.ArbitraryRotation object at 0x00000225E91273C8>]\n"
     ]
    }
   ],
   "source": [
    "# let's see how this circuit look like\n",
    "depth = 12  # was 6\n",
    "pairs = get_nn_pairs(num_bit)\n",
    "circuit = get_demo_circuit(num_bit, depth, pairs)\n",
    "print(circuit)"
   ]
  },
  {
   "cell_type": "code",
   "execution_count": 10,
   "metadata": {
    "colab": {
     "base_uri": "https://localhost:8080/",
     "height": 118
    },
    "colab_type": "code",
    "id": "iXCJDkXUl_ux",
    "outputId": "47740de9-7996-48e3-cb53-5e698cee110c"
   },
   "outputs": [
    {
     "name": "stdout",
     "output_type": "stream",
     "text": [
      "[0. 0. 0. 0. 0. 0. 0. 0. 0. 0. 0. 0. 0. 0. 0. 0. 0. 0. 0. 0. 0. 0. 0. 0.\n",
      " 0. 0. 0. 0. 0. 0. 0. 0. 0. 0. 0. 0. 0. 0. 0. 0. 0. 0. 0. 0. 0. 0. 0. 0.\n",
      " 0. 0. 0. 0. 0. 0. 0. 0. 0. 0. 0. 0. 0. 0. 0. 0. 0. 0. 0. 0. 0. 0. 0. 0.\n",
      " 0. 0. 0. 0. 0. 0. 0. 0. 0. 0. 0. 0. 0. 0. 0. 0. 0. 0. 0. 0. 0. 0. 0. 0.\n",
      " 0. 0. 0. 0. 0. 0. 0. 0. 0. 0. 0. 0. 0. 0. 0.]\n",
      "[0.70710678+0.j         0.        +0.j         0.        +0.j\n",
      " 0.        +0.j         0.        -0.70710678j 0.        +0.j\n",
      " 0.        +0.j         0.        +0.j        ]\n"
     ]
    }
   ],
   "source": [
    "# let's see how this circuit works\n",
    "# rotating the last bit along x axis by pi/2.\n",
    "theta_list = np.zeros(circuit.num_param)\n",
    "print(theta_list)\n",
    "theta_list[-1] = np.pi/2\n",
    "\n",
    "wf = initial_wf(num_bit)\n",
    "circuit(wf, theta_list)\n",
    "\n",
    "# now you see the last bit is the high end bit!\n",
    "print(wf)"
   ]
  },
  {
   "cell_type": "markdown",
   "metadata": {
    "colab_type": "text",
    "id": "ZyeNb3A3l_uz"
   },
   "source": [
    "# MMD Loss Function\n",
    "As a reminder\n",
    "\\begin{align}\n",
    "    \\mathcal{L} =&  \\left\\|\\sum_{x} p_\\theta(x) \\phi(x)- \\sum_{x} \\pi(x) \\phi(x)  \\right\\|^2 \\\\\n",
    "    =&\\langle K(x,y)\\rangle_{x\\sim p_\\theta, y\\sim p_\\theta}-2\\langle K(x,y)\\rangle_{x\\sim p_\\theta,y\\sim \\pi}+\\langle K(x, y)\\rangle_{x\\sim \\pi,y\\sim \\pi}\n",
    "\\end{align}\n"
   ]
  },
  {
   "cell_type": "code",
   "execution_count": 11,
   "metadata": {
    "colab": {},
    "colab_type": "code",
    "id": "rNaRWyALl_u0"
   },
   "outputs": [],
   "source": [
    "class RBFMMD2(object):\n",
    "    '''\n",
    "    MMD^2 with RBF (Gaussian) kernel.\n",
    "    \n",
    "    Args:\n",
    "        sigma_list (list): a list of bandwidths.\n",
    "        basis (1darray): defininng space.\n",
    "      \n",
    "    Attributes:\n",
    "        K (2darray): full kernel matrix, notice the Hilbert is countable.\n",
    "    '''\n",
    "    def __init__(self, sigma_list, basis):\n",
    "        self.sigma_list = sigma_list\n",
    "        self.basis = basis\n",
    "        self.K = mix_rbf_kernel(basis, basis, self.sigma_list)\n",
    "\n",
    "    def __call__(self, px, py):\n",
    "        '''\n",
    "        Args:\n",
    "            px (1darray, default=None): probability for data set x, used only when self.is_exact==True.\n",
    "            py (1darray, default=None): same as px, but for data set y.\n",
    "\n",
    "        Returns:\n",
    "            float: loss.\n",
    "        '''\n",
    "        pxy = px-py\n",
    "        return self.kernel_expect(pxy, pxy)\n",
    "\n",
    "    def kernel_expect(self, px, py):\n",
    "        '''\n",
    "        expectation value of kernel function.\n",
    "        \n",
    "        Args:\n",
    "            px (1darray): the first PDF.\n",
    "            py (1darray): the second PDF.\n",
    "            \n",
    "        Returns:\n",
    "            float: kernel expectation.\n",
    "        '''\n",
    "        return px.dot(self.K).dot(py)\n",
    "\n",
    "def mix_rbf_kernel(x, y, sigma_list):\n",
    "    '''\n",
    "    multi-RBF kernel.\n",
    "    \n",
    "    Args:\n",
    "        x (1darray|2darray): the collection of samples A.\n",
    "        x (1darray|2darray): the collection of samples B.\n",
    "        sigma_list (list): a list of bandwidths.\n",
    "        \n",
    "    Returns:\n",
    "        2darray: kernel matrix.\n",
    "    '''\n",
    "    ndim = x.ndim\n",
    "    if ndim == 1:\n",
    "        exponent = np.abs(x[:, None] - y[None, :])**2\n",
    "    elif ndim == 2:\n",
    "        exponent = ((x[:, None, :] - y[None, :, :])**2).sum(axis=2)\n",
    "    else:\n",
    "        raise\n",
    "    K = 0.0\n",
    "    for sigma in sigma_list:\n",
    "        gamma = 1.0 / (2 * sigma)\n",
    "        K = K + np.exp(-gamma * exponent)\n",
    "    return K"
   ]
  },
  {
   "cell_type": "code",
   "execution_count": 12,
   "metadata": {
    "colab": {
     "base_uri": "https://localhost:8080/",
     "height": 50
    },
    "colab_type": "code",
    "id": "rqgpurrWjasl",
    "outputId": "55cd424d-bf68-4ad8-c0f2-5057ae8ad287"
   },
   "outputs": [
    {
     "name": "stdout",
     "output_type": "stream",
     "text": [
      "Exact Match -> MMD = 0.0000\n",
      "Not Match -> MMD = 0.0461\n"
     ]
    }
   ],
   "source": [
    "hndim = num_M**num_bit\n",
    "# mmd loss\n",
    "mmd = RBFMMD2(sigma_list=[0.25,4], basis=np.arange(num_M**num_bit))   # changed to num_M\n",
    "\n",
    "# when exact match, MMD loss should be 0, e.g. two gaussians\n",
    "print('Exact Match -> MMD = %.4f'%mmd(pg, pg))\n",
    "# when not match, loss is not zero\n",
    "prand = np.random.random(len(pg))\n",
    "print('Not Match -> MMD = %.4f'%mmd(prand/prand.sum(), pg))"
   ]
  },
  {
   "cell_type": "markdown",
   "metadata": {},
   "source": [
    "# Tensorproduct of matrices"
   ]
  },
  {
   "cell_type": "code",
   "execution_count": 13,
   "metadata": {
    "colab": {},
    "colab_type": "code",
    "id": "eBnfjq3UmME3"
   },
   "outputs": [],
   "source": [
    "# make tensor product of POVMs\n",
    "def tensorproduct(matrix1, matrix2):\n",
    "    dim = matrix1.shape[0] * matrix2.shape[0]\n",
    "    \n",
    "    # has to reverse the order otherwise doesn't work\n",
    "    return np.tensordot(matrix2, matrix1, axes = 0).swapaxes(1, 2).reshape(dim, dim)"
   ]
  },
  {
   "cell_type": "code",
   "execution_count": 14,
   "metadata": {
    "colab": {},
    "colab_type": "code",
    "id": "qXC8ZvZamMHt"
   },
   "outputs": [],
   "source": [
    "for i in range(num_bit - 1):  # minus one because we initialized above\n",
    "    Mlisttemp = []\n",
    "    for m2 in Mlist:\n",
    "        for m1 in Ms:\n",
    "            Mlisttemp.append(tensorproduct(m1, m2))\n",
    "    Mlist = Mlisttemp\n",
    "# rdm.shuffle(Mlist)"
   ]
  },
  {
   "cell_type": "code",
   "execution_count": 15,
   "metadata": {
    "colab": {},
    "colab_type": "code",
    "id": "lScVOAdFpyMA"
   },
   "outputs": [],
   "source": [
    "# expectation value of POVMs, i.e. probabilities\n",
    "def probability(wavefunction):\n",
    "  problist = []\n",
    "  for m in Mlist:\n",
    "    problist.append(np.real(np.conj(wavefunction) @ m @ wavefunction)) # wf.H@M@wf\n",
    "  return np.array(problist)\n"
   ]
  },
  {
   "cell_type": "code",
   "execution_count": null,
   "metadata": {
    "colab": {},
    "colab_type": "code",
    "id": "Jcx_pAwtpyZs"
   },
   "outputs": [],
   "source": []
  },
  {
   "cell_type": "code",
   "execution_count": null,
   "metadata": {
    "colab": {},
    "colab_type": "code",
    "id": "EmfkpSJFpych"
   },
   "outputs": [],
   "source": []
  },
  {
   "cell_type": "code",
   "execution_count": null,
   "metadata": {
    "colab": {},
    "colab_type": "code",
    "id": "Dw5NEpTnpyfT"
   },
   "outputs": [],
   "source": []
  },
  {
   "cell_type": "code",
   "execution_count": null,
   "metadata": {
    "colab": {},
    "colab_type": "code",
    "id": "eIUCmGcKpyiE"
   },
   "outputs": [],
   "source": []
  },
  {
   "cell_type": "code",
   "execution_count": null,
   "metadata": {
    "colab": {},
    "colab_type": "code",
    "id": "XjLZ4etdpykh"
   },
   "outputs": [],
   "source": []
  },
  {
   "cell_type": "markdown",
   "metadata": {
    "colab_type": "text",
    "id": "He6uVgqzl_u2"
   },
   "source": [
    "# Build The Gradient training framework for Born Machine\n",
    "The gradient of MMD loss is\n",
    "\\begin{eqnarray}\n",
    "        \\frac{\\partial \\mathcal{L}}{\\partial \\theta_l^i} &=&\\langle{K(x,y)}\\rangle_{x\\sim p_{\\theta^+}, y\\sim p_\\theta}-\\langle {K(x,y)}\\rangle_{x\\sim p_{\\theta^-},y\\sim p_\\theta}\\\\\n",
    "        &-&\\langle K(x,y)\\rangle_{x\\sim p_{\\theta^+},y\\sim \\pi}+\\langle {K(x,y)}\\rangle_{x\\sim p_{\\theta^-},y\\sim \\pi}.\n",
    "\\end{eqnarray}"
   ]
  },
  {
   "cell_type": "code",
   "execution_count": 16,
   "metadata": {
    "colab": {},
    "colab_type": "code",
    "id": "3tRLpcrQl_u3"
   },
   "outputs": [],
   "source": [
    "class QCBM(object):\n",
    "    '''\n",
    "    Quantum Circuit Born Machine framework,\n",
    "\n",
    "    Args:\n",
    "        circuit (BlockQueue): the circuit architechture.\n",
    "        mmd (RBFMMD2): maximum mean discrepancy.\n",
    "        p_data (1darray): data probability distribution in computation basis.\n",
    "        batch_size (int|None): introducing sampling error, None for no sampling error.\n",
    "    '''\n",
    "    def __init__(self, circuit, mmd, p_data, batch_size=None):\n",
    "        self.circuit = circuit\n",
    "        self.mmd = mmd\n",
    "        self.p_data = p_data\n",
    "        self.batch_size = batch_size\n",
    "\n",
    "    @property\n",
    "    def depth(self):\n",
    "        '''defined by the number of entanglers'''\n",
    "        return (len(self.circuit)-1)//2\n",
    "\n",
    "    def pdf(self, theta_list):\n",
    "        '''\n",
    "        get probability distribution function.\n",
    "        \n",
    "        Args:\n",
    "            theta_list (1darray): circuit parameters.\n",
    "            \n",
    "        Returns:\n",
    "            1darray: probability distribution function.\n",
    "        '''\n",
    "        wf = initial_wf(self.circuit.num_bit)\n",
    "        self.circuit(wf, theta_list)\n",
    "        pl = probability(wf)  # changed\n",
    "        # introducing sampling error\n",
    "        # if self.batch_size is not None:\n",
    "        #     pl = prob_from_sample(sample_from_prob(np.arange(len(pl)), pl, self.batch_size),\n",
    "        #             len(pl))\n",
    "        return pl\n",
    "\n",
    "    def mmd_loss(self, theta_list):\n",
    "        '''get the loss'''\n",
    "        # get and cahe probability distritbution of Born Machine\n",
    "        self._prob = self.pdf(theta_list)\n",
    "        # use wave function to get mmd loss\n",
    "        return self.mmd(self._prob, self.p_data)\n",
    "\n",
    "    def gradient(self, theta_list):\n",
    "        '''\n",
    "        cheat and get gradient.\n",
    "        '''\n",
    "        dim = theta_list.size\n",
    "        prob = self.pdf(theta_list)\n",
    "        grad = np.zeros(dim)\n",
    "        for i in range(dim):\n",
    "            # pi/2 phase\n",
    "            theta_list[i] += np.pi/2.\n",
    "            prob_pos = self.pdf(theta_list)\n",
    "            # -pi/2 phase\n",
    "            theta_list[i] -= np.pi\n",
    "            prob_neg = self.pdf(theta_list)\n",
    "            # recover\n",
    "            theta_list[i] += np.pi/2.\n",
    "\n",
    "            grad_pos = self.mmd.kernel_expect(prob, prob_pos) - self.mmd.kernel_expect(prob, prob_neg)\n",
    "            grad_neg = self.mmd.kernel_expect(self.p_data, prob_pos) - self.mmd.kernel_expect(self.p_data, prob_neg)\n",
    "            grad[i] = grad_pos - grad_neg\n",
    "        return grad\n",
    "    \n",
    "\n",
    "#     def _gradient(self, theta_list, i):\n",
    "#         '''\n",
    "#         helper function for gradient\n",
    "#         '''\n",
    "#         prob = self.pdf(theta_list)\n",
    "#         # pi/2 phase\n",
    "#         theta_list[i] += np.pi/2.\n",
    "#         prob_pos = self.pdf(theta_list)\n",
    "#         # -pi/2 phase\n",
    "#         theta_list[i] -= np.pi\n",
    "#         prob_neg = self.pdf(theta_list)\n",
    "#         # recover\n",
    "#         theta_list[i] += np.pi/2.\n",
    "        \n",
    "#         grad_pos = self.mmd.kernel_expect(prob, prob_pos) - self.mmd.kernel_expect(prob, prob_neg)\n",
    "#         grad_neg = self.mmd.kernel_expect(self.p_data, prob_pos) - self.mmd.kernel_expect(self.p_data, prob_neg)\n",
    "#         print(i)\n",
    "#         return grad_pos - grad_neg\n",
    "    \n",
    "#     def gradient(self, theta_list):\n",
    "#         '''\n",
    "#         parallelized calculation.\n",
    "#         '''\n",
    "#         QCBM_list = [QCBM(self.circuit, self.mmd, self.p_data, self.batch_size) for i in range(len(theta_list))]\n",
    "#         grad = Parallel(n_jobs = 16)(delayed(QCBM_list[i]._gradient)(theta_list, i) for i in range(len(theta_list)))\n",
    "#         return np.array(grad)\n",
    "\n",
    "    def gradient_numerical(self, theta_list, delta=1e-2):\n",
    "        '''\n",
    "        numerical differenciation.\n",
    "        '''\n",
    "        grad = []\n",
    "        for i in range(len(theta_list)):\n",
    "            theta_list[i] += delta/2.\n",
    "            loss_pos = self.mmd_loss(theta_list)\n",
    "            theta_list[i] -= delta\n",
    "            loss_neg = self.mmd_loss(theta_list)\n",
    "            theta_list[i] += delta/2.\n",
    "\n",
    "            grad_i = (loss_pos - loss_neg)/delta\n",
    "            grad.append(grad_i)\n",
    "        return np.array(grad)\n",
    "    \n",
    "def sample_from_prob(x, pl, num_sample):\n",
    "    '''\n",
    "    sample x ~ pl.\n",
    "    '''\n",
    "    pl = 1. / pl.sum() * pl\n",
    "    indices = np.arange(len(x))\n",
    "    res = np.random.choice(indices, num_sample, p=pl)\n",
    "    return np.array([x[r] for r in res])\n",
    "\n",
    "\n",
    "def prob_from_sample(dataset, hndim):\n",
    "    '''\n",
    "    emperical probability from data.\n",
    "    '''\n",
    "    p_data = np.bincount(dataset, minlength=hndim)\n",
    "    p_data = p_data / float(np.sum(p_data))\n",
    "    return p_data"
   ]
  },
  {
   "cell_type": "code",
   "execution_count": 17,
   "metadata": {
    "colab": {},
    "colab_type": "code",
    "id": "rhdRmpOgl_u5"
   },
   "outputs": [],
   "source": [
    "# Born Machine\n",
    "bm = QCBM(circuit, mmd, pg, batch_size=None)  # exact version"
   ]
  },
  {
   "cell_type": "code",
   "execution_count": 18,
   "metadata": {
    "colab": {
     "base_uri": "https://localhost:8080/",
     "height": 320
    },
    "colab_type": "code",
    "id": "fsOlbsLBl_u8",
    "outputId": "c8262dde-c497-4322-fea9-f3392582ec95"
   },
   "outputs": [
    {
     "name": "stdout",
     "output_type": "stream",
     "text": [
      "MMD loss for Initial Circuit = 0.0645\n"
     ]
    }
   ],
   "source": [
    "theta_list = np.random.random(bm.circuit.num_param)*2*np.pi\n",
    "print('MMD loss for Initial Circuit = %.4f'%bm.mmd_loss(theta_list))"
   ]
  },
  {
   "cell_type": "code",
   "execution_count": 19,
   "metadata": {
    "colab": {},
    "colab_type": "code",
    "id": "I-OXkiy6l_vB"
   },
   "outputs": [
    {
     "name": "stdout",
     "output_type": "stream",
     "text": [
      "[ 0.02470592 -0.01321196 -0.00278476  0.00777349 -0.04527736 -0.00461721\n",
      "  0.01492215 -0.01152326  0.02948413  0.01483853  0.02796204  0.01158434\n",
      " -0.01988387 -0.05124786 -0.01980013 -0.03589226 -0.0055778  -0.0259877\n",
      "  0.02246559 -0.02201618  0.03385894 -0.03012661 -0.02348273  0.02004842\n",
      " -0.01535567 -0.01615764 -0.05800054 -0.04013214 -0.00521458 -0.00670358\n",
      " -0.01035313 -0.00119411  0.06099548 -0.02689152  0.0585099  -0.00898873\n",
      "  0.01581775  0.02825762  0.03616187  0.06567542 -0.02803382 -0.02204417\n",
      "  0.00477836 -0.01075898 -0.01481709 -0.04784518  0.03192089 -0.0365617\n",
      "  0.01096927  0.00948586 -0.01424005  0.03251693  0.04411393 -0.02657846\n",
      "  0.03829686 -0.00249158  0.01412878 -0.05474176 -0.00056721  0.01574468\n",
      " -0.00352444 -0.05097928 -0.00704948  0.05914882 -0.05998069 -0.03285586\n",
      "  0.00484127  0.02830234  0.01330451 -0.01216034 -0.00915161  0.01773955\n",
      "  0.0213645   0.01616967 -0.01129001 -0.03291056 -0.0052278  -0.02464865\n",
      " -0.06286241 -0.01020031 -0.02988338 -0.00367888  0.01830179  0.01215276\n",
      "  0.01246442  0.05388155 -0.04198055 -0.01911537  0.02800266  0.03188865\n",
      "  0.00713871  0.05015589 -0.00684755  0.05492602 -0.0395168  -0.05352851\n",
      "  0.02795758 -0.04260968 -0.04665288 -0.06345253 -0.03014862 -0.04237571\n",
      " -0.03530435 -0.05925502 -0.05203604 -0.00456063 -0.01073861  0.02176776\n",
      " -0.02074818  0.00439456  0.00387892]\n",
      "0.4934213161468506\n",
      "[ 0.02470584 -0.01321188 -0.00278501  0.00777345 -0.04527695 -0.00461719\n",
      "  0.01492201 -0.01152334  0.02948374  0.01483843  0.02796178  0.01158427\n",
      " -0.0198837  -0.05124748 -0.01979997 -0.03589187 -0.00557775 -0.02598767\n",
      "  0.02246538 -0.02201603  0.0338585  -0.03012618 -0.02348266  0.02004833\n",
      " -0.01535546 -0.01615775 -0.05800016 -0.04013201 -0.00521459 -0.00670354\n",
      " -0.0103529  -0.00119391  0.06099508 -0.02689144  0.05850927 -0.00898866\n",
      "  0.01581756  0.02825731  0.03616175  0.06567477 -0.02803351 -0.02204387\n",
      "  0.00477832 -0.01075886 -0.01481718 -0.04784435  0.03192096 -0.03656114\n",
      "  0.01096909  0.00948554 -0.01423986  0.03251629  0.04411388 -0.02657854\n",
      "  0.03829656 -0.00249165  0.01412857 -0.05474153 -0.00056719  0.0157447\n",
      " -0.00352446 -0.05097907 -0.00704945  0.0591483  -0.05998029 -0.0328558\n",
      "  0.00484102  0.02830216  0.01330471 -0.01216023 -0.00915149  0.01773941\n",
      "  0.02136413  0.0161701  -0.01129016 -0.03291066 -0.00522787 -0.02464834\n",
      " -0.06286182 -0.01020022 -0.02988305 -0.0036791   0.01830147  0.01215263\n",
      "  0.0124642   0.05388119 -0.04198    -0.01911572  0.02800245  0.03188842\n",
      "  0.00713877  0.0501558  -0.00684725  0.05492547 -0.03951658 -0.05352797\n",
      "  0.02795742 -0.04260944 -0.04665254 -0.06345199 -0.03014854 -0.04237511\n",
      " -0.03530425 -0.0592542  -0.05203559 -0.00456061 -0.01073849  0.02176759\n",
      " -0.020748    0.00439448  0.00387888]\n"
     ]
    }
   ],
   "source": [
    "# gradient test\n",
    "# these two gradients should match.\n",
    "start_time = time.time()\n",
    "g1 = bm.gradient(theta_list)\n",
    "print(g1)\n",
    "print(time.time()-start_time)\n",
    "g2 = bm.gradient_numerical(theta_list)\n",
    "print(g2)"
   ]
  },
  {
   "cell_type": "markdown",
   "metadata": {
    "colab_type": "text",
    "id": "u7m6D8jBl_vE"
   },
   "source": [
    "# Training\n",
    "In this basic introduction, I prepaired classical training method like `Adam` and `L-BFGS-B` (as well as other methods supported by scipy)."
   ]
  },
  {
   "cell_type": "code",
   "execution_count": 20,
   "metadata": {
    "colab": {},
    "colab_type": "code",
    "id": "jtvCimfRl_vF"
   },
   "outputs": [],
   "source": [
    "  def train(bm, theta_list, method, max_iter=1000, step_rate=0.1):\n",
    "    '''\n",
    "    train a Born Machine.\n",
    "    \n",
    "    Args:\n",
    "        bm (QCBM): quantum circuit born machine training strategy.\n",
    "        theta_list (1darray): initial parameters.\n",
    "        method ('Adam'|'L-BFGS-B'):\n",
    "            * L-BFGS-B: efficient, but not noise tolerant.\n",
    "            * Adam: noise tolerant.\n",
    "        max_iter (int): maximum allowed number of iterations.\n",
    "        step_rate (float): learning rate for Adam optimizer.\n",
    "        \n",
    "    Returns:\n",
    "        (float, 1darray): final loss and parameters.\n",
    "    '''\n",
    "    step = [0]\n",
    "    def callback(x, *args, **kwargs):\n",
    "        step[0] += 1\n",
    "        print('step = %d, loss = %s'%(step[0], bm.mmd_loss(x)))\n",
    "        \n",
    "    theta_list = np.array(theta_list)\n",
    "    if method == 'Adam':\n",
    "        try:\n",
    "            from climin import Adam\n",
    "        except:\n",
    "            !pip install git+https://github.com/BRML/climin.git\n",
    "            from climin import Adam\n",
    "        optimizer = Adam(wrt=theta_list, fprime=bm.gradient,step_rate=step_rate)\n",
    "        for info in optimizer:\n",
    "            callback(theta_list)\n",
    "            if step[0] == max_iter:\n",
    "                break\n",
    "        return bm.mmd_loss(theta_list), theta_list\n",
    "    else:\n",
    "        from scipy.optimize import minimize\n",
    "        res = minimize(bm.mmd_loss, x0=theta_list,\n",
    "                       method=method, jac = bm.gradient, tol=1e-12,\n",
    "                       options={'maxiter': max_iter, 'disp': 0, 'gtol':1e-10, 'ftol':0},\n",
    "                       callback=callback,\n",
    "                       )\n",
    "        return res.fun, res.x"
   ]
  },
  {
   "cell_type": "code",
   "execution_count": 21,
   "metadata": {
    "colab": {},
    "colab_type": "code",
    "id": "-AqBAGQll_vH"
   },
   "outputs": [
    {
     "data": {
      "image/png": "[encoded data removed]",
      "text/plain": [
       "<Figure size 432x288 with 1 Axes>"
      ]
     },
     "metadata": {},
     "output_type": "display_data"
    }
   ],
   "source": [
    "# random initial parameter\n",
    "theta_list = np.random.random(bm.circuit.num_param)*2*np.pi\n",
    "pl = bm.pdf(theta_list)\n",
    "plt.plot(bm.p_data)\n",
    "plt.plot(pl)\n",
    "plt.legend(['Data', 'Quantum Circuit Born Machine'])\n",
    "plt.title('not trained')\n",
    "plt.show()"
   ]
  },
  {
   "cell_type": "code",
   "execution_count": 22,
   "metadata": {},
   "outputs": [
    {
     "name": "stdout",
     "output_type": "stream",
     "text": [
      "step = 1, loss = 0.05633687677938265\n",
      "step = 2, loss = 0.04239376036364301\n",
      "step = 3, loss = 0.0360537394584642\n",
      "step = 4, loss = 0.031198041972580935\n",
      "step = 5, loss = 0.023262935232996718\n",
      "step = 6, loss = 0.01881314236055696\n",
      "step = 7, loss = 0.014692001093206633\n",
      "step = 8, loss = 0.01353012809649357\n",
      "step = 9, loss = 0.012775472788842406\n",
      "step = 10, loss = 0.0117990976988063\n",
      "0\n",
      "step = 1, loss = 0.011545007797179166\n",
      "step = 2, loss = 0.011375361276615082\n",
      "step = 3, loss = 0.010866228193336576\n",
      "step = 4, loss = 0.010645867151458734\n",
      "step = 5, loss = 0.010490469573732602\n",
      "step = 6, loss = 0.009997747689769666\n",
      "step = 7, loss = 0.009714445738761545\n",
      "step = 8, loss = 0.00915948419849322\n",
      "step = 9, loss = 0.00802444389449299\n",
      "step = 10, loss = 0.007398605196010561\n",
      "1\n",
      "step = 1, loss = 0.007174428233594389\n",
      "step = 2, loss = 0.006972023321797106\n",
      "step = 3, loss = 0.006853927674347615\n",
      "step = 4, loss = 0.006740941976568188\n",
      "step = 5, loss = 0.00665729102605413\n",
      "step = 6, loss = 0.006562388146905492\n",
      "step = 7, loss = 0.006483106478219424\n",
      "step = 8, loss = 0.006434315301558874\n",
      "step = 9, loss = 0.0063774115704984665\n",
      "step = 10, loss = 0.006317641808421188\n",
      "2\n",
      "step = 1, loss = 0.006178573207131222\n",
      "step = 2, loss = 0.006095540848970183\n",
      "step = 3, loss = 0.005857999863466806\n",
      "step = 4, loss = 0.005687010642430773\n",
      "step = 5, loss = 0.005308461513636022\n",
      "step = 6, loss = 0.0050199338384453885\n",
      "step = 7, loss = 0.003587735711539605\n",
      "step = 8, loss = 0.003372674773411386\n",
      "step = 9, loss = 0.0026804677038667225\n",
      "step = 10, loss = 0.002034851290305645\n",
      "3\n",
      "step = 1, loss = 0.001888388020702292\n",
      "step = 2, loss = 0.0014008575245982985\n",
      "step = 3, loss = 0.0013532281361366071\n",
      "step = 4, loss = 0.0012971563349719085\n",
      "step = 5, loss = 0.0012870986939391732\n",
      "step = 6, loss = 0.0012852686615335168\n",
      "step = 7, loss = 0.0012841003583262578\n",
      "step = 8, loss = 0.0012836457072029326\n",
      "step = 9, loss = 0.0012834717325896337\n",
      "step = 10, loss = 0.0012834291204664602\n",
      "4\n",
      "step = 1, loss = 0.0012834207947281496\n",
      "step = 2, loss = 0.0012834134736551422\n",
      "step = 3, loss = 0.001283408884258294\n",
      "step = 4, loss = 0.0012834081941316214\n",
      "step = 5, loss = 0.001283407616162858\n",
      "step = 6, loss = 0.0012834073368585036\n",
      "step = 7, loss = 0.0012834072477298356\n",
      "step = 8, loss = 0.001283407180387167\n",
      "step = 9, loss = 0.0012834071743186405\n",
      "step = 10, loss = 0.0012834071732256138\n",
      "5\n",
      "step = 1, loss = 0.0012834071731158588\n",
      "step = 2, loss = 0.0012834071730249115\n",
      "step = 3, loss = 0.0012834071729938864\n",
      "step = 4, loss = 0.0012834071729748854\n",
      "step = 5, loss = 0.001283407172971901\n",
      "step = 6, loss = 0.0012834071729699043\n",
      "step = 7, loss = 0.0012834071729689706\n",
      "step = 8, loss = 0.0012834071729688303\n",
      "step = 9, loss = 0.0012834071729688169\n",
      "step = 10, loss = 0.0012834071729688119\n",
      "6\n",
      "step = 1, loss = 0.001283407172968818\n",
      "7\n",
      "step = 1, loss = 0.001283407172968812\n"
     ]
    },
    {
     "ename": "KeyboardInterrupt",
     "evalue": "",
     "output_type": "error",
     "traceback": [
      "\u001b[1;31m---------------------------------------------------------------------------\u001b[0m",
      "\u001b[1;31mKeyboardInterrupt\u001b[0m                         Traceback (most recent call last)",
      "\u001b[1;32m<ipython-input-22-4c36fc38f42a>\u001b[0m in \u001b[0;36m<module>\u001b[1;34m()\u001b[0m\n\u001b[0;32m      2\u001b[0m \u001b[1;32mfor\u001b[0m \u001b[0mi\u001b[0m \u001b[1;32min\u001b[0m \u001b[0mrange\u001b[0m\u001b[1;33m(\u001b[0m\u001b[1;36m100\u001b[0m\u001b[1;33m)\u001b[0m\u001b[1;33m:\u001b[0m\u001b[1;33m\u001b[0m\u001b[0m\n\u001b[0;32m      3\u001b[0m     \u001b[0mprint\u001b[0m\u001b[1;33m(\u001b[0m\u001b[0mi\u001b[0m\u001b[1;33m)\u001b[0m\u001b[1;33m\u001b[0m\u001b[0m\n\u001b[1;32m----> 4\u001b[1;33m     \u001b[0mloss\u001b[0m\u001b[1;33m,\u001b[0m \u001b[0mtheta_list\u001b[0m \u001b[1;33m=\u001b[0m \u001b[0mtrain\u001b[0m\u001b[1;33m(\u001b[0m\u001b[0mbm\u001b[0m\u001b[1;33m,\u001b[0m \u001b[0mtheta_list\u001b[0m\u001b[1;33m,\u001b[0m \u001b[1;34m'L-BFGS-B'\u001b[0m\u001b[1;33m,\u001b[0m \u001b[0mmax_iter\u001b[0m\u001b[1;33m=\u001b[0m\u001b[1;36m10\u001b[0m\u001b[1;33m)\u001b[0m\u001b[1;33m\u001b[0m\u001b[0m\n\u001b[0m\u001b[0;32m      5\u001b[0m \u001b[0mpl\u001b[0m \u001b[1;33m=\u001b[0m \u001b[0mbm\u001b[0m\u001b[1;33m.\u001b[0m\u001b[0mpdf\u001b[0m\u001b[1;33m(\u001b[0m\u001b[0mtheta_list\u001b[0m\u001b[1;33m)\u001b[0m\u001b[1;33m\u001b[0m\u001b[0m\n\u001b[0;32m      6\u001b[0m \u001b[1;33m\u001b[0m\u001b[0m\n",
      "\u001b[1;32m<ipython-input-20-553b3f406633>\u001b[0m in \u001b[0;36mtrain\u001b[1;34m(bm, theta_list, method, max_iter, step_rate)\u001b[0m\n\u001b[0;32m     38\u001b[0m                      \u001b[0mmethod\u001b[0m\u001b[1;33m=\u001b[0m\u001b[0mmethod\u001b[0m\u001b[1;33m,\u001b[0m \u001b[0mjac\u001b[0m \u001b[1;33m=\u001b[0m \u001b[0mbm\u001b[0m\u001b[1;33m.\u001b[0m\u001b[0mgradient\u001b[0m\u001b[1;33m,\u001b[0m \u001b[0mtol\u001b[0m\u001b[1;33m=\u001b[0m\u001b[1;36m1e-12\u001b[0m\u001b[1;33m,\u001b[0m\u001b[1;33m\u001b[0m\u001b[0m\n\u001b[0;32m     39\u001b[0m                      \u001b[0moptions\u001b[0m\u001b[1;33m=\u001b[0m\u001b[1;33m{\u001b[0m\u001b[1;34m'maxiter'\u001b[0m\u001b[1;33m:\u001b[0m \u001b[0mmax_iter\u001b[0m\u001b[1;33m,\u001b[0m \u001b[1;34m'disp'\u001b[0m\u001b[1;33m:\u001b[0m \u001b[1;36m0\u001b[0m\u001b[1;33m,\u001b[0m \u001b[1;34m'gtol'\u001b[0m\u001b[1;33m:\u001b[0m\u001b[1;36m1e-10\u001b[0m\u001b[1;33m,\u001b[0m \u001b[1;34m'ftol'\u001b[0m\u001b[1;33m:\u001b[0m\u001b[1;36m0\u001b[0m\u001b[1;33m}\u001b[0m\u001b[1;33m,\u001b[0m\u001b[1;33m\u001b[0m\u001b[0m\n\u001b[1;32m---> 40\u001b[1;33m                      \u001b[0mcallback\u001b[0m\u001b[1;33m=\u001b[0m\u001b[0mcallback\u001b[0m\u001b[1;33m,\u001b[0m\u001b[1;33m\u001b[0m\u001b[0m\n\u001b[0m\u001b[0;32m     41\u001b[0m                      )\n\u001b[0;32m     42\u001b[0m       \u001b[1;32mreturn\u001b[0m \u001b[0mres\u001b[0m\u001b[1;33m.\u001b[0m\u001b[0mfun\u001b[0m\u001b[1;33m,\u001b[0m \u001b[0mres\u001b[0m\u001b[1;33m.\u001b[0m\u001b[0mx\u001b[0m\u001b[1;33m\u001b[0m\u001b[0m\n",
      "\u001b[1;32mC:\\ProgramData\\Anaconda3\\lib\\site-packages\\scipy\\optimize\\_minimize.py\u001b[0m in \u001b[0;36mminimize\u001b[1;34m(fun, x0, args, method, jac, hess, hessp, bounds, constraints, tol, callback, options)\u001b[0m\n\u001b[0;32m    601\u001b[0m     \u001b[1;32melif\u001b[0m \u001b[0mmeth\u001b[0m \u001b[1;33m==\u001b[0m \u001b[1;34m'l-bfgs-b'\u001b[0m\u001b[1;33m:\u001b[0m\u001b[1;33m\u001b[0m\u001b[0m\n\u001b[0;32m    602\u001b[0m         return _minimize_lbfgsb(fun, x0, args, jac, bounds,\n\u001b[1;32m--> 603\u001b[1;33m                                 callback=callback, **options)\n\u001b[0m\u001b[0;32m    604\u001b[0m     \u001b[1;32melif\u001b[0m \u001b[0mmeth\u001b[0m \u001b[1;33m==\u001b[0m \u001b[1;34m'tnc'\u001b[0m\u001b[1;33m:\u001b[0m\u001b[1;33m\u001b[0m\u001b[0m\n\u001b[0;32m    605\u001b[0m         return _minimize_tnc(fun, x0, args, jac, bounds, callback=callback,\n",
      "\u001b[1;32mC:\\ProgramData\\Anaconda3\\lib\\site-packages\\scipy\\optimize\\lbfgsb.py\u001b[0m in \u001b[0;36m_minimize_lbfgsb\u001b[1;34m(fun, x0, args, jac, bounds, disp, maxcor, ftol, gtol, eps, maxfun, maxiter, iprint, callback, maxls, **unknown_options)\u001b[0m\n\u001b[0;32m    333\u001b[0m             \u001b[1;31m# until the completion of the current minimization iteration.\u001b[0m\u001b[1;33m\u001b[0m\u001b[1;33m\u001b[0m\u001b[0m\n\u001b[0;32m    334\u001b[0m             \u001b[1;31m# Overwrite f and g:\u001b[0m\u001b[1;33m\u001b[0m\u001b[1;33m\u001b[0m\u001b[0m\n\u001b[1;32m--> 335\u001b[1;33m             \u001b[0mf\u001b[0m\u001b[1;33m,\u001b[0m \u001b[0mg\u001b[0m \u001b[1;33m=\u001b[0m \u001b[0mfunc_and_grad\u001b[0m\u001b[1;33m(\u001b[0m\u001b[0mx\u001b[0m\u001b[1;33m)\u001b[0m\u001b[1;33m\u001b[0m\u001b[0m\n\u001b[0m\u001b[0;32m    336\u001b[0m         \u001b[1;32melif\u001b[0m \u001b[0mtask_str\u001b[0m\u001b[1;33m.\u001b[0m\u001b[0mstartswith\u001b[0m\u001b[1;33m(\u001b[0m\u001b[1;34mb'NEW_X'\u001b[0m\u001b[1;33m)\u001b[0m\u001b[1;33m:\u001b[0m\u001b[1;33m\u001b[0m\u001b[0m\n\u001b[0;32m    337\u001b[0m             \u001b[1;31m# new iteration\u001b[0m\u001b[1;33m\u001b[0m\u001b[1;33m\u001b[0m\u001b[0m\n",
      "\u001b[1;32mC:\\ProgramData\\Anaconda3\\lib\\site-packages\\scipy\\optimize\\lbfgsb.py\u001b[0m in \u001b[0;36mfunc_and_grad\u001b[1;34m(x)\u001b[0m\n\u001b[0;32m    284\u001b[0m         \u001b[1;32mdef\u001b[0m \u001b[0mfunc_and_grad\u001b[0m\u001b[1;33m(\u001b[0m\u001b[0mx\u001b[0m\u001b[1;33m)\u001b[0m\u001b[1;33m:\u001b[0m\u001b[1;33m\u001b[0m\u001b[0m\n\u001b[0;32m    285\u001b[0m             \u001b[0mf\u001b[0m \u001b[1;33m=\u001b[0m \u001b[0mfun\u001b[0m\u001b[1;33m(\u001b[0m\u001b[0mx\u001b[0m\u001b[1;33m,\u001b[0m \u001b[1;33m*\u001b[0m\u001b[0margs\u001b[0m\u001b[1;33m)\u001b[0m\u001b[1;33m\u001b[0m\u001b[0m\n\u001b[1;32m--> 286\u001b[1;33m             \u001b[0mg\u001b[0m \u001b[1;33m=\u001b[0m \u001b[0mjac\u001b[0m\u001b[1;33m(\u001b[0m\u001b[0mx\u001b[0m\u001b[1;33m,\u001b[0m \u001b[1;33m*\u001b[0m\u001b[0margs\u001b[0m\u001b[1;33m)\u001b[0m\u001b[1;33m\u001b[0m\u001b[0m\n\u001b[0m\u001b[0;32m    287\u001b[0m             \u001b[1;32mreturn\u001b[0m \u001b[0mf\u001b[0m\u001b[1;33m,\u001b[0m \u001b[0mg\u001b[0m\u001b[1;33m\u001b[0m\u001b[0m\n\u001b[0;32m    288\u001b[0m \u001b[1;33m\u001b[0m\u001b[0m\n",
      "\u001b[1;32m<ipython-input-16-2b40074ce2d9>\u001b[0m in \u001b[0;36mgradient\u001b[1;34m(self, theta_list)\u001b[0m\n\u001b[0;32m     56\u001b[0m             \u001b[1;31m# pi/2 phase\u001b[0m\u001b[1;33m\u001b[0m\u001b[1;33m\u001b[0m\u001b[0m\n\u001b[0;32m     57\u001b[0m             \u001b[0mtheta_list\u001b[0m\u001b[1;33m[\u001b[0m\u001b[0mi\u001b[0m\u001b[1;33m]\u001b[0m \u001b[1;33m+=\u001b[0m \u001b[0mnp\u001b[0m\u001b[1;33m.\u001b[0m\u001b[0mpi\u001b[0m\u001b[1;33m/\u001b[0m\u001b[1;36m2.\u001b[0m\u001b[1;33m\u001b[0m\u001b[0m\n\u001b[1;32m---> 58\u001b[1;33m             \u001b[0mprob_pos\u001b[0m \u001b[1;33m=\u001b[0m \u001b[0mself\u001b[0m\u001b[1;33m.\u001b[0m\u001b[0mpdf\u001b[0m\u001b[1;33m(\u001b[0m\u001b[0mtheta_list\u001b[0m\u001b[1;33m)\u001b[0m\u001b[1;33m\u001b[0m\u001b[0m\n\u001b[0m\u001b[0;32m     59\u001b[0m             \u001b[1;31m# -pi/2 phase\u001b[0m\u001b[1;33m\u001b[0m\u001b[1;33m\u001b[0m\u001b[0m\n\u001b[0;32m     60\u001b[0m             \u001b[0mtheta_list\u001b[0m\u001b[1;33m[\u001b[0m\u001b[0mi\u001b[0m\u001b[1;33m]\u001b[0m \u001b[1;33m-=\u001b[0m \u001b[0mnp\u001b[0m\u001b[1;33m.\u001b[0m\u001b[0mpi\u001b[0m\u001b[1;33m\u001b[0m\u001b[0m\n",
      "\u001b[1;32m<ipython-input-16-2b40074ce2d9>\u001b[0m in \u001b[0;36mpdf\u001b[1;34m(self, theta_list)\u001b[0m\n\u001b[0;32m     32\u001b[0m         \u001b[0mwf\u001b[0m \u001b[1;33m=\u001b[0m \u001b[0minitial_wf\u001b[0m\u001b[1;33m(\u001b[0m\u001b[0mself\u001b[0m\u001b[1;33m.\u001b[0m\u001b[0mcircuit\u001b[0m\u001b[1;33m.\u001b[0m\u001b[0mnum_bit\u001b[0m\u001b[1;33m)\u001b[0m\u001b[1;33m\u001b[0m\u001b[0m\n\u001b[0;32m     33\u001b[0m         \u001b[0mself\u001b[0m\u001b[1;33m.\u001b[0m\u001b[0mcircuit\u001b[0m\u001b[1;33m(\u001b[0m\u001b[0mwf\u001b[0m\u001b[1;33m,\u001b[0m \u001b[0mtheta_list\u001b[0m\u001b[1;33m)\u001b[0m\u001b[1;33m\u001b[0m\u001b[0m\n\u001b[1;32m---> 34\u001b[1;33m         \u001b[0mpl\u001b[0m \u001b[1;33m=\u001b[0m \u001b[0mprobability\u001b[0m\u001b[1;33m(\u001b[0m\u001b[0mwf\u001b[0m\u001b[1;33m)\u001b[0m  \u001b[1;31m# changed\u001b[0m\u001b[1;33m\u001b[0m\u001b[0m\n\u001b[0m\u001b[0;32m     35\u001b[0m         \u001b[1;31m# introducing sampling error\u001b[0m\u001b[1;33m\u001b[0m\u001b[1;33m\u001b[0m\u001b[0m\n\u001b[0;32m     36\u001b[0m         \u001b[1;31m# if self.batch_size is not None:\u001b[0m\u001b[1;33m\u001b[0m\u001b[1;33m\u001b[0m\u001b[0m\n",
      "\u001b[1;32m<ipython-input-15-ce99dc22d12c>\u001b[0m in \u001b[0;36mprobability\u001b[1;34m(wavefunction)\u001b[0m\n\u001b[0;32m      3\u001b[0m   \u001b[0mproblist\u001b[0m \u001b[1;33m=\u001b[0m \u001b[1;33m[\u001b[0m\u001b[1;33m]\u001b[0m\u001b[1;33m\u001b[0m\u001b[0m\n\u001b[0;32m      4\u001b[0m   \u001b[1;32mfor\u001b[0m \u001b[0mm\u001b[0m \u001b[1;32min\u001b[0m \u001b[0mMlist\u001b[0m\u001b[1;33m:\u001b[0m\u001b[1;33m\u001b[0m\u001b[0m\n\u001b[1;32m----> 5\u001b[1;33m     \u001b[0mproblist\u001b[0m\u001b[1;33m.\u001b[0m\u001b[0mappend\u001b[0m\u001b[1;33m(\u001b[0m\u001b[0mnp\u001b[0m\u001b[1;33m.\u001b[0m\u001b[0mreal\u001b[0m\u001b[1;33m(\u001b[0m\u001b[0mnp\u001b[0m\u001b[1;33m.\u001b[0m\u001b[0mconj\u001b[0m\u001b[1;33m(\u001b[0m\u001b[0mwavefunction\u001b[0m\u001b[1;33m)\u001b[0m \u001b[1;33m@\u001b[0m \u001b[0mm\u001b[0m \u001b[1;33m@\u001b[0m \u001b[0mwavefunction\u001b[0m\u001b[1;33m)\u001b[0m\u001b[1;33m)\u001b[0m \u001b[1;31m# wf.H@M@wf\u001b[0m\u001b[1;33m\u001b[0m\u001b[0m\n\u001b[0m\u001b[0;32m      6\u001b[0m   \u001b[1;32mreturn\u001b[0m \u001b[0mnp\u001b[0m\u001b[1;33m.\u001b[0m\u001b[0marray\u001b[0m\u001b[1;33m(\u001b[0m\u001b[0mproblist\u001b[0m\u001b[1;33m)\u001b[0m\u001b[1;33m\u001b[0m\u001b[0m\n",
      "\u001b[1;31mKeyboardInterrupt\u001b[0m: "
     ]
    }
   ],
   "source": [
    "loss, theta_list = train(bm, theta_list, 'L-BFGS-B', max_iter=10)\n",
    "for i in range(100):\n",
    "    print(i)\n",
    "    loss, theta_list = train(bm, theta_list, 'L-BFGS-B', max_iter=10)\n",
    "pl = bm.pdf(theta_list)\n",
    "\n",
    "# display training result\n",
    "plt.plot(bm.p_data)\n",
    "plt.plot(pl)\n",
    "plt.legend(['Data', 'Quantum Circuit Born Machine'])\n",
    "plt.title('trained')\n",
    "plt.show()"
   ]
  },
  {
   "cell_type": "code",
   "execution_count": 24,
   "metadata": {
    "colab": {},
    "colab_type": "code",
    "id": "X334bsZyl_vK"
   },
   "outputs": [
    {
     "data": {
      "image/png": "[encoded data removed]",
      "text/plain": [
       "<Figure size 432x288 with 1 Axes>"
      ]
     },
     "metadata": {},
     "output_type": "display_data"
    }
   ],
   "source": [
    "pl = bm.pdf(theta_list)\n",
    "plt.plot(bm.p_data)\n",
    "plt.plot(pl, linewidth = 0.3)\n",
    "plt.legend(['Data', 'Quantum Circuit Born Machine'])\n",
    "plt.title('trained')\n",
    "plt.show()"
   ]
  },
  {
   "cell_type": "code",
   "execution_count": null,
   "metadata": {},
   "outputs": [],
   "source": [
    "# multiprocessing.cpu_count()"
   ]
  },
  {
   "cell_type": "code",
   "execution_count": null,
   "metadata": {},
   "outputs": [],
   "source": [
    "# def func(a):\n",
    "#     print(a)\n",
    "# #     num = 0\n",
    "# #     for i in range(20000):\n",
    "# #         num+= 1/(2**i)\n",
    "# #     return num\n",
    "# def func2(a,i):\n",
    "#     a[i] = 1\n",
    "#     return np.sum(a)\n",
    "# arr = np.zeros(16)\n",
    "# #blist = Parallel(n_jobs = 2)(delayed(func)(i) for i in range(128))"
   ]
  },
  {
   "cell_type": "code",
   "execution_count": null,
   "metadata": {},
   "outputs": [],
   "source": [
    "# blist"
   ]
  },
  {
   "cell_type": "code",
   "execution_count": null,
   "metadata": {},
   "outputs": [],
   "source": [
    "# jobs = []\n",
    "# for i in range(16):\n",
    "#     p = multiprocessing.Process(target=func, args=(i,))\n",
    "#     jobs.append(p)\n",
    "#     p.start()\n",
    "#     p.join()"
   ]
  },
  {
   "cell_type": "code",
   "execution_count": null,
   "metadata": {},
   "outputs": [],
   "source": [
    "# def worker(num):\n",
    "#     \"\"\"thread worker function\"\"\"\n",
    "#     return num\n",
    "\n",
    "\n",
    "\n",
    "# jobs = []\n",
    "# for i in range(5):\n",
    "#     p = multiprocessing.Process(target=worker, args=(i,))\n",
    "#     jobs.append(p)\n",
    "#     p.start()"
   ]
  },
  {
   "cell_type": "code",
   "execution_count": null,
   "metadata": {},
   "outputs": [],
   "source": [
    "for i in range(1000000000):\n",
    "    i += 1"
   ]
  },
  {
   "cell_type": "code",
   "execution_count": null,
   "metadata": {},
   "outputs": [],
   "source": [
    "i"
   ]
  },
  {
   "cell_type": "code",
   "execution_count": null,
   "metadata": {},
   "outputs": [],
   "source": []
  }
 ],
 "metadata": {
  "accelerator": "GPU",
  "colab": {
   "collapsed_sections": [],
   "name": "Copy of BornMachinePOVM.ipynb",
   "provenance": []
  },
  "kernelspec": {
   "display_name": "Python 3",
   "language": "python",
   "name": "python3"
  },
  "language_info": {
   "codemirror_mode": {
    "name": "ipython",
    "version": 3
   },
   "file_extension": ".py",
   "mimetype": "text/x-python",
   "name": "python",
   "nbconvert_exporter": "python",
   "pygments_lexer": "ipython3",
   "version": "3.6.5"
  }
 },
 "nbformat": 4,
 "nbformat_minor": 1
}
