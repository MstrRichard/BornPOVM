{
  "nbformat": 4,
  "nbformat_minor": 0,
  "metadata": {
    "colab": {
      "name": "Copy of BornMachinePOVM.ipynb",
      "provenance": [],
      "collapsed_sections": []
    },
    "kernelspec": {
      "name": "python3",
      "display_name": "Python 3"
    },
    "accelerator": "GPU"
  },
  "cells": [
    {
      "cell_type": "code",
      "metadata": {
        "id": "hHqdDh5Bl_uF",
        "colab_type": "code",
        "colab": {}
      },
      "source": [
        "import numpy as np\n",
        "import matplotlib.pyplot as plt\n",
        "import scipy.sparse as sps"
      ],
      "execution_count": 0,
      "outputs": []
    },
    {
      "cell_type": "markdown",
      "metadata": {
        "id": "9Po0tv6fl_uR",
        "colab_type": "text"
      },
      "source": [
        "# training set\n",
        "Our training set is a simple Gaussian distribution"
      ]
    },
    {
      "cell_type": "code",
      "metadata": {
        "id": "Ds9tMSqAl_uU",
        "colab_type": "code",
        "outputId": "638a16ed-a454-489b-e3fa-8d33e02ea967",
        "colab": {
          "base_uri": "https://localhost:8080/",
          "height": 265
        }
      },
      "source": [
        "def gaussian_pdf(num_bit, mu, sigma):\n",
        "    '''get gaussian distribution function'''\n",
        "    x = np.arange(4**num_bit)     # changed 2 to 4\n",
        "    pl = 1. / np.sqrt(2 * np.pi * sigma**2) * \\\n",
        "        np.exp(-(x - mu)**2 / (2. * sigma**2))\n",
        "    return pl/pl.sum()\n",
        "\n",
        "num_bit = 3\n",
        "pg = gaussian_pdf(num_bit, mu=2**(2*num_bit-1)-0.5, sigma=2**4)  # was 2**4\n",
        "plt.plot(pg)\n",
        "plt.show()"
      ],
      "execution_count": 2,
      "outputs": [
        {
          "output_type": "display_data",
          "data": {
            "image/png": "[encoded data removed]",
            "text/plain": [
              "<Figure size 432x288 with 1 Axes>"
            ]
          },
          "metadata": {
            "tags": []
          }
        }
      ]
    },
    {
      "cell_type": "markdown",
      "metadata": {
        "id": "99B1jfKfl_ud",
        "colab_type": "text"
      },
      "source": [
        "# Build Circuits\n",
        "## Building Blocks\n",
        "Define matrix representations of operations using scipy sparse matrices.\n",
        "They are grouped to become a layer in a circuit, this layer can be `ArbitraryRotation` or `CNOTEntangler`.\n",
        "Which are used as our basic building blocks of our `Born Machines`."
      ]
    },
    {
      "cell_type": "code",
      "metadata": {
        "id": "kYr3mt1rl_uf",
        "colab_type": "code",
        "colab": {}
      },
      "source": [
        "######  Pauli Matrices  ########\n",
        "I2 = sps.eye(2).tocsr()\n",
        "sx = sps.csr_matrix([[0,1],[1,0.]])\n",
        "sy = sps.csr_matrix([[0,-1j],[1j,0.]])\n",
        "sz = sps.csr_matrix([[1,0],[0,-1.]])\n",
        "\n",
        "p0 = (sz + I2) / 2   #projection operator to |0><0|\n",
        "p1 = (-sz + I2) / 2\n",
        "\n",
        "# single bit rotation matrices\n",
        "def _ri(si, theta):\n",
        "    return np.cos(theta/2.)*I2 - 1j*np.sin(theta/2.)*si\n",
        "\n",
        "def rot(t1, t2, t3):\n",
        "    '''\n",
        "    a general rotation gate rz(t3)rx(r2)rz(t1).\n",
        "\n",
        "    Args:\n",
        "        t1, t2, t3 (float): three angles.\n",
        "\n",
        "    Returns:\n",
        "        2x2 csr_matrix: rotation matrix.\n",
        "    '''\n",
        "    return _ri(sz, t3).dot(_ri(sx, t2)).dot(_ri(sz, t1))\n",
        "\n",
        "# multiple bit construction\n",
        "def CNOT(ibit, jbit, n):\n",
        "    '''\n",
        "    CNOT gate\n",
        "    \n",
        "    Args:\n",
        "        ibit (int): control bit.\n",
        "        jbit (int): controled bit.\n",
        "        n (int): total number of qubits.\n",
        "        \n",
        "    Returns:\n",
        "        4x4 csr_matrix: CNOT matrix.\n",
        "    '''\n",
        "    res = _([p0, I2], [ibit, jbit], n)\n",
        "    res = res + _([p1, sx], [ibit, jbit], n)\n",
        "    return res\n",
        "\n",
        "def _(ops, locs, n):\n",
        "    '''\n",
        "    Compile operators into specific Hilbert space.\n",
        "\n",
        "    notice the last bit is the high end bit!\n",
        "\n",
        "    Args:\n",
        "        ops (list): list of single bit operators.\n",
        "        locs (list): list of positions.\n",
        "        n (int): total number of bits.\n",
        "\n",
        "    Returns:\n",
        "        csr_matrix: resulting matrix.\n",
        "    '''\n",
        "    if np.ndim(locs) == 0:\n",
        "        locs = [locs]\n",
        "    if not isinstance(ops, (list, tuple)):\n",
        "        ops = [ops]\n",
        "    locs = np.asarray(locs)\n",
        "    locs = n - locs\n",
        "    order = np.argsort(locs)\n",
        "    locs = np.concatenate([[0], locs[order], [n + 1]])\n",
        "    return _wrap_identity([ops[i] for i in order], np.diff(locs) - 1)\n",
        "\n",
        "\n",
        "def _wrap_identity(data_list, num_bit_list):\n",
        "    if len(num_bit_list) != len(data_list) + 1:\n",
        "        raise Exception()\n",
        "\n",
        "    res = sps.eye(2**num_bit_list[0])\n",
        "    for data, nbit in zip(data_list, num_bit_list[1:]):\n",
        "        res = sps.kron(res, data)\n",
        "        res = sps.kron(res, sps.eye(2**nbit, dtype='complex128'))\n",
        "    return res\n",
        "\n",
        "\n",
        "def initial_wf(num_bit):\n",
        "    '''initial wave function |00...0>.'''\n",
        "    wf = np.zeros(2**num_bit, dtype='complex128')\n",
        "    wf[0] = 1.\n",
        "    return wf"
      ],
      "execution_count": 0,
      "outputs": []
    },
    {
      "cell_type": "code",
      "metadata": {
        "id": "1MBVIfw3l_ul",
        "colab_type": "code",
        "colab": {}
      },
      "source": [
        "class ArbitraryRotation(object):\n",
        "    '''Arbitrary rotation gate'''\n",
        "    def __init__(self, num_bit):\n",
        "        self.num_bit = num_bit\n",
        "        # mask is used to filter out some irrelevant (marked False) parameters\n",
        "        self.mask = np.array([True] * (3*num_bit), dtype='bool')\n",
        "\n",
        "    @property\n",
        "    def num_param(self):\n",
        "        return self.mask.sum()\n",
        "\n",
        "    def tocsr(self, theta_list):\n",
        "        '''transform this block to a sequence of csr_matrices.'''\n",
        "        theta_list_ = np.zeros(3*self.num_bit)\n",
        "        theta_list_[self.mask] = theta_list\n",
        "        rots = [rot(*ths) for ths in theta_list_.reshape([self.num_bit,3])]\n",
        "        res = [_([r], [i], self.num_bit) for i,r in enumerate(rots)]\n",
        "        return res\n",
        "\n",
        "class CNOTEntangler(object):\n",
        "    '''\n",
        "    CNOT Entangler Layer.\n",
        "    \n",
        "    Args:\n",
        "        pairs (list): a list of tuples to represent connections.\n",
        "    '''\n",
        "    def __init__(self, num_bit, pairs):\n",
        "        self.num_bit = num_bit\n",
        "        self.pairs = pairs\n",
        "\n",
        "    @property\n",
        "    def num_param(self):\n",
        "        return 0\n",
        "\n",
        "    def tocsr(self, theta_list):\n",
        "        '''transform this block to a sequence of csr_matrices.'''\n",
        "        i, j = self.pairs[0]\n",
        "        res = CNOT(i, j, self.num_bit)\n",
        "        for i, j in self.pairs[1:]:\n",
        "            res = CNOT(i,j,self.num_bit).dot(res)\n",
        "        res.eliminate_zeros()\n",
        "        return [res]"
      ],
      "execution_count": 0,
      "outputs": []
    },
    {
      "cell_type": "markdown",
      "metadata": {
        "id": "8dR6z_Sjl_uo",
        "colab_type": "text"
      },
      "source": [
        "# Circuit\n",
        "A circuit is consist of queued layers, here this data structure is `BlockQueue`. A `BlockQueue` uses `theta_last` and `memo` attributes to cache sparse operators, this will accelerate simulation significantly."
      ]
    },
    {
      "cell_type": "code",
      "metadata": {
        "id": "ax0MxiMSl_up",
        "colab_type": "code",
        "colab": {}
      },
      "source": [
        "class BlockQueue(list):\n",
        "    '''\n",
        "    Block Queue that keep track of theta_list changing history, for fast update.\n",
        "    \n",
        "    Attributes:\n",
        "        theta_last (1darray): the cached circuit parameters.\n",
        "        memo (list): cached sparse matrices for layers.\n",
        "    '''\n",
        "    def __init__(self, *args):\n",
        "        list.__init__(self, *args)\n",
        "        self.theta_last = None\n",
        "        self.memo = None\n",
        "\n",
        "    def __call__(self, qureg, theta_list):\n",
        "        '''\n",
        "        Apply operations on vector basis: qureg. This operation changes vector inplace.\n",
        "        \n",
        "        Args:\n",
        "            qureg (1darray): vector basis.\n",
        "            theta_list (1darray): circuit parameters:\n",
        "        '''\n",
        "        # cache? if theta_list change <= 1 parameters, then don't touch memory.\n",
        "        remember = self.theta_last is None or (abs(self.theta_last-theta_list)>1e-12).sum() > 1\n",
        "\n",
        "        mats = []\n",
        "        theta_last = self.theta_last\n",
        "        if remember:\n",
        "            self.theta_last = theta_list.copy()\n",
        "\n",
        "        qureg_ = qureg\n",
        "        for iblock, block in enumerate(self):\n",
        "            # generate or use a block matrix\n",
        "            num_param = block.num_param\n",
        "            theta_i, theta_list = np.split(theta_list, [num_param])\n",
        "            if theta_last is not None:\n",
        "                theta_o, theta_last = np.split(theta_last, [num_param])\n",
        "            if self.memo is not None and (num_param==0 or np.abs(theta_i-theta_o).max()<1e-12):\n",
        "                # use data cached in memory\n",
        "                mat = self.memo[iblock]\n",
        "            else:\n",
        "                if self.memo is not None and not remember:\n",
        "                    # update the changed gate, but not touching memory.\n",
        "                    mat = _rot_tocsr_update1(block, self.memo[iblock], theta_o, theta_i)\n",
        "                else:\n",
        "                    # regenerate one\n",
        "                    mat = block.tocsr(theta_i)\n",
        "            for mat_i in mat:\n",
        "                qureg_ = mat_i.dot(qureg_)\n",
        "            mats.append(mat)\n",
        "\n",
        "        if remember:\n",
        "            # cache data\n",
        "            self.memo = mats\n",
        "        # update register\n",
        "        qureg[...] = qureg_\n",
        "        np.testing.assert_(len(theta_list)==0)\n",
        "        \n",
        "    @property\n",
        "    def num_bit(self):\n",
        "        return self[0].num_bit\n",
        "\n",
        "    @property\n",
        "    def num_param(self):\n",
        "        return sum([b.num_param for b in self])\n",
        "\n",
        "def _rot_tocsr_update1(layer, old, theta_old, theta_new):\n",
        "    '''\n",
        "    rotation layer csr_matrices update method.\n",
        "    \n",
        "    Args:\n",
        "        layer (ArbitraryRotation): rotation layer.\n",
        "        old (csr_matrix): old matrices.\n",
        "        theta_old (1darray): old parameters.\n",
        "        theta_new (1darray): new parameters.\n",
        "\n",
        "    Returns:\n",
        "        list of csr_matrix: new rotation matrices after the theta changed.\n",
        "    '''\n",
        "    idiff_param = np.where(abs(theta_old-theta_new)>1e-12)[0].item()\n",
        "    idiff = np.where(layer.mask)[0][idiff_param]\n",
        "\n",
        "    # get rotation parameters\n",
        "    isite = idiff//3\n",
        "    theta_list_ = np.zeros(3*layer.num_bit)\n",
        "    theta_list_[layer.mask] = theta_new\n",
        "    \n",
        "    new = old[:]\n",
        "    new[isite] = _(rot(*theta_list_[isite*3:isite*3+3]), isite, layer.num_bit)\n",
        "    return new"
      ],
      "execution_count": 0,
      "outputs": []
    },
    {
      "cell_type": "code",
      "metadata": {
        "id": "pPa44pmWl_ur",
        "colab_type": "code",
        "colab": {}
      },
      "source": [
        "def get_nn_pairs(num_bit):\n",
        "    '''get nearest neighbor pairs.'''\n",
        "    res = []\n",
        "    for inth in range(2):\n",
        "        for i in range(inth, num_bit, 2):\n",
        "            res = res + [(i, i_ % num_bit) for i_ in range(i + 1, i + 2)]\n",
        "    return res\n",
        "\n",
        "def get_demo_circuit(num_bit, depth, pairs):\n",
        "    '''Get the circuit used for demo'''\n",
        "    blocks = []\n",
        "    # build circuit\n",
        "    for idepth in range(depth+1):\n",
        "        blocks.append(ArbitraryRotation(num_bit))\n",
        "        if idepth!=depth:\n",
        "            blocks.append(CNOTEntangler(num_bit, pairs))\n",
        "\n",
        "    # set leading and trailing Rz to disabled\n",
        "    blocks[0].mask[::3] = False\n",
        "    blocks[-1].mask[2::3] = False\n",
        "    return BlockQueue(blocks)"
      ],
      "execution_count": 0,
      "outputs": []
    },
    {
      "cell_type": "code",
      "metadata": {
        "id": "ksYpVLV9l_ut",
        "colab_type": "code",
        "outputId": "3f0a40bf-5fae-4492-e156-6241720382d1",
        "colab": {
          "base_uri": "https://localhost:8080/",
          "height": 54
        }
      },
      "source": [
        "# let's see how this circuit look like\n",
        "depth = 6\n",
        "pairs = get_nn_pairs(num_bit)\n",
        "circuit = get_demo_circuit(num_bit, depth, pairs)\n",
        "print(circuit)"
      ],
      "execution_count": 7,
      "outputs": [
        {
          "output_type": "stream",
          "text": [
            "[<__main__.ArbitraryRotation object at 0x7f90759e75f8>, <__main__.CNOTEntangler object at 0x7f90759e7f98>, <__main__.ArbitraryRotation object at 0x7f90759e7be0>, <__main__.CNOTEntangler object at 0x7f90759e79e8>, <__main__.ArbitraryRotation object at 0x7f90759e77b8>, <__main__.CNOTEntangler object at 0x7f90759e7ba8>, <__main__.ArbitraryRotation object at 0x7f90749cb048>, <__main__.CNOTEntangler object at 0x7f90749cb358>, <__main__.ArbitraryRotation object at 0x7f90749cb3c8>, <__main__.CNOTEntangler object at 0x7f90749cb080>, <__main__.ArbitraryRotation object at 0x7f90749cb128>, <__main__.CNOTEntangler object at 0x7f90749cb438>, <__main__.ArbitraryRotation object at 0x7f90749cb1d0>]\n"
          ],
          "name": "stdout"
        }
      ]
    },
    {
      "cell_type": "code",
      "metadata": {
        "id": "iXCJDkXUl_ux",
        "colab_type": "code",
        "outputId": "47740de9-7996-48e3-cb53-5e698cee110c",
        "colab": {
          "base_uri": "https://localhost:8080/",
          "height": 118
        }
      },
      "source": [
        "# let's see how this circuit works\n",
        "# rotating the last bit along x axis by pi/2.\n",
        "theta_list = np.zeros(circuit.num_param)\n",
        "print(theta_list)\n",
        "theta_list[-1] = np.pi/2\n",
        "\n",
        "wf = initial_wf(num_bit)\n",
        "circuit(wf, theta_list)\n",
        "\n",
        "# now you see the last bit is the high end bit!\n",
        "print(wf)"
      ],
      "execution_count": 8,
      "outputs": [
        {
          "output_type": "stream",
          "text": [
            "[0. 0. 0. 0. 0. 0. 0. 0. 0. 0. 0. 0. 0. 0. 0. 0. 0. 0. 0. 0. 0. 0. 0. 0.\n",
            " 0. 0. 0. 0. 0. 0. 0. 0. 0. 0. 0. 0. 0. 0. 0. 0. 0. 0. 0. 0. 0. 0. 0. 0.\n",
            " 0. 0. 0. 0. 0. 0. 0. 0. 0.]\n",
            "[0.70710678+0.j         0.        +0.j         0.        +0.j\n",
            " 0.        +0.j         0.        -0.70710678j 0.        +0.j\n",
            " 0.        +0.j         0.        +0.j        ]\n"
          ],
          "name": "stdout"
        }
      ]
    },
    {
      "cell_type": "markdown",
      "metadata": {
        "id": "ZyeNb3A3l_uz",
        "colab_type": "text"
      },
      "source": [
        "# MMD Loss Function\n",
        "As a reminder\n",
        "\\begin{align}\n",
        "    \\mathcal{L} =&  \\left\\|\\sum_{x} p_\\theta(x) \\phi(x)- \\sum_{x} \\pi(x) \\phi(x)  \\right\\|^2 \\\\\n",
        "    =&\\langle K(x,y)\\rangle_{x\\sim p_\\theta, y\\sim p_\\theta}-2\\langle K(x,y)\\rangle_{x\\sim p_\\theta,y\\sim \\pi}+\\langle K(x, y)\\rangle_{x\\sim \\pi,y\\sim \\pi}\n",
        "\\end{align}\n"
      ]
    },
    {
      "cell_type": "code",
      "metadata": {
        "id": "rNaRWyALl_u0",
        "colab_type": "code",
        "colab": {}
      },
      "source": [
        "class RBFMMD2(object):\n",
        "    '''\n",
        "    MMD^2 with RBF (Gaussian) kernel.\n",
        "    \n",
        "    Args:\n",
        "        sigma_list (list): a list of bandwidths.\n",
        "        basis (1darray): defininng space.\n",
        "      \n",
        "    Attributes:\n",
        "        K (2darray): full kernel matrix, notice the Hilbert is countable.\n",
        "    '''\n",
        "    def __init__(self, sigma_list, basis):\n",
        "        self.sigma_list = sigma_list\n",
        "        self.basis = basis\n",
        "        self.K = mix_rbf_kernel(basis, basis, self.sigma_list)\n",
        "\n",
        "    def __call__(self, px, py):\n",
        "        '''\n",
        "        Args:\n",
        "            px (1darray, default=None): probability for data set x, used only when self.is_exact==True.\n",
        "            py (1darray, default=None): same as px, but for data set y.\n",
        "\n",
        "        Returns:\n",
        "            float: loss.\n",
        "        '''\n",
        "        pxy = px-py\n",
        "        return self.kernel_expect(pxy, pxy)\n",
        "\n",
        "    def kernel_expect(self, px, py):\n",
        "        '''\n",
        "        expectation value of kernel function.\n",
        "        \n",
        "        Args:\n",
        "            px (1darray): the first PDF.\n",
        "            py (1darray): the second PDF.\n",
        "            \n",
        "        Returns:\n",
        "            float: kernel expectation.\n",
        "        '''\n",
        "        return px.dot(self.K).dot(py)\n",
        "\n",
        "def mix_rbf_kernel(x, y, sigma_list):\n",
        "    '''\n",
        "    multi-RBF kernel.\n",
        "    \n",
        "    Args:\n",
        "        x (1darray|2darray): the collection of samples A.\n",
        "        x (1darray|2darray): the collection of samples B.\n",
        "        sigma_list (list): a list of bandwidths.\n",
        "        \n",
        "    Returns:\n",
        "        2darray: kernel matrix.\n",
        "    '''\n",
        "    ndim = x.ndim\n",
        "    if ndim == 1:\n",
        "        exponent = np.abs(x[:, None] - y[None, :])**2\n",
        "    elif ndim == 2:\n",
        "        exponent = ((x[:, None, :] - y[None, :, :])**2).sum(axis=2)\n",
        "    else:\n",
        "        raise\n",
        "    K = 0.0\n",
        "    for sigma in sigma_list:\n",
        "        gamma = 1.0 / (2 * sigma)\n",
        "        K = K + np.exp(-gamma * exponent)\n",
        "    return K"
      ],
      "execution_count": 0,
      "outputs": []
    },
    {
      "cell_type": "code",
      "metadata": {
        "id": "rqgpurrWjasl",
        "colab_type": "code",
        "outputId": "55cd424d-bf68-4ad8-c0f2-5057ae8ad287",
        "colab": {
          "base_uri": "https://localhost:8080/",
          "height": 50
        }
      },
      "source": [
        "hndim = 2**num_bit\n",
        "# mmd loss\n",
        "mmd = RBFMMD2(sigma_list=[0.25,4], basis=np.arange(4**num_bit))   # changed to 4\n",
        "\n",
        "# when exact match, MMD loss should be 0, e.g. two gaussians\n",
        "print('Exact Match -> MMD = %.4f'%mmd(pg, pg))\n",
        "# when not match, loss is not zero\n",
        "prand = np.random.random(len(pg))\n",
        "print('Not Match -> MMD = %.4f'%mmd(prand/prand.sum(), pg))"
      ],
      "execution_count": 10,
      "outputs": [
        {
          "output_type": "stream",
          "text": [
            "Exact Match -> MMD = 0.0000\n",
            "Not Match -> MMD = 0.0381\n"
          ],
          "name": "stdout"
        }
      ]
    },
    {
      "cell_type": "markdown",
      "metadata": {
        "id": "UPS1mVIDi-NT",
        "colab_type": "text"
      },
      "source": [
        "\n",
        "\n",
        "\n",
        "# 4-Pauli POVMs\n",
        "The 4-Pauli POVMs for a single qubit are given by\n",
        "\\begin{align}\n",
        "M^{(0)} &= \\frac{1}{3}|0\\rangle\\langle0| \\\\\n",
        "M^{(1)} &= \\frac{1}{3}|+\\rangle\\langle+| \\\\\n",
        "M^{(2)} &= \\frac{1}{3}|r\\rangle\\langle r| \\\\\n",
        "M^{(3)} &= \\textbf{1} - M^{(0)} - M^{(1)} - M^{(2)}\n",
        "\\end{align}\n",
        "\n",
        "\n"
      ]
    },
    {
      "cell_type": "code",
      "metadata": {
        "id": "j3Y45uaRmL_R",
        "colab_type": "code",
        "outputId": "bd8a389e-7c0d-4a18-d716-050f7ee723c1",
        "colab": {
          "base_uri": "https://localhost:8080/",
          "height": 67
        }
      },
      "source": [
        "# Eigenvectors\n",
        "up = np.array([1+0j,0+0j], dtype='complex128')\n",
        "plus = np.array([1+0j,1+0j], dtype='complex128') / np.sqrt(2)\n",
        "right = np.array([1+0j,0+1j], dtype='complex128') / np.sqrt(2)\n",
        "\n",
        "print(up)\n",
        "print(plus)\n",
        "print(right)"
      ],
      "execution_count": 11,
      "outputs": [
        {
          "output_type": "stream",
          "text": [
            "[1.+0.j 0.+0.j]\n",
            "[0.70710678+0.j 0.70710678+0.j]\n",
            "[0.70710678+0.j         0.        +0.70710678j]\n"
          ],
          "name": "stdout"
        }
      ]
    },
    {
      "cell_type": "code",
      "metadata": {
        "id": "cRit-EZc09mN",
        "colab_type": "code",
        "colab": {}
      },
      "source": [
        "I = np.array([[1,0],[0,1]], dtype='complex128')\n",
        "X = np.array([[0, 1],[1, 0]], dtype='complex128')\n",
        "Z = np.array([[1, 0],[0, -1]], dtype='complex128')\n",
        "Y = np.array([[0, -1j],[1j, 0]], dtype='complex128')"
      ],
      "execution_count": 0,
      "outputs": []
    },
    {
      "cell_type": "code",
      "metadata": {
        "id": "qs-EmOYb09pG",
        "colab_type": "code",
        "colab": {
          "base_uri": "https://localhost:8080/",
          "height": 50
        },
        "outputId": "b4fdc410-3417-4d77-eba2-42349d7a62d5"
      },
      "source": [
        "v1 = np.array([0, 0, 1])\n",
        "M0 = (I + v1[0]*X + v1[1]*Y + v1[2]*Z)/4\n",
        "v2 = np.array([2*np.sqrt(2)/3, 0, -1/3])\n",
        "M1 = (I + v2[0]*X + v2[1]*Y + v2[2]*Z)/4\n",
        "v3 = np.array([-np.sqrt(2)/3, np.sqrt(2)/3, -1/3])\n",
        "M2 = (I + v3[0]*X + v3[1]*Y + v3[2]*Z)/4\n",
        "v4 = np.array([-np.sqrt(2)/3, -np.sqrt(2)/3, -1/3])\n",
        "M3 = (I + v4[0]*X + v4[1]*Y + v4[2]*Z)/4\n",
        "M0+M1+M2+M3"
      ],
      "execution_count": 13,
      "outputs": [
        {
          "output_type": "execute_result",
          "data": {
            "text/plain": [
              "array([[1.+0.j, 0.+0.j],\n",
              "       [0.+0.j, 1.+0.j]])"
            ]
          },
          "metadata": {
            "tags": []
          },
          "execution_count": 13
        }
      ]
    },
    {
      "cell_type": "code",
      "metadata": {
        "id": "4ioqpoRMmMCF",
        "colab_type": "code",
        "outputId": "205ceb74-b047-4a89-b84d-c74fc58bbc60",
        "colab": {
          "base_uri": "https://localhost:8080/",
          "height": 151
        }
      },
      "source": [
        "# # 4-Pauli POVMs for a single qubit\n",
        "# M0 = np.outer(up, np.conj(up)) / 3\n",
        "# M1 = np.outer(plus, np.conj(plus)) / 3\n",
        "# M2 = np.outer(right, np.conj(right)) / 3\n",
        "# M3 = np.eye(2, dtype='complex128') - M0 - M1 - M2\n",
        "\n",
        "print(M0)\n",
        "print(M1)\n",
        "print(M2)\n",
        "print(M3)"
      ],
      "execution_count": 14,
      "outputs": [
        {
          "output_type": "stream",
          "text": [
            "[[0.5+0.j 0. +0.j]\n",
            " [0. +0.j 0. +0.j]]\n",
            "[[0.16666667+0.j 0.23570226+0.j]\n",
            " [0.23570226+0.j 0.33333333+0.j]]\n",
            "[[ 0.16666667+0.j         -0.11785113-0.11785113j]\n",
            " [-0.11785113+0.11785113j  0.33333333+0.j        ]]\n",
            "[[ 0.16666667+0.j         -0.11785113+0.11785113j]\n",
            " [-0.11785113-0.11785113j  0.33333333+0.j        ]]\n"
          ],
          "name": "stdout"
        }
      ]
    },
    {
      "cell_type": "code",
      "metadata": {
        "id": "eBnfjq3UmME3",
        "colab_type": "code",
        "colab": {}
      },
      "source": [
        "# make tensor product of POVMs\n",
        "def tensorproduct(matrix1, matrix2):\n",
        "    dim = matrix1.shape[0] * matrix2.shape[0]\n",
        "    \n",
        "    # has to reverse the order otherwise doesn't work\n",
        "    return np.tensordot(matrix2, matrix1, axes = 0).swapaxes(1, 2).reshape(dim, dim)"
      ],
      "execution_count": 0,
      "outputs": []
    },
    {
      "cell_type": "code",
      "metadata": {
        "id": "qc3V6WLSpF8D",
        "colab_type": "code",
        "outputId": "899a9c54-c8c4-45f1-dd5b-59f0e3f0dac3",
        "colab": {
          "base_uri": "https://localhost:8080/",
          "height": 54
        }
      },
      "source": [
        "# proof of concept\n",
        "Ms = ['M0', 'M1', 'M2', 'M3'] # POVMs\n",
        "Mlist = Ms[:] # make a copy\n",
        "\n",
        "for i in range(num_bit - 1):  # minus one because we initialized above\n",
        "    Mlisttemp = []\n",
        "    for m2 in Mlist:\n",
        "        for m1 in Ms:\n",
        "            Mlisttemp.append(m1 + ' dot ' + m2)\n",
        "    Mlist = Mlisttemp\n",
        "print(Mlist)"
      ],
      "execution_count": 16,
      "outputs": [
        {
          "output_type": "stream",
          "text": [
            "['M0 dot M0 dot M0', 'M1 dot M0 dot M0', 'M2 dot M0 dot M0', 'M3 dot M0 dot M0', 'M0 dot M1 dot M0', 'M1 dot M1 dot M0', 'M2 dot M1 dot M0', 'M3 dot M1 dot M0', 'M0 dot M2 dot M0', 'M1 dot M2 dot M0', 'M2 dot M2 dot M0', 'M3 dot M2 dot M0', 'M0 dot M3 dot M0', 'M1 dot M3 dot M0', 'M2 dot M3 dot M0', 'M3 dot M3 dot M0', 'M0 dot M0 dot M1', 'M1 dot M0 dot M1', 'M2 dot M0 dot M1', 'M3 dot M0 dot M1', 'M0 dot M1 dot M1', 'M1 dot M1 dot M1', 'M2 dot M1 dot M1', 'M3 dot M1 dot M1', 'M0 dot M2 dot M1', 'M1 dot M2 dot M1', 'M2 dot M2 dot M1', 'M3 dot M2 dot M1', 'M0 dot M3 dot M1', 'M1 dot M3 dot M1', 'M2 dot M3 dot M1', 'M3 dot M3 dot M1', 'M0 dot M0 dot M2', 'M1 dot M0 dot M2', 'M2 dot M0 dot M2', 'M3 dot M0 dot M2', 'M0 dot M1 dot M2', 'M1 dot M1 dot M2', 'M2 dot M1 dot M2', 'M3 dot M1 dot M2', 'M0 dot M2 dot M2', 'M1 dot M2 dot M2', 'M2 dot M2 dot M2', 'M3 dot M2 dot M2', 'M0 dot M3 dot M2', 'M1 dot M3 dot M2', 'M2 dot M3 dot M2', 'M3 dot M3 dot M2', 'M0 dot M0 dot M3', 'M1 dot M0 dot M3', 'M2 dot M0 dot M3', 'M3 dot M0 dot M3', 'M0 dot M1 dot M3', 'M1 dot M1 dot M3', 'M2 dot M1 dot M3', 'M3 dot M1 dot M3', 'M0 dot M2 dot M3', 'M1 dot M2 dot M3', 'M2 dot M2 dot M3', 'M3 dot M2 dot M3', 'M0 dot M3 dot M3', 'M1 dot M3 dot M3', 'M2 dot M3 dot M3', 'M3 dot M3 dot M3']\n"
          ],
          "name": "stdout"
        }
      ]
    },
    {
      "cell_type": "code",
      "metadata": {
        "id": "qXC8ZvZamMHt",
        "colab_type": "code",
        "colab": {}
      },
      "source": [
        "Ms = [M0, M1, M2, M3] # POVMs\n",
        "Mlist = Ms[:] # make a copy\n",
        "\n",
        "for i in range(num_bit - 1):  # minus one because we initialized above\n",
        "    Mlisttemp = []\n",
        "    for m2 in Mlist:\n",
        "        for m1 in Ms:\n",
        "            Mlisttemp.append(tensorproduct(m1, m2))\n",
        "    Mlist = Mlisttemp"
      ],
      "execution_count": 0,
      "outputs": []
    },
    {
      "cell_type": "code",
      "metadata": {
        "id": "lScVOAdFpyMA",
        "colab_type": "code",
        "colab": {}
      },
      "source": [
        "# expectation value of POVMs, i.e. probabilities\n",
        "def probability(wavefunction):\n",
        "  problist = []\n",
        "  for m in Mlist:\n",
        "    problist.append(np.real(np.conj(wavefunction) @ m @ wavefunction)) # wf.H@M@wf\n",
        "  return np.array(problist)\n"
      ],
      "execution_count": 0,
      "outputs": []
    },
    {
      "cell_type": "code",
      "metadata": {
        "id": "Jcx_pAwtpyZs",
        "colab_type": "code",
        "colab": {}
      },
      "source": [
        ""
      ],
      "execution_count": 0,
      "outputs": []
    },
    {
      "cell_type": "code",
      "metadata": {
        "id": "EmfkpSJFpych",
        "colab_type": "code",
        "colab": {}
      },
      "source": [
        ""
      ],
      "execution_count": 0,
      "outputs": []
    },
    {
      "cell_type": "code",
      "metadata": {
        "id": "Dw5NEpTnpyfT",
        "colab_type": "code",
        "colab": {}
      },
      "source": [
        ""
      ],
      "execution_count": 0,
      "outputs": []
    },
    {
      "cell_type": "code",
      "metadata": {
        "id": "eIUCmGcKpyiE",
        "colab_type": "code",
        "colab": {}
      },
      "source": [
        ""
      ],
      "execution_count": 0,
      "outputs": []
    },
    {
      "cell_type": "code",
      "metadata": {
        "id": "XjLZ4etdpykh",
        "colab_type": "code",
        "colab": {}
      },
      "source": [
        ""
      ],
      "execution_count": 0,
      "outputs": []
    },
    {
      "cell_type": "markdown",
      "metadata": {
        "id": "He6uVgqzl_u2",
        "colab_type": "text"
      },
      "source": [
        "# Build The Gradient training framework for Born Machine\n",
        "The gradient of MMD loss is\n",
        "\\begin{eqnarray}\n",
        "        \\frac{\\partial \\mathcal{L}}{\\partial \\theta_l^i} &=&\\langle{K(x,y)}\\rangle_{x\\sim p_{\\theta^+}, y\\sim p_\\theta}-\\langle {K(x,y)}\\rangle_{x\\sim p_{\\theta^-},y\\sim p_\\theta}\\\\\n",
        "        &-&\\langle K(x,y)\\rangle_{x\\sim p_{\\theta^+},y\\sim \\pi}+\\langle {K(x,y)}\\rangle_{x\\sim p_{\\theta^-},y\\sim \\pi}.\n",
        "\\end{eqnarray}"
      ]
    },
    {
      "cell_type": "code",
      "metadata": {
        "id": "3tRLpcrQl_u3",
        "colab_type": "code",
        "colab": {}
      },
      "source": [
        "class QCBM(object):\n",
        "    '''\n",
        "    Quantum Circuit Born Machine framework,\n",
        "\n",
        "    Args:\n",
        "        circuit (BlockQueue): the circuit architechture.\n",
        "        mmd (RBFMMD2): maximum mean discrepancy.\n",
        "        p_data (1darray): data probability distribution in computation basis.\n",
        "        batch_size (int|None): introducing sampling error, None for no sampling error.\n",
        "    '''\n",
        "    def __init__(self, circuit, mmd, p_data, batch_size=None):\n",
        "        self.circuit = circuit\n",
        "        self.mmd = mmd\n",
        "        self.p_data = p_data\n",
        "        self.batch_size = batch_size\n",
        "\n",
        "    @property\n",
        "    def depth(self):\n",
        "        '''defined by the number of entanglers'''\n",
        "        return (len(self.circuit)-1)//2\n",
        "\n",
        "    def pdf(self, theta_list):\n",
        "        '''\n",
        "        get probability distribution function.\n",
        "        \n",
        "        Args:\n",
        "            theta_list (1darray): circuit parameters.\n",
        "            \n",
        "        Returns:\n",
        "            1darray: probability distribution function.\n",
        "        '''\n",
        "        wf = initial_wf(self.circuit.num_bit)\n",
        "        self.circuit(wf, theta_list)\n",
        "        pl = probability(wf)  # changed\n",
        "        # introducing sampling error\n",
        "        # if self.batch_size is not None:\n",
        "        #     pl = prob_from_sample(sample_from_prob(np.arange(len(pl)), pl, self.batch_size),\n",
        "        #             len(pl))\n",
        "        return pl\n",
        "\n",
        "    def mmd_loss(self, theta_list):\n",
        "        '''get the loss'''\n",
        "        # get and cahe probability distritbution of Born Machine\n",
        "        self._prob = self.pdf(theta_list)\n",
        "        # use wave function to get mmd loss\n",
        "        return self.mmd(self._prob, self.p_data)\n",
        "\n",
        "    def gradient(self, theta_list):\n",
        "        '''\n",
        "        cheat and get gradient.\n",
        "        '''\n",
        "        prob = self.pdf(theta_list)\n",
        "        grad = []\n",
        "        for i in range(len(theta_list)):\n",
        "            # pi/2 phase\n",
        "            theta_list[i] += np.pi/2.\n",
        "            prob_pos = self.pdf(theta_list)\n",
        "            # -pi/2 phase\n",
        "            theta_list[i] -= np.pi\n",
        "            prob_neg = self.pdf(theta_list)\n",
        "            # recover\n",
        "            theta_list[i] += np.pi/2.\n",
        "\n",
        "            grad_pos = self.mmd.kernel_expect(prob, prob_pos) - self.mmd.kernel_expect(prob, prob_neg)\n",
        "            grad_neg = self.mmd.kernel_expect(self.p_data, prob_pos) - self.mmd.kernel_expect(self.p_data, prob_neg)\n",
        "            grad.append(grad_pos - grad_neg)\n",
        "        return np.array(grad)\n",
        "\n",
        "    def gradient_numerical(self, theta_list, delta=1e-2):\n",
        "        '''\n",
        "        numerical differenciation.\n",
        "        '''\n",
        "        grad = []\n",
        "        for i in range(len(theta_list)):\n",
        "            theta_list[i] += delta/2.\n",
        "            loss_pos = self.mmd_loss(theta_list)\n",
        "            theta_list[i] -= delta\n",
        "            loss_neg = self.mmd_loss(theta_list)\n",
        "            theta_list[i] += delta/2.\n",
        "\n",
        "            grad_i = (loss_pos - loss_neg)/delta\n",
        "            grad.append(grad_i)\n",
        "        return np.array(grad)\n",
        "    \n",
        "def sample_from_prob(x, pl, num_sample):\n",
        "    '''\n",
        "    sample x ~ pl.\n",
        "    '''\n",
        "    pl = 1. / pl.sum() * pl\n",
        "    indices = np.arange(len(x))\n",
        "    res = np.random.choice(indices, num_sample, p=pl)\n",
        "    return np.array([x[r] for r in res])\n",
        "\n",
        "\n",
        "def prob_from_sample(dataset, hndim):\n",
        "    '''\n",
        "    emperical probability from data.\n",
        "    '''\n",
        "    p_data = np.bincount(dataset, minlength=hndim)\n",
        "    p_data = p_data / float(np.sum(p_data))\n",
        "    return p_data"
      ],
      "execution_count": 0,
      "outputs": []
    },
    {
      "cell_type": "code",
      "metadata": {
        "id": "rhdRmpOgl_u5",
        "colab_type": "code",
        "colab": {}
      },
      "source": [
        "# Born Machine\n",
        "bm = QCBM(circuit, mmd, pg, batch_size=None)  # exact version"
      ],
      "execution_count": 0,
      "outputs": []
    },
    {
      "cell_type": "code",
      "metadata": {
        "id": "fsOlbsLBl_u8",
        "colab_type": "code",
        "outputId": "c8262dde-c497-4322-fea9-f3392582ec95",
        "colab": {
          "base_uri": "https://localhost:8080/",
          "height": 320
        }
      },
      "source": [
        "theta_list = np.random.random(bm.circuit.num_param)*2*np.pi\n",
        "print('MMD loss for Initial Circuit = %.4f'%bm.mmd_loss(theta_list))"
      ],
      "execution_count": 21,
      "outputs": [
        {
          "output_type": "error",
          "ename": "TypeError",
          "evalue": "ignored",
          "traceback": [
            "\u001b[0;31m---------------------------------------------------------------------------\u001b[0m",
            "\u001b[0;31mTypeError\u001b[0m                                 Traceback (most recent call last)",
            "\u001b[0;32m<ipython-input-21-a704c651a93b>\u001b[0m in \u001b[0;36m<module>\u001b[0;34m()\u001b[0m\n\u001b[1;32m      1\u001b[0m \u001b[0mtheta_list\u001b[0m \u001b[0;34m=\u001b[0m \u001b[0mnp\u001b[0m\u001b[0;34m.\u001b[0m\u001b[0mrandom\u001b[0m\u001b[0;34m.\u001b[0m\u001b[0mrandom\u001b[0m\u001b[0;34m(\u001b[0m\u001b[0mbm\u001b[0m\u001b[0;34m.\u001b[0m\u001b[0mcircuit\u001b[0m\u001b[0;34m.\u001b[0m\u001b[0mnum_param\u001b[0m\u001b[0;34m)\u001b[0m\u001b[0;34m*\u001b[0m\u001b[0;36m2\u001b[0m\u001b[0;34m*\u001b[0m\u001b[0mnp\u001b[0m\u001b[0;34m.\u001b[0m\u001b[0mpi\u001b[0m\u001b[0;34m\u001b[0m\u001b[0;34m\u001b[0m\u001b[0m\n\u001b[0;32m----> 2\u001b[0;31m \u001b[0mprint\u001b[0m\u001b[0;34m(\u001b[0m\u001b[0;34m'MMD loss for Initial Circuit = %.4f'\u001b[0m\u001b[0;34m%\u001b[0m\u001b[0mbm\u001b[0m\u001b[0;34m.\u001b[0m\u001b[0mmmd_loss\u001b[0m\u001b[0;34m(\u001b[0m\u001b[0mtheta_list\u001b[0m\u001b[0;34m)\u001b[0m\u001b[0;34m)\u001b[0m\u001b[0;34m\u001b[0m\u001b[0;34m\u001b[0m\u001b[0m\n\u001b[0m",
            "\u001b[0;32m<ipython-input-19-8a1a2e10c83e>\u001b[0m in \u001b[0;36mmmd_loss\u001b[0;34m(self, theta_list)\u001b[0m\n\u001b[1;32m     42\u001b[0m         \u001b[0;34m'''get the loss'''\u001b[0m\u001b[0;34m\u001b[0m\u001b[0;34m\u001b[0m\u001b[0m\n\u001b[1;32m     43\u001b[0m         \u001b[0;31m# get and cahe probability distritbution of Born Machine\u001b[0m\u001b[0;34m\u001b[0m\u001b[0;34m\u001b[0m\u001b[0;34m\u001b[0m\u001b[0m\n\u001b[0;32m---> 44\u001b[0;31m         \u001b[0mself\u001b[0m\u001b[0;34m.\u001b[0m\u001b[0m_prob\u001b[0m \u001b[0;34m=\u001b[0m \u001b[0mself\u001b[0m\u001b[0;34m.\u001b[0m\u001b[0mpdf\u001b[0m\u001b[0;34m(\u001b[0m\u001b[0mtheta_list\u001b[0m\u001b[0;34m)\u001b[0m\u001b[0;34m\u001b[0m\u001b[0;34m\u001b[0m\u001b[0m\n\u001b[0m\u001b[1;32m     45\u001b[0m         \u001b[0;31m# use wave function to get mmd loss\u001b[0m\u001b[0;34m\u001b[0m\u001b[0;34m\u001b[0m\u001b[0;34m\u001b[0m\u001b[0m\n\u001b[1;32m     46\u001b[0m         \u001b[0;32mreturn\u001b[0m \u001b[0mself\u001b[0m\u001b[0;34m.\u001b[0m\u001b[0mmmd\u001b[0m\u001b[0;34m(\u001b[0m\u001b[0mself\u001b[0m\u001b[0;34m.\u001b[0m\u001b[0m_prob\u001b[0m\u001b[0;34m,\u001b[0m \u001b[0mself\u001b[0m\u001b[0;34m.\u001b[0m\u001b[0mp_data\u001b[0m\u001b[0;34m)\u001b[0m\u001b[0;34m\u001b[0m\u001b[0;34m\u001b[0m\u001b[0m\n",
            "\u001b[0;32m<ipython-input-19-8a1a2e10c83e>\u001b[0m in \u001b[0;36mpdf\u001b[0;34m(self, theta_list)\u001b[0m\n\u001b[1;32m     31\u001b[0m         '''\n\u001b[1;32m     32\u001b[0m         \u001b[0mwf\u001b[0m \u001b[0;34m=\u001b[0m \u001b[0minitial_wf\u001b[0m\u001b[0;34m(\u001b[0m\u001b[0mself\u001b[0m\u001b[0;34m.\u001b[0m\u001b[0mcircuit\u001b[0m\u001b[0;34m.\u001b[0m\u001b[0mnum_bit\u001b[0m\u001b[0;34m)\u001b[0m\u001b[0;34m\u001b[0m\u001b[0;34m\u001b[0m\u001b[0m\n\u001b[0;32m---> 33\u001b[0;31m         \u001b[0mself\u001b[0m\u001b[0;34m.\u001b[0m\u001b[0mcircuit\u001b[0m\u001b[0;34m(\u001b[0m\u001b[0mwf\u001b[0m\u001b[0;34m,\u001b[0m \u001b[0mtheta_list\u001b[0m\u001b[0;34m)\u001b[0m\u001b[0;34m\u001b[0m\u001b[0;34m\u001b[0m\u001b[0m\n\u001b[0m\u001b[1;32m     34\u001b[0m         \u001b[0mpl\u001b[0m \u001b[0;34m=\u001b[0m \u001b[0mprobability\u001b[0m\u001b[0;34m(\u001b[0m\u001b[0mwf\u001b[0m\u001b[0;34m)\u001b[0m  \u001b[0;31m# changed\u001b[0m\u001b[0;34m\u001b[0m\u001b[0;34m\u001b[0m\u001b[0m\n\u001b[1;32m     35\u001b[0m         \u001b[0;31m# introducing sampling error\u001b[0m\u001b[0;34m\u001b[0m\u001b[0;34m\u001b[0m\u001b[0;34m\u001b[0m\u001b[0m\n",
            "\u001b[0;32m<ipython-input-5-56c9e41f2699>\u001b[0m in \u001b[0;36m__call__\u001b[0;34m(self, qureg, theta_list)\u001b[0m\n\u001b[1;32m     44\u001b[0m                 \u001b[0;32melse\u001b[0m\u001b[0;34m:\u001b[0m\u001b[0;34m\u001b[0m\u001b[0;34m\u001b[0m\u001b[0m\n\u001b[1;32m     45\u001b[0m                     \u001b[0;31m# regenerate one\u001b[0m\u001b[0;34m\u001b[0m\u001b[0;34m\u001b[0m\u001b[0;34m\u001b[0m\u001b[0m\n\u001b[0;32m---> 46\u001b[0;31m                     \u001b[0mmat\u001b[0m \u001b[0;34m=\u001b[0m \u001b[0mblock\u001b[0m\u001b[0;34m.\u001b[0m\u001b[0mtocsr\u001b[0m\u001b[0;34m(\u001b[0m\u001b[0mtheta_i\u001b[0m\u001b[0;34m)\u001b[0m\u001b[0;34m\u001b[0m\u001b[0;34m\u001b[0m\u001b[0m\n\u001b[0m\u001b[1;32m     47\u001b[0m             \u001b[0;32mfor\u001b[0m \u001b[0mmat_i\u001b[0m \u001b[0;32min\u001b[0m \u001b[0mmat\u001b[0m\u001b[0;34m:\u001b[0m\u001b[0;34m\u001b[0m\u001b[0;34m\u001b[0m\u001b[0m\n\u001b[1;32m     48\u001b[0m                 \u001b[0mqureg_\u001b[0m \u001b[0;34m=\u001b[0m \u001b[0mmat_i\u001b[0m\u001b[0;34m.\u001b[0m\u001b[0mdot\u001b[0m\u001b[0;34m(\u001b[0m\u001b[0mqureg_\u001b[0m\u001b[0;34m)\u001b[0m\u001b[0;34m\u001b[0m\u001b[0;34m\u001b[0m\u001b[0m\n",
            "\u001b[0;32m<ipython-input-4-9523ba7dd175>\u001b[0m in \u001b[0;36mtocsr\u001b[0;34m(self, theta_list)\u001b[0m\n\u001b[1;32m     15\u001b[0m         \u001b[0mtheta_list_\u001b[0m\u001b[0;34m[\u001b[0m\u001b[0mself\u001b[0m\u001b[0;34m.\u001b[0m\u001b[0mmask\u001b[0m\u001b[0;34m]\u001b[0m \u001b[0;34m=\u001b[0m \u001b[0mtheta_list\u001b[0m\u001b[0;34m\u001b[0m\u001b[0;34m\u001b[0m\u001b[0m\n\u001b[1;32m     16\u001b[0m         \u001b[0mrots\u001b[0m \u001b[0;34m=\u001b[0m \u001b[0;34m[\u001b[0m\u001b[0mrot\u001b[0m\u001b[0;34m(\u001b[0m\u001b[0;34m*\u001b[0m\u001b[0mths\u001b[0m\u001b[0;34m)\u001b[0m \u001b[0;32mfor\u001b[0m \u001b[0mths\u001b[0m \u001b[0;32min\u001b[0m \u001b[0mtheta_list_\u001b[0m\u001b[0;34m.\u001b[0m\u001b[0mreshape\u001b[0m\u001b[0;34m(\u001b[0m\u001b[0;34m[\u001b[0m\u001b[0mself\u001b[0m\u001b[0;34m.\u001b[0m\u001b[0mnum_bit\u001b[0m\u001b[0;34m,\u001b[0m\u001b[0;36m3\u001b[0m\u001b[0;34m]\u001b[0m\u001b[0;34m)\u001b[0m\u001b[0;34m]\u001b[0m\u001b[0;34m\u001b[0m\u001b[0;34m\u001b[0m\u001b[0m\n\u001b[0;32m---> 17\u001b[0;31m         \u001b[0mres\u001b[0m \u001b[0;34m=\u001b[0m \u001b[0;34m[\u001b[0m\u001b[0m_\u001b[0m\u001b[0;34m(\u001b[0m\u001b[0;34m[\u001b[0m\u001b[0mr\u001b[0m\u001b[0;34m]\u001b[0m\u001b[0;34m,\u001b[0m \u001b[0;34m[\u001b[0m\u001b[0mi\u001b[0m\u001b[0;34m]\u001b[0m\u001b[0;34m,\u001b[0m \u001b[0mself\u001b[0m\u001b[0;34m.\u001b[0m\u001b[0mnum_bit\u001b[0m\u001b[0;34m)\u001b[0m \u001b[0;32mfor\u001b[0m \u001b[0mi\u001b[0m\u001b[0;34m,\u001b[0m\u001b[0mr\u001b[0m \u001b[0;32min\u001b[0m \u001b[0menumerate\u001b[0m\u001b[0;34m(\u001b[0m\u001b[0mrots\u001b[0m\u001b[0;34m)\u001b[0m\u001b[0;34m]\u001b[0m\u001b[0;34m\u001b[0m\u001b[0;34m\u001b[0m\u001b[0m\n\u001b[0m\u001b[1;32m     18\u001b[0m         \u001b[0;32mreturn\u001b[0m \u001b[0mres\u001b[0m\u001b[0;34m\u001b[0m\u001b[0;34m\u001b[0m\u001b[0m\n\u001b[1;32m     19\u001b[0m \u001b[0;34m\u001b[0m\u001b[0m\n",
            "\u001b[0;32m<ipython-input-4-9523ba7dd175>\u001b[0m in \u001b[0;36m<listcomp>\u001b[0;34m(.0)\u001b[0m\n\u001b[1;32m     15\u001b[0m         \u001b[0mtheta_list_\u001b[0m\u001b[0;34m[\u001b[0m\u001b[0mself\u001b[0m\u001b[0;34m.\u001b[0m\u001b[0mmask\u001b[0m\u001b[0;34m]\u001b[0m \u001b[0;34m=\u001b[0m \u001b[0mtheta_list\u001b[0m\u001b[0;34m\u001b[0m\u001b[0;34m\u001b[0m\u001b[0m\n\u001b[1;32m     16\u001b[0m         \u001b[0mrots\u001b[0m \u001b[0;34m=\u001b[0m \u001b[0;34m[\u001b[0m\u001b[0mrot\u001b[0m\u001b[0;34m(\u001b[0m\u001b[0;34m*\u001b[0m\u001b[0mths\u001b[0m\u001b[0;34m)\u001b[0m \u001b[0;32mfor\u001b[0m \u001b[0mths\u001b[0m \u001b[0;32min\u001b[0m \u001b[0mtheta_list_\u001b[0m\u001b[0;34m.\u001b[0m\u001b[0mreshape\u001b[0m\u001b[0;34m(\u001b[0m\u001b[0;34m[\u001b[0m\u001b[0mself\u001b[0m\u001b[0;34m.\u001b[0m\u001b[0mnum_bit\u001b[0m\u001b[0;34m,\u001b[0m\u001b[0;36m3\u001b[0m\u001b[0;34m]\u001b[0m\u001b[0;34m)\u001b[0m\u001b[0;34m]\u001b[0m\u001b[0;34m\u001b[0m\u001b[0;34m\u001b[0m\u001b[0m\n\u001b[0;32m---> 17\u001b[0;31m         \u001b[0mres\u001b[0m \u001b[0;34m=\u001b[0m \u001b[0;34m[\u001b[0m\u001b[0m_\u001b[0m\u001b[0;34m(\u001b[0m\u001b[0;34m[\u001b[0m\u001b[0mr\u001b[0m\u001b[0;34m]\u001b[0m\u001b[0;34m,\u001b[0m \u001b[0;34m[\u001b[0m\u001b[0mi\u001b[0m\u001b[0;34m]\u001b[0m\u001b[0;34m,\u001b[0m \u001b[0mself\u001b[0m\u001b[0;34m.\u001b[0m\u001b[0mnum_bit\u001b[0m\u001b[0;34m)\u001b[0m \u001b[0;32mfor\u001b[0m \u001b[0mi\u001b[0m\u001b[0;34m,\u001b[0m\u001b[0mr\u001b[0m \u001b[0;32min\u001b[0m \u001b[0menumerate\u001b[0m\u001b[0;34m(\u001b[0m\u001b[0mrots\u001b[0m\u001b[0;34m)\u001b[0m\u001b[0;34m]\u001b[0m\u001b[0;34m\u001b[0m\u001b[0;34m\u001b[0m\u001b[0m\n\u001b[0m\u001b[1;32m     18\u001b[0m         \u001b[0;32mreturn\u001b[0m \u001b[0mres\u001b[0m\u001b[0;34m\u001b[0m\u001b[0;34m\u001b[0m\u001b[0m\n\u001b[1;32m     19\u001b[0m \u001b[0;34m\u001b[0m\u001b[0m\n",
            "\u001b[0;31mTypeError\u001b[0m: 'numpy.ndarray' object is not callable"
          ]
        }
      ]
    },
    {
      "cell_type": "code",
      "metadata": {
        "id": "I-OXkiy6l_vB",
        "colab_type": "code",
        "colab": {}
      },
      "source": [
        "# gradient test\n",
        "# these two gradients should match.\n",
        "g1 = bm.gradient(theta_list)\n",
        "print(g1)\n",
        "g2 = bm.gradient_numerical(theta_list)\n",
        "print(g2)"
      ],
      "execution_count": 0,
      "outputs": []
    },
    {
      "cell_type": "markdown",
      "metadata": {
        "id": "u7m6D8jBl_vE",
        "colab_type": "text"
      },
      "source": [
        "# Training\n",
        "In this basic introduction, I prepaired classical training method like `Adam` and `L-BFGS-B` (as well as other methods supported by scipy)."
      ]
    },
    {
      "cell_type": "code",
      "metadata": {
        "id": "jtvCimfRl_vF",
        "colab_type": "code",
        "colab": {}
      },
      "source": [
        "  def train(bm, theta_list, method, max_iter=1000, step_rate=0.1):\n",
        "    '''\n",
        "    train a Born Machine.\n",
        "    \n",
        "    Args:\n",
        "        bm (QCBM): quantum circuit born machine training strategy.\n",
        "        theta_list (1darray): initial parameters.\n",
        "        method ('Adam'|'L-BFGS-B'):\n",
        "            * L-BFGS-B: efficient, but not noise tolerant.\n",
        "            * Adam: noise tolerant.\n",
        "        max_iter (int): maximum allowed number of iterations.\n",
        "        step_rate (float): learning rate for Adam optimizer.\n",
        "        \n",
        "    Returns:\n",
        "        (float, 1darray): final loss and parameters.\n",
        "    '''\n",
        "    step = [0]\n",
        "    def callback(x, *args, **kwargs):\n",
        "        step[0] += 1\n",
        "        print('step = %d, loss = %s'%(step[0], bm.mmd_loss(x)))\n",
        "        \n",
        "    theta_list = np.array(theta_list)\n",
        "    if method == 'Adam':\n",
        "        try:\n",
        "            from climin import Adam\n",
        "        except:\n",
        "            !pip install git+https://github.com/BRML/climin.git\n",
        "            from climin import Adam\n",
        "        optimizer = Adam(wrt=theta_list, fprime=bm.gradient,step_rate=step_rate)\n",
        "        for info in optimizer:\n",
        "            callback(theta_list)\n",
        "            if step[0] == max_iter:\n",
        "                break\n",
        "        return bm.mmd_loss(theta_list), theta_list\n",
        "    else:\n",
        "        from scipy.optimize import minimize\n",
        "        res = minimize(bm.mmd_loss, x0=theta_list,\n",
        "                       method=method, jac = bm.gradient, tol=1e-12,\n",
        "                       options={'maxiter': max_iter, 'disp': 0, 'gtol':1e-10, 'ftol':0},\n",
        "                       callback=callback,\n",
        "                       )\n",
        "        return res.fun, res.x"
      ],
      "execution_count": 0,
      "outputs": []
    },
    {
      "cell_type": "code",
      "metadata": {
        "id": "-AqBAGQll_vH",
        "colab_type": "code",
        "colab": {}
      },
      "source": [
        "# random initial parameter\n",
        "theta_list = np.random.random(bm.circuit.num_param)*2*np.pi\n",
        "\n",
        "loss, theta_list = train(bm, theta_list, 'L-BFGS-B', max_iter=100)\n",
        "pl = bm.pdf(theta_list)\n",
        "\n",
        "# display training result\n",
        "plt.plot(bm.p_data)\n",
        "plt.plot(pl)\n",
        "plt.legend(['Data', 'Quantum Circuit Born Machine'])\n",
        "plt.show()"
      ],
      "execution_count": 0,
      "outputs": []
    },
    {
      "cell_type": "code",
      "metadata": {
        "id": "X334bsZyl_vK",
        "colab_type": "code",
        "colab": {}
      },
      "source": [
        ""
      ],
      "execution_count": 0,
      "outputs": []
    }
  ]
}