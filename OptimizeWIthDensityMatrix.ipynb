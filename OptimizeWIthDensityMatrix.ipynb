{
 "cells": [
  {
   "cell_type": "code",
   "execution_count": 1,
   "metadata": {
    "colab": {},
    "colab_type": "code",
    "id": "hHqdDh5Bl_uF"
   },
   "outputs": [],
   "source": [
    "import os\n",
    "os.environ[\"OMP_NUM_THREADS\"] = '16'\n",
    "import numpy as np\n",
    "import matplotlib.pyplot as plt\n",
    "import scipy.sparse as sps\n",
    "import random as rdm\n",
    "# import multiprocessing\n",
    "# from multiprocessing import pool\n",
    "# from joblib import Parallel, delayed\n",
    "# from mpi4py import MPI\n",
    "# from functools import reduce\n",
    "import time\n",
    "\n",
    "# comm = MPI.COMM_WORLD\n",
    "# rank = comm.rank\n",
    "# size = comm.size"
   ]
  },
  {
   "cell_type": "code",
   "execution_count": 2,
   "metadata": {},
   "outputs": [],
   "source": [
    "# start_time=time.time()\n",
    "# #test script:\n",
    "# a = np.random.randn(5000, 50000)\n",
    "# b = np.random.randn(50000, 5000)\n",
    "# ran_time=time.time()-start_time\n",
    "# print(\"time to complete random matrix generation was %s seconds\" % ran_time)\n",
    "# np.dot(a, b) #this line should be multi-threaded\n",
    "# print(\"time to complete dot was %s seconds\" % (time.time() - start_time - ran_time))"
   ]
  },
  {
   "cell_type": "markdown",
   "metadata": {},
   "source": [
    "# Generate POVMs"
   ]
  },
  {
   "cell_type": "code",
   "execution_count": 3,
   "metadata": {},
   "outputs": [],
   "source": [
    "def generateM(povm):\n",
    "    Ms = []\n",
    "    if povm == '4Pauli':\n",
    "        \n",
    "        # Eigenvectors\n",
    "        up = np.array([1+0j,0+0j], dtype='complex128')\n",
    "        plus = np.array([1+0j,1+0j], dtype='complex128') / np.sqrt(2)\n",
    "        right = np.array([1+0j,0+1j], dtype='complex128') / np.sqrt(2)\n",
    "        \n",
    "        # 4-Pauli POVMs for a single qubit\n",
    "        M0 = np.outer(up, np.conj(up)) / 3\n",
    "        M1 = np.outer(plus, np.conj(plus)) / 3\n",
    "        M2 = np.outer(right, np.conj(right)) / 3\n",
    "        M3 = np.eye(2, dtype='complex128') - M0 - M1 - M2\n",
    "        \n",
    "        Ms = [M0, M1, M2, M3]\n",
    "        \n",
    "    elif povm == 'Tetra':\n",
    "        \n",
    "        I = np.array([[1,0],[0,1]], dtype='complex128')\n",
    "        X = np.array([[0, 1],[1, 0]], dtype='complex128')\n",
    "        Z = np.array([[1, 0],[0, -1]], dtype='complex128')\n",
    "        Y = np.array([[0, -1j],[1j, 0]], dtype='complex128')\n",
    "        \n",
    "        # Tetra\n",
    "        v1 = np.array([0, 0, 1])\n",
    "        M0 = (I + v1[0]*X + v1[1]*Y + v1[2]*Z)/4\n",
    "        v2 = np.array([2*np.sqrt(2)/3, 0, -1/3])\n",
    "        M1 = (I + v2[0]*X + v2[1]*Y + v2[2]*Z)/4\n",
    "        v3 = np.array([-np.sqrt(2)/3, np.sqrt(2)/3, -1/3])\n",
    "        M2 = (I + v3[0]*X + v3[1]*Y + v3[2]*Z)/4\n",
    "        v4 = np.array([-np.sqrt(2)/3, -np.sqrt(2)/3, -1/3])\n",
    "        M3 = (I + v4[0]*X + v4[1]*Y + v4[2]*Z)/4\n",
    "        \n",
    "        Ms = [M0, M1, M2, M3]\n",
    "    elif povm == 'Pauli':\n",
    "        \n",
    "        def pXp(theta,phi):\n",
    "\n",
    "            return np.array([[ np.cos(theta/2.0)**2, np.cos(theta/2.0)*np.sin(theta/2.0)*np.exp(-1j*phi)],\\\n",
    "                         [ np.cos(theta/2.0)*np.sin(theta/2.0)*np.exp(1j*phi), np.sin(theta/2.0)**2 ]])\n",
    "        \n",
    "        def mXm(theta,phi):\n",
    "\n",
    "            return np.array([[ np.sin(theta/2.0)**2, -np.cos(theta/2.0)*np.sin(theta/2.0)*np.exp(-1j*phi)],\\\n",
    "                         [ -np.cos(theta/2.0)*np.sin(theta/2.0)*np.exp(1j*phi), np.cos(theta/2.0)**2 ]])\n",
    "        \n",
    "        Ps = np.array([1./3., 1./3., 1./3., 1./3.,1./3.,1./3.]);\n",
    "        theta = np.pi/2.0\n",
    "        M0 = Ps[0]*pXp(theta,0.0)\n",
    "        M1 = Ps[1]*mXm(theta,0.0)\n",
    "        M2 = Ps[2]*pXp(theta,np.pi/2.0)\n",
    "        M3 = Ps[3]*mXm(theta,np.pi/2.0)\n",
    "        M4 = Ps[4]*pXp(0.0,0.0)\n",
    "        M5 = Ps[5]*mXm(0,0.0)\n",
    "        \n",
    "        Ms = [M0, M1, M2, M3, M4, M5]\n",
    "        \n",
    "    elif povm == 'Pauli_rebit':\n",
    "        def pXp(theta,phi):\n",
    "\n",
    "            return np.array([[ np.cos(theta/2.0)**2, np.cos(theta/2.0)*np.sin(theta/2.0)*np.exp(-1j*phi)],\\\n",
    "                         [ np.cos(theta/2.0)*np.sin(theta/2.0)*np.exp(1j*phi), np.sin(theta/2.0)**2 ]])\n",
    "        \n",
    "        def mXm(theta,phi):\n",
    "\n",
    "            return np.array([[ np.sin(theta/2.0)**2, -np.cos(theta/2.0)*np.sin(theta/2.0)*np.exp(-1j*phi)],\\\n",
    "                         [ -np.cos(theta/2.0)*np.sin(theta/2.0)*np.exp(1j*phi), np.cos(theta/2.0)**2 ]])\n",
    "        \n",
    "        # pauli_rebit\n",
    "        Ps = np.array([1./2., 1./2., 1./2., 1./2.])\n",
    "        theta = np.pi/2.0\n",
    "        M0 = Ps[0]*pXp(theta,0.0)\n",
    "        M1 = Ps[1]*mXm(theta,0.0)\n",
    "        M2 = Ps[2]*pXp(0.0,0.0)\n",
    "        M3 = Ps[3]*mXm(0,0.0)\n",
    "        \n",
    "        Ms = [M0, M1, M2, M3]\n",
    "    elif povm == 'Trine':\n",
    "        \n",
    "        I = np.array([[1,0],[0,1]], dtype='complex128')\n",
    "        X = np.array([[0, 1],[1, 0]], dtype='complex128')\n",
    "        Z = np.array([[1, 0],[0, -1]], dtype='complex128')\n",
    "        Y = np.array([[0, -1j],[1j, 0]], dtype='complex128')\n",
    "        \n",
    "        # Trine\n",
    "        phi0 = 0\n",
    "        phi1 = 2*np.pi/3\n",
    "        phi2 = 2*2*np.pi/3\n",
    "        M0 = 0.5*(I + np.cos(phi0)*Z + np.sin(phi0)*X)*2/3.0\n",
    "        M1 = 0.5*(I + np.cos(phi1)*Z + np.sin(phi1)*X)*2/3.0\n",
    "        M2 = 0.5*(I + np.cos(phi2)*Z + np.sin(phi2)*X)*2/3.0\n",
    "        \n",
    "        Ms = [M0, M1, M2]\n",
    "    elif povm == 'Psi2':\n",
    "        M0 = np.array([[1,0],[0,0]], dtype='complex128')\n",
    "        M1 = np.array([[0,0],[0,1]], dtype='complex128')\n",
    "        Ms = [M0, M1]\n",
    "    elif povm == 'test':\n",
    "        M0 = np.array([[1,1j],[-1j,0]], dtype='complex128')\n",
    "        M1 = np.array([[0,-1j],[1j,1]], dtype='complex128')\n",
    "        Ms = [M0, M1]\n",
    "    elif povm == 'test2':\n",
    "        M0 = np.array([[1,1j],[-1j,0]], dtype='complex128')\n",
    "        M1 = np.array([[0,-2j],[2j,0]], dtype='complex128')\n",
    "        M2 = np.array([[0,1j],[-1j,1]], dtype='complex128')\n",
    "        Ms = [M0, M1, M2]\n",
    "    else:\n",
    "        raise ValueError('POVM not defined.')\n",
    "    return Ms"
   ]
  },
  {
   "cell_type": "markdown",
   "metadata": {
    "colab_type": "text",
    "id": "9Po0tv6fl_uR"
   },
   "source": [
    "# training set\n",
    "Our training set is a simple Gaussian distribution\n",
    "\n",
    "\n",
    "\n",
    "Only need to change POVM and num_bit.\n",
    "\n",
    "Parameters later will change automatically."
   ]
  },
  {
   "cell_type": "code",
   "execution_count": 4,
   "metadata": {
    "colab": {
     "base_uri": "https://localhost:8080/",
     "height": 265
    },
    "colab_type": "code",
    "id": "Ds9tMSqAl_uU",
    "outputId": "638a16ed-a454-489b-e3fa-8d33e02ea967"
   },
   "outputs": [
    {
     "data": {
      "image/png": "[encoded data removed]",
      "text/plain": [
       "<Figure size 432x288 with 1 Axes>"
      ]
     },
     "metadata": {},
     "output_type": "display_data"
    }
   ],
   "source": [
    "POVM = 'Tetra' # select from 4Pauli, Tetra, Pauli, Pauli_rebit, Trine, Psi2\n",
    "Ms = generateM(POVM)\n",
    "Mlist = Ms[:] # make a copy\n",
    "num_M = len(Ms)\n",
    "\n",
    "def gaussian_pdf(num_bit, mu, sigma):\n",
    "    '''get gaussian distribution function'''\n",
    "    x = np.arange(num_M**num_bit)     # changed to num_M\n",
    "    pl = 1. / np.sqrt(2 * np.pi * sigma**2) * \\\n",
    "        np.exp(-(x - mu)**2 / (2. * sigma**2))\n",
    "    return pl/pl.sum()\n",
    "\n",
    "\n",
    "num_bit = 4\n",
    "pg = gaussian_pdf(num_bit, mu=num_M**num_bit/2, sigma=num_M**(num_bit-1))  \n",
    "plt.plot(pg)\n",
    "plt.show()"
   ]
  },
  {
   "cell_type": "markdown",
   "metadata": {},
   "source": [
    "# Tensorproduct of matrices"
   ]
  },
  {
   "cell_type": "code",
   "execution_count": 5,
   "metadata": {
    "colab": {},
    "colab_type": "code",
    "id": "eBnfjq3UmME3"
   },
   "outputs": [],
   "source": [
    "# make tensor product of POVMs\n",
    "def tensorproduct(matrix1, matrix2):\n",
    "    dim = matrix1.shape[0] * matrix2.shape[0]\n",
    "    \n",
    "    # has to reverse the order otherwise doesn't work\n",
    "    return np.tensordot(matrix2, matrix1, axes = 0).swapaxes(1, 2).reshape(dim, dim)"
   ]
  },
  {
   "cell_type": "code",
   "execution_count": 6,
   "metadata": {
    "colab": {},
    "colab_type": "code",
    "id": "qXC8ZvZamMHt"
   },
   "outputs": [
    {
     "data": {
      "text/plain": [
       "256"
      ]
     },
     "execution_count": 6,
     "metadata": {},
     "output_type": "execute_result"
    }
   ],
   "source": [
    "for i in range(num_bit - 1):  # minus one because we initialized above\n",
    "    Mlisttemp = []\n",
    "    for m2 in Mlist:\n",
    "        for m1 in Ms:\n",
    "            Mlisttemp.append(tensorproduct(m1, m2))\n",
    "    Mlist = Mlisttemp\n",
    "# rdm.shuffle(Mlist)\n",
    "Mlist[0].size"
   ]
  },
  {
   "cell_type": "code",
   "execution_count": 7,
   "metadata": {
    "colab": {},
    "colab_type": "code",
    "id": "lScVOAdFpyMA"
   },
   "outputs": [],
   "source": [
    "# # expectation value of POVMs, i.e. probabilities\n",
    "# def probability(parameters):\n",
    "#     wavefunction = gen_wavefunction(parameters)\n",
    "#     problist = []\n",
    "#     for m in Mlist:\n",
    "#         problist.append(np.real(np.conj(wavefunction) @ m @ wavefunction)) # wf.H@M@wf\n",
    "#         #problist.append(np.real(np.trace(np.outer(wavefunction, np.conj(wavefunction)@m)))) #trace(wf@wf.H@M)\n",
    "#     return np.array(problist)\n",
    "\n",
    "# expectation value of POVMs, i.e. probabilities\n",
    "def probability(parameters):\n",
    "    densitymatrix = gen_densitymatrix(parameters)\n",
    "    problist = []\n",
    "    for m in Mlist:\n",
    "        problist.append(np.real(np.trace(densitymatrix@m))) #trace(p@M)\n",
    "    return np.array(problist)"
   ]
  },
  {
   "cell_type": "markdown",
   "metadata": {},
   "source": [
    "# Density Matrix"
   ]
  },
  {
   "cell_type": "code",
   "execution_count": 8,
   "metadata": {},
   "outputs": [],
   "source": [
    "# def gen_wavefunction(parameters):\n",
    "#     length = parameters.size\n",
    "#     real = parameters[:length//2]\n",
    "#     imaginary = parameters[length//2:]\n",
    "#     combined = real + 1j * imaginary\n",
    "#     return combined / np.linalg.norm(combined)\n",
    "def gen_densitymatrix(parameters): # input should be a 1d array of correct length\n",
    "    # convert 1d array to 2d square matrix\n",
    "    length = int(round(np.sqrt(parameters.size)))\n",
    "    matrix = parameters.reshape(length, length)\n",
    "    # extract upper trangle (excluding diagonal)\n",
    "    upper = np.triu(matrix, k=1)\n",
    "    # extract lower trangle (excluding diagonal)\n",
    "    lower = np.tril(matrix, k=-1)\n",
    "    # extract diagonal\n",
    "    diagnal = np.diag(matrix)\n",
    "    # sum of diagonal (trace) should be 1\n",
    "    diagnal = diagnal / diagnal.sum()\n",
    "    # take the upper triangle and diagonal as the real part of the matrix\n",
    "    real = upper + upper.T + np.diag(diagnal)\n",
    "    # take the lower tirangle as the imaginary part of the matrix\n",
    "    imaginary = 1j * lower - 1j * lower.T\n",
    "    return real + imaginary"
   ]
  },
  {
   "cell_type": "markdown",
   "metadata": {
    "colab_type": "text",
    "id": "ZyeNb3A3l_uz"
   },
   "source": [
    "# MMD Loss Function\n",
    "As a reminder\n",
    "\\begin{align}\n",
    "    \\mathcal{L} =&  \\left\\|\\sum_{x} p_\\theta(x) \\phi(x)- \\sum_{x} \\pi(x) \\phi(x)  \\right\\|^2 \\\\\n",
    "    =&\\langle K(x,y)\\rangle_{x\\sim p_\\theta, y\\sim p_\\theta}-2\\langle K(x,y)\\rangle_{x\\sim p_\\theta,y\\sim \\pi}+\\langle K(x, y)\\rangle_{x\\sim \\pi,y\\sim \\pi}\n",
    "\\end{align}\n"
   ]
  },
  {
   "cell_type": "code",
   "execution_count": 9,
   "metadata": {
    "colab": {},
    "colab_type": "code",
    "id": "rNaRWyALl_u0"
   },
   "outputs": [],
   "source": [
    "class RBFMMD2(object):\n",
    "    '''\n",
    "    MMD^2 with RBF (Gaussian) kernel.\n",
    "    \n",
    "    Args:\n",
    "        sigma_list (list): a list of bandwidths.\n",
    "        basis (1darray): defininng space.\n",
    "      \n",
    "    Attributes:\n",
    "        K (2darray): full kernel matrix, notice the Hilbert is countable.\n",
    "    '''\n",
    "    def __init__(self, sigma_list, basis):\n",
    "        self.sigma_list = sigma_list\n",
    "        self.basis = basis\n",
    "        self.K = mix_rbf_kernel(basis, basis, self.sigma_list)\n",
    "\n",
    "    def __call__(self, px, py):\n",
    "        '''\n",
    "        Args:\n",
    "            px (1darray, default=None): probability for data set x, used only when self.is_exact==True.\n",
    "            py (1darray, default=None): same as px, but for data set y.\n",
    "\n",
    "        Returns:\n",
    "            float: loss.\n",
    "        '''\n",
    "        pxy = px-py\n",
    "        return self.kernel_expect(pxy, pxy)\n",
    "\n",
    "    def kernel_expect(self, px, py):\n",
    "        '''\n",
    "        expectation value of kernel function.\n",
    "        \n",
    "        Args:\n",
    "            px (1darray): the first PDF.\n",
    "            py (1darray): the second PDF.\n",
    "            \n",
    "        Returns:\n",
    "            float: kernel expectation.\n",
    "        '''\n",
    "        #return px.dot(self.K).dot(py)\n",
    "        return px.dot(py)\n",
    "\n",
    "def mix_rbf_kernel(x, y, sigma_list):\n",
    "    '''\n",
    "    multi-RBF kernel.\n",
    "    \n",
    "    Args:\n",
    "        x (1darray|2darray): the collection of samples A.\n",
    "        x (1darray|2darray): the collection of samples B.\n",
    "        sigma_list (list): a list of bandwidths.\n",
    "        \n",
    "    Returns:\n",
    "        2darray: kernel matrix.\n",
    "    '''\n",
    "    ndim = x.ndim\n",
    "    if ndim == 1:\n",
    "        exponent = np.abs(x[:, None] - y[None, :])**2\n",
    "    elif ndim == 2:\n",
    "        exponent = ((x[:, None, :] - y[None, :, :])**2).sum(axis=2)\n",
    "    else:\n",
    "        raise\n",
    "    K = 0.0\n",
    "    for sigma in sigma_list:\n",
    "        gamma = 1.0 / (2 * sigma)\n",
    "        K = K + np.exp(-gamma * exponent)\n",
    "    return K"
   ]
  },
  {
   "cell_type": "code",
   "execution_count": 10,
   "metadata": {
    "colab": {
     "base_uri": "https://localhost:8080/",
     "height": 50
    },
    "colab_type": "code",
    "id": "rqgpurrWjasl",
    "outputId": "55cd424d-bf68-4ad8-c0f2-5057ae8ad287"
   },
   "outputs": [
    {
     "name": "stdout",
     "output_type": "stream",
     "text": [
      "Exact Match -> MMD = 0.0000\n",
      "Not Match -> MMD = 0.0023\n"
     ]
    }
   ],
   "source": [
    "hndim = num_M**num_bit\n",
    "# mmd loss\n",
    "mmd = RBFMMD2(sigma_list=[0.25,4], basis=np.arange(num_M**num_bit))   # changed to num_M\n",
    "\n",
    "# when exact match, MMD loss should be 0, e.g. two gaussians\n",
    "print('Exact Match -> MMD = %.4f'%mmd(pg, pg))\n",
    "# when not match, loss is not zero\n",
    "prand = np.random.random(len(pg))\n",
    "print('Not Match -> MMD = %.4f'%mmd(prand/prand.sum(), pg))"
   ]
  },
  {
   "cell_type": "code",
   "execution_count": 11,
   "metadata": {
    "colab": {},
    "colab_type": "code",
    "id": "Jcx_pAwtpyZs"
   },
   "outputs": [],
   "source": [
    "def mmd_loss(parameters):\n",
    "    return mmd(pg, probability(parameters))"
   ]
  },
  {
   "cell_type": "code",
   "execution_count": null,
   "metadata": {
    "colab": {},
    "colab_type": "code",
    "id": "EmfkpSJFpych"
   },
   "outputs": [],
   "source": []
  },
  {
   "cell_type": "code",
   "execution_count": null,
   "metadata": {
    "colab": {},
    "colab_type": "code",
    "id": "Dw5NEpTnpyfT"
   },
   "outputs": [],
   "source": []
  },
  {
   "cell_type": "code",
   "execution_count": null,
   "metadata": {
    "colab": {},
    "colab_type": "code",
    "id": "eIUCmGcKpyiE"
   },
   "outputs": [],
   "source": []
  },
  {
   "cell_type": "code",
   "execution_count": null,
   "metadata": {
    "colab": {},
    "colab_type": "code",
    "id": "XjLZ4etdpykh"
   },
   "outputs": [],
   "source": []
  },
  {
   "cell_type": "code",
   "execution_count": 12,
   "metadata": {
    "colab": {
     "base_uri": "https://localhost:8080/",
     "height": 320
    },
    "colab_type": "code",
    "id": "fsOlbsLBl_u8",
    "outputId": "c8262dde-c497-4322-fea9-f3392582ec95"
   },
   "outputs": [
    {
     "name": "stdout",
     "output_type": "stream",
     "text": [
      "256\n",
      "(1+0j)\n"
     ]
    },
    {
     "data": {
      "image/png": "[encoded data removed]",
      "text/plain": [
       "<Figure size 432x288 with 1 Axes>"
      ]
     },
     "metadata": {},
     "output_type": "display_data"
    },
    {
     "name": "stdout",
     "output_type": "stream",
     "text": [
      "MMD loss for Initial Circuit = 0.8449\n"
     ]
    },
    {
     "data": {
      "text/plain": [
       "1.0000000000000004"
      ]
     },
     "execution_count": 12,
     "metadata": {},
     "output_type": "execute_result"
    }
   ],
   "source": [
    "#theta_list = np.random.random(2*2**num_bit)\n",
    "theta_list = np.random.random(2**(2*num_bit)) # parameter list\n",
    "print(theta_list.size)\n",
    "print(np.trace(gen_densitymatrix(theta_list)))\n",
    "p = probability(theta_list)\n",
    "plt.plot(p)\n",
    "plt.show()\n",
    "print('MMD loss for Initial Circuit = %.4f'%mmd_loss(theta_list))\n",
    "p.sum()"
   ]
  },
  {
   "cell_type": "markdown",
   "metadata": {
    "colab_type": "text",
    "id": "u7m6D8jBl_vE"
   },
   "source": [
    "# Training\n",
    "In this basic introduction, I prepaired classical training method like `Adam` and `L-BFGS-B` (as well as other methods supported by scipy)."
   ]
  },
  {
   "cell_type": "code",
   "execution_count": 13,
   "metadata": {
    "colab": {},
    "colab_type": "code",
    "id": "jtvCimfRl_vF"
   },
   "outputs": [],
   "source": [
    "  def train(theta_list, method, max_iter=1000, step_rate=0.1):\n",
    "        \n",
    "    step = [0]\n",
    "    def callback(x, *args, **kwargs):\n",
    "        step[0] += 1\n",
    "        print('step = %d, loss = %s'%(step[0], mmd_loss(x)))\n",
    "        \n",
    "    theta_list = np.array(theta_list)\n",
    "#     if method == 'Adam':\n",
    "#         try:\n",
    "#             from climin import Adam\n",
    "#         except:\n",
    "#             !pip install git+https://github.com/BRML/climin.git\n",
    "#             from climin import Adam\n",
    "#         optimizer = Adam(wrt=theta_list, fprime=bm.gradient,step_rate=step_rate)\n",
    "#         for info in optimizer:\n",
    "#             callback(theta_list)\n",
    "#             if step[0] == max_iter:\n",
    "#                 break\n",
    "#         return bm.mmd_loss(theta_list), theta_list\n",
    "#     else:\n",
    "    from scipy.optimize import minimize\n",
    "    res = minimize(mmd_loss, x0=theta_list,\n",
    "                       method=method, jac = '2-point', tol=1e-15, # was -12\n",
    "                       options={'maxiter': max_iter, 'disp': 0, 'gtol':1e-15, 'ftol':0}, # was -10\n",
    "                       callback=callback,\n",
    "                       )\n",
    "    return res.fun, res.x"
   ]
  },
  {
   "cell_type": "code",
   "execution_count": 14,
   "metadata": {
    "colab": {},
    "colab_type": "code",
    "id": "-AqBAGQll_vH"
   },
   "outputs": [
    {
     "data": {
      "image/png": "[encoded data removed]",
      "text/plain": [
       "<Figure size 432x288 with 1 Axes>"
      ]
     },
     "metadata": {},
     "output_type": "display_data"
    },
    {
     "data": {
      "text/plain": [
       "array([[4.28181763e-01, 7.07586520e-02, 1.08398981e-01, 4.64336888e-01,\n",
       "        6.40378121e-01, 8.31485054e-01, 4.69517308e-01, 3.57683336e-01,\n",
       "        7.59282005e-01, 4.18342941e-01, 7.67955926e-01, 4.42610021e-01,\n",
       "        3.85902665e-01, 9.12267537e-03, 8.92683534e-01, 9.29185658e-01],\n",
       "       [3.83288798e-01, 7.47684941e-01, 2.70216707e-02, 3.04332178e-01,\n",
       "        1.30908214e-01, 7.07375035e-01, 9.24124726e-03, 7.09230495e-01,\n",
       "        7.68785465e-01, 6.81115480e-01, 5.86080686e-01, 3.66145479e-01,\n",
       "        4.42151810e-01, 2.84131653e-01, 4.62569399e-01, 7.51609561e-01],\n",
       "       [2.92726716e-01, 2.80291077e-01, 7.94876458e-03, 5.77986530e-01,\n",
       "        9.85333796e-01, 9.85492389e-01, 3.34784979e-01, 7.23502654e-01,\n",
       "        8.57370029e-01, 1.38364741e-01, 5.24200227e-02, 6.55319389e-01,\n",
       "        6.69828059e-01, 8.01678831e-01, 2.99004630e-01, 8.46126374e-01],\n",
       "       [1.51891039e-01, 8.59041817e-02, 2.90317802e-01, 5.30137109e-01,\n",
       "        4.94266042e-01, 8.16034406e-01, 3.36254791e-01, 9.62663215e-01,\n",
       "        8.57589420e-01, 9.01552603e-01, 8.20897941e-01, 1.96433888e-01,\n",
       "        9.79356102e-02, 3.28963428e-01, 6.18890736e-01, 2.33890823e-01],\n",
       "       [1.81206079e-01, 6.58142709e-01, 4.60253348e-01, 2.00484201e-01,\n",
       "        7.59312718e-01, 6.10819548e-01, 5.10416158e-01, 5.06671562e-01,\n",
       "        2.93373136e-01, 6.01110558e-01, 4.54473135e-01, 2.25938708e-01,\n",
       "        2.26124602e-01, 1.62126955e-01, 6.30142898e-01, 8.92025348e-01],\n",
       "       [9.75611994e-04, 9.24828495e-01, 6.66025855e-01, 7.25574821e-01,\n",
       "        4.46829031e-02, 6.49794130e-01, 2.54511676e-01, 9.05688225e-01,\n",
       "        1.67388425e-01, 6.28326193e-01, 9.89022138e-01, 4.95677181e-01,\n",
       "        8.74496909e-01, 2.17722246e-01, 2.77312310e-01, 5.58348672e-01],\n",
       "       [5.27777841e-01, 2.79139032e-01, 5.69630747e-01, 1.84558504e-01,\n",
       "        7.20232898e-01, 5.82667671e-01, 5.46665671e-01, 9.77928478e-01,\n",
       "        2.65472407e-01, 1.05819585e-02, 3.89162438e-01, 2.11122097e-01,\n",
       "        3.82538952e-02, 2.66894876e-01, 7.44587461e-01, 6.70758088e-01],\n",
       "       [6.66346427e-01, 9.95422692e-01, 2.76420518e-01, 8.46271215e-01,\n",
       "        6.07519159e-01, 4.11671358e-01, 5.88657665e-01, 8.70644797e-01,\n",
       "        3.82285747e-01, 4.91109885e-01, 7.30445993e-01, 9.16389964e-01,\n",
       "        7.61322520e-01, 1.30764903e-01, 9.46605215e-01, 1.44415064e-01],\n",
       "       [6.97585937e-01, 9.80283213e-03, 1.12844338e-01, 6.15633637e-01,\n",
       "        6.38953094e-01, 7.04982488e-01, 3.13222331e-01, 8.80412463e-01,\n",
       "        7.39754809e-01, 5.17752307e-02, 8.54439711e-01, 4.80032526e-01,\n",
       "        5.66599827e-01, 4.89995859e-01, 1.93569847e-01, 8.77716656e-01],\n",
       "       [8.68972050e-01, 8.53920599e-01, 2.32473685e-01, 6.79968421e-01,\n",
       "        5.37273789e-01, 9.08041924e-01, 9.93227091e-02, 9.33520107e-02,\n",
       "        3.04431769e-01, 9.73840587e-01, 2.29429481e-01, 9.89726584e-01,\n",
       "        7.39707275e-01, 2.49771087e-01, 9.09767006e-01, 9.35005710e-02],\n",
       "       [6.49573923e-01, 2.68214275e-01, 6.64740481e-01, 6.04605724e-01,\n",
       "        7.65188318e-01, 4.70743472e-01, 3.75403299e-01, 7.71811062e-01,\n",
       "        4.52824202e-02, 6.49316162e-01, 9.09948162e-02, 3.35268387e-01,\n",
       "        7.54889574e-01, 8.76269625e-01, 2.82877533e-01, 7.34494216e-01],\n",
       "       [5.48713586e-03, 3.14362076e-01, 7.68772727e-01, 3.21951390e-01,\n",
       "        1.73258209e-01, 5.54625499e-01, 9.28057454e-01, 3.61431100e-03,\n",
       "        5.46786491e-01, 7.49167363e-01, 3.53975392e-01, 2.02779554e-01,\n",
       "        4.47537769e-01, 8.28708952e-01, 4.89680546e-01, 8.98863597e-01],\n",
       "       [1.39043521e-01, 9.62921276e-03, 7.93991303e-01, 8.32439126e-01,\n",
       "        6.80490966e-02, 7.57238710e-01, 6.36691995e-01, 7.92307467e-02,\n",
       "        3.02990119e-01, 4.49403800e-01, 1.69043713e-01, 2.67776963e-01,\n",
       "        4.38365060e-02, 9.33751926e-01, 6.17443040e-01, 2.85357164e-01],\n",
       "       [1.39072367e-01, 5.85545374e-01, 8.96551197e-01, 3.36748586e-01,\n",
       "        2.83553609e-01, 3.68664059e-01, 9.92325413e-01, 6.33539146e-01,\n",
       "        9.95606188e-01, 2.80944023e-01, 8.59811292e-01, 2.27814720e-01,\n",
       "        7.60110778e-01, 1.27712953e-01, 8.58874985e-01, 5.53636008e-01],\n",
       "       [6.58386171e-02, 3.66817119e-01, 3.92331174e-01, 4.66312216e-01,\n",
       "        5.20846242e-01, 5.84075242e-01, 7.33175715e-01, 4.47679719e-01,\n",
       "        5.44707750e-01, 4.20276346e-02, 8.22698672e-02, 5.57038547e-01,\n",
       "        7.30850463e-01, 5.88714307e-01, 2.71029278e-01, 9.99146060e-01],\n",
       "       [6.13246749e-01, 5.64961507e-01, 6.72987664e-01, 4.92199776e-01,\n",
       "        9.99819256e-01, 2.47152661e-01, 7.14920631e-01, 4.92088956e-01,\n",
       "        3.05889211e-01, 6.04300333e-01, 3.81642624e-01, 4.13609205e-01,\n",
       "        5.81839034e-01, 9.54108226e-01, 3.44805745e-01, 7.23466811e-01]])"
      ]
     },
     "execution_count": 14,
     "metadata": {},
     "output_type": "execute_result"
    }
   ],
   "source": [
    "# random initial parameter\n",
    "theta_list = np.random.random((2**num_bit, 2**num_bit))\n",
    "pl = probability(theta_list)\n",
    "plt.plot(pg)\n",
    "plt.plot(pl)\n",
    "plt.legend(['Data', 'Quantum Circuit Born Machine'])\n",
    "plt.title('not trained')\n",
    "plt.show()\n",
    "theta_list"
   ]
  },
  {
   "cell_type": "code",
   "execution_count": 19,
   "metadata": {},
   "outputs": [
    {
     "name": "stdout",
     "output_type": "stream",
     "text": [
      "step = 1, loss = 7.67513335621288e-06\n",
      "step = 2, loss = 7.535107763985572e-06\n",
      "step = 3, loss = 7.403460308946822e-06\n",
      "step = 4, loss = 6.628628504485486e-06\n",
      "step = 5, loss = 5.896205933713434e-06\n",
      "step = 6, loss = 4.295104444699665e-06\n",
      "step = 7, loss = 2.7228894050011386e-06\n",
      "step = 8, loss = 2.1684159634695576e-06\n",
      "step = 9, loss = 2.0691878292875366e-06\n",
      "step = 10, loss = 1.7615321812008541e-06\n",
      "step = 11, loss = 1.571527276401098e-06\n",
      "step = 12, loss = 1.0839688280233003e-06\n",
      "step = 13, loss = 9.395469108318643e-07\n",
      "step = 14, loss = 9.107821209477606e-07\n",
      "step = 15, loss = 8.641953744258793e-07\n",
      "step = 16, loss = 8.406442929423366e-07\n",
      "step = 17, loss = 7.230542847006405e-07\n",
      "step = 18, loss = 5.706441568907899e-07\n",
      "step = 19, loss = 3.900618975468586e-07\n",
      "step = 20, loss = 3.6165459344984305e-07\n",
      "step = 21, loss = 2.9188002985914625e-07\n",
      "step = 22, loss = 2.77014154942769e-07\n",
      "step = 23, loss = 2.623693023210955e-07\n",
      "step = 24, loss = 2.451608558122092e-07\n",
      "step = 25, loss = 2.1808566983807333e-07\n",
      "step = 26, loss = 2.1454521464159612e-07\n",
      "step = 27, loss = 1.993276392874142e-07\n",
      "step = 28, loss = 1.9319726412183773e-07\n",
      "step = 29, loss = 1.8837260970155438e-07\n",
      "step = 30, loss = 1.8216169572301826e-07\n"
     ]
    },
    {
     "data": {
      "image/png": "[encoded data removed]",
      "text/plain": [
       "<Figure size 432x288 with 1 Axes>"
      ]
     },
     "metadata": {},
     "output_type": "display_data"
    },
    {
     "data": {
      "text/plain": [
       "array([ 1.08794398e-01, -4.13193070e-04, -2.20437657e-03,  4.81964666e-04,\n",
       "       -1.29070008e-02, -7.64255972e-04,  7.09405671e-04,  6.41405325e-04,\n",
       "       -1.45372998e-02, -3.42713395e-04, -1.73114554e-03,  1.66841687e-03,\n",
       "       -1.99576813e-02,  2.97402016e-03,  3.37367249e-03,  2.64381186e-03,\n",
       "       -5.52697183e-04,  1.20481940e-01, -4.19870099e-04, -2.36038892e-03,\n",
       "        1.05093319e-03, -1.34314816e-02,  2.13589010e-03, -3.17958370e-04,\n",
       "       -2.01253845e-03, -1.13498422e-02, -1.23834749e-03, -1.62509152e-03,\n",
       "       -9.66560846e-04, -2.10005975e-02, -5.50823249e-03,  3.73782328e-03,\n",
       "       -2.36931311e-03,  6.00589136e-09,  1.79853652e-01, -5.90204260e-04,\n",
       "        4.91716468e-04, -1.59429766e-03, -1.48314855e-02,  6.92537141e-04,\n",
       "       -7.72777525e-03,  3.80979796e-04, -1.47738358e-03, -3.92679199e-04,\n",
       "       -3.48010165e-03, -7.94245349e-03, -2.27273400e-02, -1.14897563e-03,\n",
       "        1.12315643e-04, -2.47868072e-03, -6.33942898e-04,  2.18223653e-01,\n",
       "       -1.23695337e-03,  1.42224972e-03, -4.95172690e-04, -1.52806331e-02,\n",
       "       -8.76222026e-04, -7.91916803e-03, -2.12058740e-03,  1.90292569e-03,\n",
       "        8.54995863e-03, -1.62841350e-03, -3.61851202e-04, -2.25607209e-02,\n",
       "       -1.47566518e-02, -1.03492315e-04, -1.58181639e-04, -6.01940002e-04,\n",
       "        4.16682494e-01, -9.94393526e-04, -4.30334951e-03, -5.96201803e-04,\n",
       "       -1.56252546e-02, -2.82237407e-03, -1.54589941e-03, -3.85589701e-03,\n",
       "        3.70090344e-02, -1.21587423e-03, -5.88320705e-03, -1.35107550e-03,\n",
       "        3.71685658e-04, -1.52765815e-02,  5.75912350e-04, -2.16670963e-04,\n",
       "       -1.01231468e-03,  4.35156885e-01,  5.92431885e-04, -4.40996668e-03,\n",
       "        9.67538806e-05, -1.37308022e-02,  2.17576922e-03, -2.37876545e-03,\n",
       "       -8.56326702e-04,  3.98588150e-02,  1.03371311e-03, -6.30536459e-03,\n",
       "        1.07653375e-03,  5.67698973e-04, -1.63346972e-02, -3.82640243e-05,\n",
       "       -4.39856003e-03, -6.05051663e-05,  4.97700215e-01, -1.10926521e-03,\n",
       "       -1.89392887e-03,  9.17282361e-03, -8.63136278e-03,  1.90299087e-03,\n",
       "       -1.17108443e-03, -4.55626918e-04,  4.75336173e-02, -1.73486243e-03,\n",
       "       -6.03712196e-04,  8.79844791e-04,  1.58543690e-04, -1.65587016e-02,\n",
       "       -1.58323372e-05, -4.45591299e-03, -1.18697693e-03,  5.10029527e-01,\n",
       "       -5.22557354e-03, -3.68951998e-03, -1.64134325e-03, -7.33012276e-03,\n",
       "        2.24297764e-04, -1.93358696e-04,  1.58963873e-04,  4.96775597e-02,\n",
       "        4.35570791e-02,  1.20118541e-04,  1.18339985e-03, -2.04219828e-03,\n",
       "        1.31483000e-02, -9.00113826e-04,  6.37130228e-03, -7.30684045e-03,\n",
       "        9.61059331e-01,  3.46656069e-04,  1.45354403e-03, -6.00382331e-04,\n",
       "        1.26601208e-02,  6.73028415e-04, -7.28989308e-04, -7.30858992e-04,\n",
       "       -2.28184611e-03,  4.66023186e-02,  1.70416626e-03,  1.50955324e-03,\n",
       "        3.55767936e-04,  1.37949019e-02,  9.97193792e-03, -3.50977796e-04,\n",
       "        2.83976837e-04,  9.75422344e-01,  3.84005040e-04,  1.67337968e-03,\n",
       "       -1.36637019e-03,  1.35319489e-02, -2.13381019e-03,  2.72139577e-04,\n",
       "       -8.33207155e-03,  1.64953644e-03,  5.45678113e-02,  4.33740415e-04,\n",
       "       -7.83606311e-03, -3.30408830e-03,  1.54450899e-02,  1.04217862e-03,\n",
       "        1.70924179e-03, -6.17957408e-05,  9.39840521e-01,  5.54938158e-04,\n",
       "       -1.60990583e-03,  1.35093673e-03,  1.59765230e-02, -8.05168905e-04,\n",
       "       -1.80005913e-03, -7.95151873e-03, -1.91249328e-03,  5.65873361e-02,\n",
       "       -3.41439546e-05, -6.49167688e-04, -1.35734569e-03,  1.57678728e-02,\n",
       "       -2.21428670e-04,  1.87244691e-03,  4.60509463e-04,  8.81880840e-01,\n",
       "        1.23614882e-03, -2.52265104e-03,  1.91387132e-04,  1.66759570e-02,\n",
       "       -1.89240332e-02,  2.06857019e-04, -8.41980846e-03,  1.85767843e-03,\n",
       "        6.72907092e-02,  1.32158620e-03,  5.47516621e-03,  2.82841270e-03,\n",
       "        1.56099833e-02,  2.64759232e-05,  1.06068457e-04,  1.28334561e-03,\n",
       "        7.17740758e-01,  1.16800307e-03,  4.91855862e-03,  5.87039671e-04,\n",
       "       -1.67436315e-03, -1.68047289e-02, -5.50712732e-03, -1.12973324e-03,\n",
       "       -5.37344510e-04,  6.60860810e-02, -2.90209285e-03,  5.50062352e-03,\n",
       "       -6.79597748e-04,  1.64195788e-02, -1.40251471e-03,  1.36831383e-04,\n",
       "        1.08469505e-03,  6.80556573e-01, -7.81287389e-04,  5.08254603e-03,\n",
       "        2.12220047e-03,  7.80401288e-03, -1.01823210e-02, -1.48012432e-03,\n",
       "       -9.96910795e-04, -2.83682276e-03,  6.15109715e-02,  1.44073572e-03,\n",
       "       -2.12047221e-03, -1.30438072e-03,  1.85514912e-02, -1.63860808e-05,\n",
       "        5.03251735e-03, -2.00762328e-05,  5.96841142e-01,  1.32961344e-03,\n",
       "       -4.88431749e-03, -5.15497976e-03, -2.48817843e-04, -7.95568042e-03,\n",
       "        2.20701198e-03, -4.26823616e-04, -6.35141677e-05,  5.95297756e-02,\n",
       "        1.25313906e-03, -1.97447649e-03, -4.50296719e-04,  1.90921439e-02,\n",
       "       -1.27113989e-04,  5.18369414e-03,  1.33387118e-03,  5.97079085e-01])"
      ]
     },
     "execution_count": 19,
     "metadata": {},
     "output_type": "execute_result"
    }
   ],
   "source": [
    "loss, theta_list = train(theta_list, 'L-BFGS-B', max_iter=30)\n",
    "\n",
    "# display training result\n",
    "plt.plot(pg)\n",
    "plt.plot(probability(theta_list))\n",
    "plt.legend(['Data', 'Quantum Circuit Born Machine'])\n",
    "plt.title('trained')\n",
    "plt.show()\n",
    "theta_list"
   ]
  },
  {
   "cell_type": "code",
   "execution_count": 20,
   "metadata": {},
   "outputs": [
    {
     "data": {
      "text/plain": [
       "array([[ 1.23107582e-02+0.00000000e+00j, -4.13193070e-04+5.52697183e-04j,\n",
       "        -2.20437657e-03+2.36931311e-03j,  4.81964666e-04-1.12315643e-04j,\n",
       "        -1.29070008e-02+1.47566518e-02j, -7.64255972e-04-3.71685658e-04j,\n",
       "         7.09405671e-04-1.07653375e-03j,  6.41405325e-04+6.03712196e-04j,\n",
       "        -1.45372998e-02-4.35570791e-02j, -3.42713395e-04+2.28184611e-03j,\n",
       "        -1.73114554e-03+8.33207155e-03j,  1.66841687e-03+1.80005913e-03j,\n",
       "        -1.99576813e-02+1.89240332e-02j,  2.97402016e-03+1.67436315e-03j,\n",
       "         3.37367249e-03-2.12220047e-03j,  2.64381186e-03+4.88431749e-03j],\n",
       "       [-4.13193070e-04-5.52697183e-04j,  1.36332759e-02+0.00000000e+00j,\n",
       "        -4.19870099e-04-6.00589136e-09j, -2.36038892e-03+2.47868072e-03j,\n",
       "         1.05093319e-03+1.03492315e-04j, -1.34314816e-02+1.52765815e-02j,\n",
       "         2.13589010e-03-5.67698973e-04j, -3.17958370e-04-8.79844791e-04j,\n",
       "        -2.01253845e-03-1.20118541e-04j, -1.13498422e-02-4.66023186e-02j,\n",
       "        -1.23834749e-03-1.64953644e-03j, -1.62509152e-03+7.95151873e-03j,\n",
       "        -9.66560846e-04-2.06857019e-04j, -2.10005975e-02+1.68047289e-02j,\n",
       "        -5.50823249e-03-7.80401288e-03j,  3.73782328e-03+5.15497976e-03j],\n",
       "       [-2.20437657e-03-2.36931311e-03j, -4.19870099e-04+6.00589136e-09j,\n",
       "         2.03515519e-02+0.00000000e+00j, -5.90204260e-04+6.33942898e-04j,\n",
       "         4.91716468e-04+1.58181639e-04j, -1.59429766e-03-5.75912350e-04j,\n",
       "        -1.48314855e-02+1.63346972e-02j,  6.92537141e-04-1.58543690e-04j,\n",
       "        -7.72777525e-03-1.18339985e-03j,  3.80979796e-04-1.70416626e-03j,\n",
       "        -1.47738358e-03-5.45678113e-02j, -3.92679199e-04+1.91249328e-03j,\n",
       "        -3.48010165e-03+8.41980846e-03j, -7.94245349e-03+5.50712732e-03j,\n",
       "        -2.27273400e-02+1.01823210e-02j, -1.14897563e-03+2.48817843e-04j],\n",
       "       [ 4.81964666e-04+1.12315643e-04j, -2.36038892e-03-2.47868072e-03j,\n",
       "        -5.90204260e-04-6.33942898e-04j,  2.46933545e-02+0.00000000e+00j,\n",
       "        -1.23695337e-03+6.01940002e-04j,  1.42224972e-03+2.16670963e-04j,\n",
       "        -4.95172690e-04+3.82640243e-05j, -1.52806331e-02+1.65587016e-02j,\n",
       "        -8.76222026e-04+2.04219828e-03j, -7.91916803e-03-1.50955324e-03j,\n",
       "        -2.12058740e-03-4.33740415e-04j,  1.90292569e-03-5.65873361e-02j,\n",
       "         8.54995863e-03-1.85767843e-03j, -1.62841350e-03+1.12973324e-03j,\n",
       "        -3.61851202e-04+1.48012432e-03j, -2.25607209e-02+7.95568042e-03j],\n",
       "       [-1.29070008e-02-1.47566518e-02j,  1.05093319e-03-1.03492315e-04j,\n",
       "         4.91716468e-04-1.58181639e-04j, -1.23695337e-03-6.01940002e-04j,\n",
       "         4.71501986e-02+0.00000000e+00j, -9.94393526e-04+1.01231468e-03j,\n",
       "        -4.30334951e-03+4.39856003e-03j, -5.96201803e-04+1.58323372e-05j,\n",
       "        -1.56252546e-02-1.31483000e-02j, -2.82237407e-03-3.55767936e-04j,\n",
       "        -1.54589941e-03+7.83606311e-03j, -3.85589701e-03+3.41439546e-05j,\n",
       "         3.70090344e-02-6.72907092e-02j, -1.21587423e-03+5.37344510e-04j,\n",
       "        -5.88320705e-03+9.96910795e-04j, -1.35107550e-03-2.20701198e-03j],\n",
       "       [-7.64255972e-04+3.71685658e-04j, -1.34314816e-02-1.52765815e-02j,\n",
       "        -1.59429766e-03+5.75912350e-04j,  1.42224972e-03-2.16670963e-04j,\n",
       "        -9.94393526e-04-1.01231468e-03j,  4.92406901e-02+0.00000000e+00j,\n",
       "         5.92431885e-04+6.05051663e-05j, -4.40996668e-03+4.45591299e-03j,\n",
       "         9.67538806e-05+9.00113826e-04j, -1.37308022e-02-1.37949019e-02j,\n",
       "         2.17576922e-03+3.30408830e-03j, -2.37876545e-03+6.49167688e-04j,\n",
       "        -8.56326702e-04-1.32158620e-03j,  3.98588150e-02-6.60860810e-02j,\n",
       "         1.03371311e-03+2.83682276e-03j, -6.30536459e-03+4.26823616e-04j],\n",
       "       [ 7.09405671e-04+1.07653375e-03j,  2.13589010e-03+5.67698973e-04j,\n",
       "        -1.48314855e-02-1.63346972e-02j, -4.95172690e-04-3.82640243e-05j,\n",
       "        -4.30334951e-03-4.39856003e-03j,  5.92431885e-04-6.05051663e-05j,\n",
       "         5.63178542e-02+0.00000000e+00j, -1.10926521e-03+1.18697693e-03j,\n",
       "        -1.89392887e-03-6.37130228e-03j,  9.17282361e-03-9.97193792e-03j,\n",
       "        -8.63136278e-03-1.54450899e-02j,  1.90299087e-03+1.35734569e-03j,\n",
       "        -1.17108443e-03-5.47516621e-03j, -4.55626918e-04+2.90209285e-03j,\n",
       "         4.75336173e-02-6.15109715e-02j, -1.73486243e-03+6.35141677e-05j],\n",
       "       [ 6.41405325e-04-6.03712196e-04j, -3.17958370e-04+8.79844791e-04j,\n",
       "         6.92537141e-04+1.58543690e-04j, -1.52806331e-02-1.65587016e-02j,\n",
       "        -5.96201803e-04-1.58323372e-05j, -4.40996668e-03-4.45591299e-03j,\n",
       "        -1.10926521e-03-1.18697693e-03j,  5.77129921e-02+0.00000000e+00j,\n",
       "        -5.22557354e-03+7.30684045e-03j, -3.68951998e-03+3.50977796e-04j,\n",
       "        -1.64134325e-03-1.04217862e-03j, -7.33012276e-03-1.57678728e-02j,\n",
       "         2.24297764e-04-2.82841270e-03j, -1.93358696e-04-5.50062352e-03j,\n",
       "         1.58963873e-04-1.44073572e-03j,  4.96775597e-02-5.95297756e-02j],\n",
       "       [-1.45372998e-02+4.35570791e-02j, -2.01253845e-03+1.20118541e-04j,\n",
       "        -7.72777525e-03+1.18339985e-03j, -8.76222026e-04-2.04219828e-03j,\n",
       "        -1.56252546e-02+1.31483000e-02j,  9.67538806e-05-9.00113826e-04j,\n",
       "        -1.89392887e-03+6.37130228e-03j, -5.22557354e-03-7.30684045e-03j,\n",
       "         1.08749801e-01+0.00000000e+00j,  3.46656069e-04-2.83976837e-04j,\n",
       "         1.45354403e-03-1.70924179e-03j, -6.00382331e-04+2.21428670e-04j,\n",
       "         1.26601208e-02-1.56099833e-02j,  6.73028415e-04+6.79597748e-04j,\n",
       "        -7.28989308e-04+2.12047221e-03j, -7.30858992e-04-1.25313906e-03j],\n",
       "       [-3.42713395e-04-2.28184611e-03j, -1.13498422e-02+4.66023186e-02j,\n",
       "         3.80979796e-04+1.70416626e-03j, -7.91916803e-03+1.50955324e-03j,\n",
       "        -2.82237407e-03+3.55767936e-04j, -1.37308022e-02+1.37949019e-02j,\n",
       "         9.17282361e-03+9.97193792e-03j, -3.68951998e-03-3.50977796e-04j,\n",
       "         3.46656069e-04+2.83976837e-04j,  1.10375065e-01+0.00000000e+00j,\n",
       "         3.84005040e-04+6.17957408e-05j,  1.67337968e-03-1.87244691e-03j,\n",
       "        -1.36637019e-03-2.64759232e-05j,  1.35319489e-02-1.64195788e-02j,\n",
       "        -2.13381019e-03+1.30438072e-03j,  2.72139577e-04+1.97447649e-03j],\n",
       "       [-1.73114554e-03-8.33207155e-03j, -1.23834749e-03+1.64953644e-03j,\n",
       "        -1.47738358e-03+5.45678113e-02j, -2.12058740e-03+4.33740415e-04j,\n",
       "        -1.54589941e-03-7.83606311e-03j,  2.17576922e-03-3.30408830e-03j,\n",
       "        -8.63136278e-03+1.54450899e-02j, -1.64134325e-03+1.04217862e-03j,\n",
       "         1.45354403e-03+1.70924179e-03j,  3.84005040e-04-6.17957408e-05j,\n",
       "         1.06348762e-01+0.00000000e+00j,  5.54938158e-04-4.60509463e-04j,\n",
       "        -1.60990583e-03-1.06068457e-04j,  1.35093673e-03+1.40251471e-03j,\n",
       "         1.59765230e-02-1.85514912e-02j, -8.05168905e-04+4.50296719e-04j],\n",
       "       [ 1.66841687e-03-1.80005913e-03j, -1.62509152e-03-7.95151873e-03j,\n",
       "        -3.92679199e-04-1.91249328e-03j,  1.90292569e-03+5.65873361e-02j,\n",
       "        -3.85589701e-03-3.41439546e-05j, -2.37876545e-03-6.49167688e-04j,\n",
       "         1.90299087e-03-1.35734569e-03j, -7.33012276e-03+1.57678728e-02j,\n",
       "        -6.00382331e-04-2.21428670e-04j,  1.67337968e-03+1.87244691e-03j,\n",
       "         5.54938158e-04+4.60509463e-04j,  9.97902655e-02+0.00000000e+00j,\n",
       "         1.23614882e-03-1.28334561e-03j, -2.52265104e-03-1.36831383e-04j,\n",
       "         1.91387132e-04+1.63860808e-05j,  1.66759570e-02-1.90921439e-02j],\n",
       "       [-1.99576813e-02-1.89240332e-02j, -9.66560846e-04+2.06857019e-04j,\n",
       "        -3.48010165e-03-8.41980846e-03j,  8.54995863e-03+1.85767843e-03j,\n",
       "         3.70090344e-02+6.72907092e-02j, -8.56326702e-04+1.32158620e-03j,\n",
       "        -1.17108443e-03+5.47516621e-03j,  2.24297764e-04+2.82841270e-03j,\n",
       "         1.26601208e-02+1.56099833e-02j, -1.36637019e-03+2.64759232e-05j,\n",
       "        -1.60990583e-03+1.06068457e-04j,  1.23614882e-03+1.28334561e-03j,\n",
       "         8.12168011e-02+0.00000000e+00j,  1.16800307e-03-1.08469505e-03j,\n",
       "         4.91855862e-03-5.03251735e-03j,  5.87039671e-04+1.27113989e-04j],\n",
       "       [ 2.97402016e-03-1.67436315e-03j, -2.10005975e-02-1.68047289e-02j,\n",
       "        -7.94245349e-03-5.50712732e-03j, -1.62841350e-03-1.12973324e-03j,\n",
       "        -1.21587423e-03-5.37344510e-04j,  3.98588150e-02+6.60860810e-02j,\n",
       "        -4.55626918e-04-2.90209285e-03j, -1.93358696e-04+5.50062352e-03j,\n",
       "         6.73028415e-04-6.79597748e-04j,  1.35319489e-02+1.64195788e-02j,\n",
       "         1.35093673e-03-1.40251471e-03j, -2.52265104e-03+1.36831383e-04j,\n",
       "         1.16800307e-03+1.08469505e-03j,  7.70091808e-02+0.00000000e+00j,\n",
       "        -7.81287389e-04+2.00762328e-05j,  5.08254603e-03-5.18369414e-03j],\n",
       "       [ 3.37367249e-03+2.12220047e-03j, -5.50823249e-03+7.80401288e-03j,\n",
       "        -2.27273400e-02-1.01823210e-02j, -3.61851202e-04-1.48012432e-03j,\n",
       "        -5.88320705e-03-9.96910795e-04j,  1.03371311e-03-2.83682276e-03j,\n",
       "         4.75336173e-02+6.15109715e-02j,  1.58963873e-04+1.44073572e-03j,\n",
       "        -7.28989308e-04-2.12047221e-03j, -2.13381019e-03-1.30438072e-03j,\n",
       "         1.59765230e-02+1.85514912e-02j,  1.91387132e-04-1.63860808e-05j,\n",
       "         4.91855862e-03+5.03251735e-03j, -7.81287389e-04-2.00762328e-05j,\n",
       "         6.75362627e-02+0.00000000e+00j,  1.32961344e-03-1.33387118e-03j],\n",
       "       [ 2.64381186e-03-4.88431749e-03j,  3.73782328e-03-5.15497976e-03j,\n",
       "        -1.14897563e-03-2.48817843e-04j, -2.25607209e-02-7.95568042e-03j,\n",
       "        -1.35107550e-03+2.20701198e-03j, -6.30536459e-03-4.26823616e-04j,\n",
       "        -1.73486243e-03-6.35141677e-05j,  4.96775597e-02+5.95297756e-02j,\n",
       "        -7.30858992e-04+1.25313906e-03j,  2.72139577e-04-1.97447649e-03j,\n",
       "        -8.05168905e-04-4.50296719e-04j,  1.66759570e-02+1.90921439e-02j,\n",
       "         5.87039671e-04-1.27113989e-04j,  5.08254603e-03+5.18369414e-03j,\n",
       "         1.32961344e-03+1.33387118e-03j,  6.75631873e-02+0.00000000e+00j]])"
      ]
     },
     "execution_count": 20,
     "metadata": {},
     "output_type": "execute_result"
    }
   ],
   "source": [
    "gen_densitymatrix(theta_list)"
   ]
  },
  {
   "cell_type": "code",
   "execution_count": 21,
   "metadata": {},
   "outputs": [
    {
     "data": {
      "text/plain": [
       "(0.1677081765101029+0j)"
      ]
     },
     "execution_count": 21,
     "metadata": {},
     "output_type": "execute_result"
    }
   ],
   "source": [
    "np.trace(gen_densitymatrix(theta_list)@gen_densitymatrix(theta_list))"
   ]
  },
  {
   "cell_type": "code",
   "execution_count": 22,
   "metadata": {},
   "outputs": [
    {
     "data": {
      "text/plain": [
       "(array([-0.03422911, -0.03031856, -0.02702183, -0.0237771 , -0.01122139,\n",
       "        -0.00915523, -0.00466489, -0.0006298 ,  0.12271072,  0.12794892,\n",
       "         0.13315201,  0.14004265,  0.14766699,  0.15232048,  0.15611473,\n",
       "         0.16106142]),\n",
       " array([[ 0.2049849 +0.00000000e+00j, -0.34300719+0.00000000e+00j,\n",
       "          0.19691163+0.00000000e+00j, -0.15737686+0.00000000e+00j,\n",
       "         -0.55734496+0.00000000e+00j, -0.22238563+0.00000000e+00j,\n",
       "          0.41385274+0.00000000e+00j, -0.27175592+0.00000000e+00j,\n",
       "         -0.15286715+0.00000000e+00j, -0.20204124+0.00000000e+00j,\n",
       "         -0.15764813+0.00000000e+00j, -0.18180151+0.00000000e+00j,\n",
       "         -0.06977511+0.00000000e+00j, -0.09350711+0.00000000e+00j,\n",
       "          0.15505227+0.00000000e+00j, -0.1087398 +0.00000000e+00j],\n",
       "        [ 0.37411561-3.83928861e-02j,  0.17747684-7.74954217e-02j,\n",
       "         -0.12328414-1.83509289e-01j,  0.04347461-2.17259769e-01j,\n",
       "         -0.12231877-1.37679338e-01j,  0.34097567+3.32502417e-01j,\n",
       "         -0.24007587-6.94807115e-03j, -0.4734922 +6.03061901e-02j,\n",
       "         -0.17333813+4.12081374e-02j,  0.13939519+2.18740117e-02j,\n",
       "          0.16932331+1.16138032e-02j, -0.13799024-9.94355883e-02j,\n",
       "         -0.02936837-5.36704428e-02j,  0.09710817+6.42418771e-02j,\n",
       "         -0.09626619+4.31875525e-02j, -0.17355009+9.43269737e-02j],\n",
       "        [ 0.32072477-2.08370462e-01j,  0.17559669-5.53868968e-02j,\n",
       "         -0.01833068+2.68502430e-02j, -0.00125544+2.20882621e-01j,\n",
       "          0.22347238-1.82977989e-01j, -0.57103119-6.95538926e-04j,\n",
       "         -0.03365862+1.42757381e-01j, -0.09196275+3.24490974e-01j,\n",
       "         -0.10394897+1.93608025e-01j,  0.0962838 -3.52331159e-02j,\n",
       "         -0.13381753+4.45809210e-02j,  0.24959131-1.08581837e-01j,\n",
       "          0.05361594-1.81324499e-02j, -0.15943691+2.08952490e-03j,\n",
       "         -0.04678907+5.49479730e-02j, -0.07660254+1.80885373e-01j],\n",
       "        [-0.15522657+6.49129717e-02j,  0.3211363 -1.63806164e-01j,\n",
       "          0.01316817-7.89874505e-02j,  0.01401187+1.42992553e-01j,\n",
       "         -0.38687045+3.68953188e-01j, -0.19745422+6.19549815e-02j,\n",
       "         -0.2883218 +3.52727066e-01j, -0.04659782-1.57030951e-01j,\n",
       "          0.05641212-8.91093838e-02j,  0.19910759-1.50458837e-01j,\n",
       "         -0.21059438+1.54422627e-01j, -0.13699887+1.38847664e-01j,\n",
       "         -0.12140926+3.16563991e-02j, -0.10064966+2.76439038e-02j,\n",
       "         -0.18893974+4.48751479e-02j,  0.08396721-2.50822832e-02j],\n",
       "        [-0.08396463+1.45946338e-01j,  0.12212324-3.78475154e-01j,\n",
       "          0.20612479+1.04407876e-01j, -0.16841836-4.16946727e-01j,\n",
       "         -0.04792205+3.17205072e-02j, -0.19246216-2.02042324e-02j,\n",
       "          0.00513135-2.77183912e-01j,  0.00878576+1.64605955e-01j,\n",
       "         -0.03503746+2.09382602e-01j,  0.02042479+2.31471165e-01j,\n",
       "         -0.13115711+1.41463905e-01j,  0.04282844+5.83396164e-03j,\n",
       "          0.12163608+1.24435356e-01j,  0.3852105 -2.57117064e-02j,\n",
       "         -0.20163714+1.49639373e-01j,  0.14334489-1.09726477e-01j],\n",
       "        [-0.09489354+2.00671807e-01j,  0.022753  +1.01190707e-01j,\n",
       "          0.32382254-4.73093385e-01j,  0.20266498-6.21363138e-02j,\n",
       "          0.0138338 -1.58988098e-01j,  0.04055913-4.39875726e-02j,\n",
       "          0.00923111+1.42286580e-01j, -0.05620888+2.94026895e-01j,\n",
       "          0.05916524+2.08547942e-01j,  0.04361714-1.93903222e-01j,\n",
       "          0.00997395-1.60366826e-01j, -0.12360229+4.90175893e-02j,\n",
       "          0.2353319 +3.69789798e-01j, -0.15084876-7.25686027e-02j,\n",
       "          0.03458457-1.63591115e-01j,  0.1201793 -1.86618886e-01j],\n",
       "        [ 0.28281839+3.21253794e-01j,  0.18205991+2.02085204e-01j,\n",
       "          0.11375526+3.44258254e-01j, -0.03895152+3.17748896e-02j,\n",
       "         -0.04535001+6.91712645e-02j,  0.05498075+5.92897281e-02j,\n",
       "          0.01652283+1.11093934e-01j,  0.18062262+2.67054381e-01j,\n",
       "          0.29540752+1.26067465e-01j, -0.11283568-1.84630051e-01j,\n",
       "          0.06292782+9.42155181e-02j, -0.06232683-1.59288288e-01j,\n",
       "         -0.32188465+1.31816693e-02j,  0.19429937+1.24715380e-02j,\n",
       "         -0.02888879-2.12646763e-01j, -0.24168919-2.01685422e-01j],\n",
       "        [-0.20882853-9.92016370e-02j,  0.28108815+2.31769480e-01j,\n",
       "          0.10421441-6.73228093e-02j, -0.45717861-8.73087948e-02j,\n",
       "          0.03529698-7.27421365e-02j, -0.001799  +1.44409876e-01j,\n",
       "          0.11689728+2.06485640e-01j, -0.06989754-6.74615648e-02j,\n",
       "         -0.18553313-8.69047178e-02j, -0.20635793-2.42649163e-01j,\n",
       "          0.09926162+2.32397090e-01j,  0.11664441+1.75087652e-02j,\n",
       "          0.21829243-1.09265350e-01j,  0.23256813-1.96351908e-01j,\n",
       "          0.06805167-2.70870875e-01j,  0.07469969+1.77864012e-01j],\n",
       "        [ 0.02675497-6.54522548e-02j, -0.00468159+2.84434997e-02j,\n",
       "          0.0903052 -5.33208601e-02j, -0.09968323-4.02221983e-02j,\n",
       "         -0.03794017+2.04971969e-01j, -0.11672551+1.16383161e-01j,\n",
       "         -0.0145876 -2.17965601e-01j, -0.01524191+1.73251240e-01j,\n",
       "         -0.08682495-4.23269547e-01j,  0.02725663-3.78281955e-01j,\n",
       "          0.06087721-5.16530777e-01j,  0.19101771-2.58868804e-01j,\n",
       "         -0.05550095-7.88626204e-02j,  0.07768533+5.69124211e-02j,\n",
       "         -0.17385842+1.08340422e-01j,  0.17345539-1.66888979e-01j],\n",
       "        [-0.01083628-1.19163201e-01j,  0.00833272-8.84139632e-02j,\n",
       "         -0.00928482-1.41295617e-01j, -0.03546819-7.36572469e-02j,\n",
       "         -0.09225398+2.31433429e-02j,  0.14011436-1.40109545e-01j,\n",
       "         -0.01534468+1.73087588e-01j,  0.0300989 +2.29933410e-01j,\n",
       "         -0.07051211-3.95929675e-01j,  0.06321752+3.86519123e-01j,\n",
       "         -0.05423486+3.02919711e-01j,  0.28582284-3.71064444e-01j,\n",
       "         -0.10059952+1.32393206e-01j, -0.12965446+4.64645049e-02j,\n",
       "          0.15553568-2.21118329e-01j,  0.02073353-2.63514603e-01j],\n",
       "        [-0.00291495-7.77581018e-02j,  0.05127666-6.46370917e-02j,\n",
       "          0.08096905+1.11025449e-01j,  0.10490794+3.05717216e-04j,\n",
       "         -0.1167205 -1.11828652e-01j,  0.05847883+2.69153881e-01j,\n",
       "          0.10658799+9.20622076e-02j,  0.23967671+4.86072978e-02j,\n",
       "         -0.34689591+5.61036157e-04j,  0.25653225+1.15098065e-01j,\n",
       "         -0.02717776-2.30273032e-01j,  0.26319422+5.11144103e-01j,\n",
       "         -0.0842129 -8.07929636e-02j,  0.05087691-1.66302641e-01j,\n",
       "          0.03319169-1.65753091e-01j, -0.21910884-2.67332253e-01j],\n",
       "        [-0.02652439+9.80353443e-02j,  0.01872717-1.17323898e-01j,\n",
       "         -0.0238358 -3.74531014e-02j, -0.05594239+1.64242427e-04j,\n",
       "          0.24668481+1.38064468e-01j,  0.03565774+1.55928892e-01j,\n",
       "          0.28736402+1.34010864e-01j, -0.14513448-1.36178213e-02j,\n",
       "          0.25710581-5.73493494e-02j,  0.31906641+2.09421033e-01j,\n",
       "         -0.41174969-3.10692019e-01j, -0.1920862 -1.60414267e-01j,\n",
       "          0.03292845-1.61339151e-01j,  0.14589521-1.19720640e-01j,\n",
       "          0.09727613-2.97480362e-01j,  0.00374895+1.96794660e-01j],\n",
       "        [ 0.20286984+6.96425077e-02j, -0.3214058 +1.21094539e-02j,\n",
       "          0.03113294-1.28982134e-01j, -0.24402361+2.47677313e-01j,\n",
       "          0.01463733-1.27608958e-01j,  0.08355037+6.14367312e-02j,\n",
       "         -0.12142427+2.24907724e-01j,  0.108985  -1.24375525e-01j,\n",
       "         -0.06283348+8.24464174e-02j, -0.05342752+1.19612010e-01j,\n",
       "         -0.08372668-8.76494113e-02j,  0.13850475+8.99535991e-02j,\n",
       "         -0.07443172+1.66211819e-01j,  0.28326945+4.47900075e-01j,\n",
       "         -0.30183068-1.85647793e-01j,  0.27663551+7.82883238e-02j],\n",
       "        [ 0.21493586+6.26375098e-02j,  0.14521096-2.39747701e-02j,\n",
       "         -0.46029008-5.87194592e-02j, -0.12630434-1.04235404e-01j,\n",
       "         -0.05545781-1.12275899e-03j, -0.12797821+9.69114615e-02j,\n",
       "          0.09624129-1.29592552e-01j,  0.12217868-2.08166323e-01j,\n",
       "         -0.04925288+1.04109929e-01j,  0.07437153-7.92238434e-02j,\n",
       "          0.05293153-8.06890938e-02j,  0.02969927-2.32740487e-02j,\n",
       "         -0.25049114+4.79059124e-01j, -0.01811834-2.19984656e-01j,\n",
       "          0.30201606-7.56995494e-02j,  0.31494741+3.37303680e-03j],\n",
       "        [ 0.1334012 -3.71940822e-01j,  0.1166313 -2.20601715e-01j,\n",
       "          0.15284296-2.57470184e-01j, -0.00400453+7.95482147e-03j,\n",
       "          0.1452678 +3.98595582e-02j, -0.04703149-2.46843481e-01j,\n",
       "          0.04180449-1.16470999e-01j, -0.06273681-2.50138886e-01j,\n",
       "          0.07356164+2.22883791e-01j,  0.03112381-1.91931519e-01j,\n",
       "          0.04166382+5.98036125e-02j, -0.07944681+3.44350411e-02j,\n",
       "         -0.20435056-2.88100830e-01j,  0.14847566+1.93560754e-01j,\n",
       "          0.20763351-2.09086812e-01j,  0.04434864-3.81364282e-01j],\n",
       "        [ 0.00075005+1.99344429e-01j,  0.05691868-2.91711536e-01j,\n",
       "         -0.03180092-2.19521939e-02j,  0.21215466+4.06484757e-01j,\n",
       "         -0.20176873-5.06163985e-02j,  0.05448483-1.25992411e-01j,\n",
       "         -0.10780651-2.43453038e-01j,  0.02806319+9.79341721e-02j,\n",
       "         -0.06276552-1.64573809e-01j,  0.02061125-1.88536499e-01j,\n",
       "         -0.03171375+5.61716171e-02j,  0.10448264+1.01248702e-03j,\n",
       "          0.23550448+5.78639516e-02j,  0.38020986+7.74994357e-02j,\n",
       "          0.37532026-1.22701882e-01j, -0.122123  +2.33500989e-01j]]))"
      ]
     },
     "execution_count": 22,
     "metadata": {},
     "output_type": "execute_result"
    }
   ],
   "source": [
    "np.linalg.eigh(gen_densitymatrix(theta_list))"
   ]
  },
  {
   "cell_type": "code",
   "execution_count": null,
   "metadata": {},
   "outputs": [],
   "source": []
  }
 ],
 "metadata": {
  "accelerator": "GPU",
  "colab": {
   "collapsed_sections": [],
   "name": "Copy of BornMachinePOVM.ipynb",
   "provenance": []
  },
  "kernelspec": {
   "display_name": "Python 3",
   "language": "python",
   "name": "python3"
  },
  "language_info": {
   "codemirror_mode": {
    "name": "ipython",
    "version": 3
   },
   "file_extension": ".py",
   "mimetype": "text/x-python",
   "name": "python",
   "nbconvert_exporter": "python",
   "pygments_lexer": "ipython3",
   "version": "3.6.5"
  }
 },
 "nbformat": 4,
 "nbformat_minor": 1
}
